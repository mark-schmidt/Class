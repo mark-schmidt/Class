{
 "cells": [
  {
   "cell_type": "markdown",
   "metadata": {},
   "source": [
    "# Lecture 2: Exploratory Data Analysis\n",
    "\n",
    "CPSC 340: Machine Learning and Data Mining\n",
    "\n",
    "The University of British Columbia\n",
    "\n",
    "2018 Winter Term 1\n",
    "\n",
    "By Mike Gelbart (converted to Julia by Jason Chau)"
   ]
  },
  {
   "cell_type": "code",
   "execution_count": 2,
   "metadata": {},
   "outputs": [
    {
     "data": {
      "text/plain": [
       "PyObject <module 'seaborn' from 'C:\\\\Users\\\\jasonsyc.STUDENTS.000\\\\.julia\\\\conda\\\\3\\\\lib\\\\site-packages\\\\seaborn\\\\__init__.py'>"
      ]
     },
     "execution_count": 2,
     "metadata": {},
     "output_type": "execute_result"
    }
   ],
   "source": [
    "using Printf\n",
    "#= run once\n",
    "    using Pkg\n",
    "    Pkg.add(\"PyCall\")\n",
    "    Pkg.add(\"Conda\")\n",
    "    using Conda\n",
    "    Conda.add(\"seaborn\")\n",
    "    Pkg.add(\"FileIO\")\n",
    "    Pkg.add(\"Pandas\")\n",
    "    Pkg.add(\"ImageMagick\")\n",
    "    Pkg.add(\"ImageView\")\n",
    "    Pkg.add(\"Images\")\n",
    "    Pkg.build(\"ImageMagick\")\n",
    "=#\n",
    "using PyCall\n",
    "SkText = pyimport(\"sklearn.feature_extraction.text\")\n",
    "using Pandas\n",
    "using FileIO, Images, ImageView\n",
    "sns = pyimport(\"seaborn\")"
   ]
  },
  {
   "cell_type": "markdown",
   "metadata": {},
   "source": [
    "## Typical steps of ML\n",
    "\n",
    "1. Identify question / task\n",
    "2. Collect data\n",
    "3. Clean and preprocess data\n",
    "4. Exploratory data anlysis\n",
    "5. Feature and model selection\n",
    "6. Train model\n",
    "7. Evaluate and communicate results\n",
    "8. Deploy working system\n",
    "\n",
    "(but not necessarily in this order...)\n",
    "\n",
    "Today we'll discuss steps (3) and (4)"
   ]
  },
  {
   "cell_type": "markdown",
   "metadata": {},
   "source": [
    "## What does data look like?\n",
    "\n",
    "Often, it is tabular (but certainly not always!)."
   ]
  },
  {
   "cell_type": "code",
   "execution_count": 32,
   "metadata": {},
   "outputs": [
    {
     "data": {
      "text/html": [
       "<div>\n",
       "<style scoped>\n",
       "    .dataframe tbody tr th:only-of-type {\n",
       "        vertical-align: middle;\n",
       "    }\n",
       "\n",
       "    .dataframe tbody tr th {\n",
       "        vertical-align: top;\n",
       "    }\n",
       "\n",
       "    .dataframe thead th {\n",
       "        text-align: right;\n",
       "    }\n",
       "</style>\n",
       "<table border=\"1\" class=\"dataframe\">\n",
       "  <thead>\n",
       "    <tr style=\"text-align: right;\">\n",
       "      <th></th>\n",
       "      <th>survived</th>\n",
       "      <th>pclass</th>\n",
       "      <th>sex</th>\n",
       "      <th>age</th>\n",
       "      <th>sibsp</th>\n",
       "      <th>parch</th>\n",
       "      <th>fare</th>\n",
       "      <th>embarked</th>\n",
       "      <th>class</th>\n",
       "      <th>who</th>\n",
       "      <th>adult_male</th>\n",
       "      <th>deck</th>\n",
       "      <th>embark_town</th>\n",
       "      <th>alive</th>\n",
       "      <th>alone</th>\n",
       "    </tr>\n",
       "  </thead>\n",
       "  <tbody>\n",
       "    <tr>\n",
       "      <th>0</th>\n",
       "      <td>0</td>\n",
       "      <td>3</td>\n",
       "      <td>male</td>\n",
       "      <td>22.0</td>\n",
       "      <td>1</td>\n",
       "      <td>0</td>\n",
       "      <td>7.2500</td>\n",
       "      <td>S</td>\n",
       "      <td>Third</td>\n",
       "      <td>man</td>\n",
       "      <td>True</td>\n",
       "      <td>NaN</td>\n",
       "      <td>Southampton</td>\n",
       "      <td>no</td>\n",
       "      <td>False</td>\n",
       "    </tr>\n",
       "    <tr>\n",
       "      <th>1</th>\n",
       "      <td>1</td>\n",
       "      <td>1</td>\n",
       "      <td>female</td>\n",
       "      <td>38.0</td>\n",
       "      <td>1</td>\n",
       "      <td>0</td>\n",
       "      <td>71.2833</td>\n",
       "      <td>C</td>\n",
       "      <td>First</td>\n",
       "      <td>woman</td>\n",
       "      <td>False</td>\n",
       "      <td>C</td>\n",
       "      <td>Cherbourg</td>\n",
       "      <td>yes</td>\n",
       "      <td>False</td>\n",
       "    </tr>\n",
       "    <tr>\n",
       "      <th>2</th>\n",
       "      <td>1</td>\n",
       "      <td>3</td>\n",
       "      <td>female</td>\n",
       "      <td>26.0</td>\n",
       "      <td>0</td>\n",
       "      <td>0</td>\n",
       "      <td>7.9250</td>\n",
       "      <td>S</td>\n",
       "      <td>Third</td>\n",
       "      <td>woman</td>\n",
       "      <td>False</td>\n",
       "      <td>NaN</td>\n",
       "      <td>Southampton</td>\n",
       "      <td>yes</td>\n",
       "      <td>True</td>\n",
       "    </tr>\n",
       "    <tr>\n",
       "      <th>3</th>\n",
       "      <td>1</td>\n",
       "      <td>1</td>\n",
       "      <td>female</td>\n",
       "      <td>35.0</td>\n",
       "      <td>1</td>\n",
       "      <td>0</td>\n",
       "      <td>53.1000</td>\n",
       "      <td>S</td>\n",
       "      <td>First</td>\n",
       "      <td>woman</td>\n",
       "      <td>False</td>\n",
       "      <td>C</td>\n",
       "      <td>Southampton</td>\n",
       "      <td>yes</td>\n",
       "      <td>False</td>\n",
       "    </tr>\n",
       "    <tr>\n",
       "      <th>4</th>\n",
       "      <td>0</td>\n",
       "      <td>3</td>\n",
       "      <td>male</td>\n",
       "      <td>35.0</td>\n",
       "      <td>0</td>\n",
       "      <td>0</td>\n",
       "      <td>8.0500</td>\n",
       "      <td>S</td>\n",
       "      <td>Third</td>\n",
       "      <td>man</td>\n",
       "      <td>True</td>\n",
       "      <td>NaN</td>\n",
       "      <td>Southampton</td>\n",
       "      <td>no</td>\n",
       "      <td>True</td>\n",
       "    </tr>\n",
       "  </tbody>\n",
       "</table>\n",
       "</div>"
      ],
      "text/plain": [
       "PyObject    survived  pclass     sex   age  ...  deck  embark_town  alive  alone\n",
       "0         0       3    male  22.0  ...   NaN  Southampton     no  False\n",
       "1         1       1  female  38.0  ...     C    Cherbourg    yes  False\n",
       "2         1       3  female  26.0  ...   NaN  Southampton    yes   True\n",
       "3         1       1  female  35.0  ...     C  Southampton    yes  False\n",
       "4         0       3    male  35.0  ...   NaN  Southampton     no   True\n",
       "\n",
       "[5 rows x 15 columns]"
      ]
     },
     "execution_count": 32,
     "metadata": {},
     "output_type": "execute_result"
    }
   ],
   "source": [
    "titanic = sns.load_dataset(\"titanic\")\n",
    "titanic.head()"
   ]
  },
  {
   "cell_type": "markdown",
   "metadata": {},
   "source": [
    "- Each row is an **example**.\n",
    "- Each column is a **feature**."
   ]
  },
  {
   "cell_type": "markdown",
   "metadata": {},
   "source": [
    "## Types of features\n",
    "\n",
    "- Categorical (e.g. `survived`, `embark_town`)\n",
    "- Numerical (e.g. age, fare)\n",
    "- Some are more ambiguous, like `pclass`: is this categorical or numerical?\n",
    "\n",
    "Many of our methods are meant to work with numerical features. We can convert categorical to numerical."
   ]
  },
  {
   "cell_type": "code",
   "execution_count": 6,
   "metadata": {},
   "outputs": [
    {
     "data": {
      "text/html": [
       "<div>\n",
       "<style scoped>\n",
       "    .dataframe tbody tr th:only-of-type {\n",
       "        vertical-align: middle;\n",
       "    }\n",
       "\n",
       "    .dataframe tbody tr th {\n",
       "        vertical-align: top;\n",
       "    }\n",
       "\n",
       "    .dataframe thead th {\n",
       "        text-align: right;\n",
       "    }\n",
       "</style>\n",
       "<table border=\"1\" class=\"dataframe\">\n",
       "  <thead>\n",
       "    <tr style=\"text-align: right;\">\n",
       "      <th></th>\n",
       "      <th>survived</th>\n",
       "      <th>pclass</th>\n",
       "      <th>sex</th>\n",
       "      <th>age</th>\n",
       "      <th>sibsp</th>\n",
       "      <th>parch</th>\n",
       "      <th>fare</th>\n",
       "      <th>class</th>\n",
       "      <th>who</th>\n",
       "      <th>adult_male</th>\n",
       "      <th>deck</th>\n",
       "      <th>embark_town</th>\n",
       "      <th>alive</th>\n",
       "      <th>alone</th>\n",
       "      <th>embarked_C</th>\n",
       "      <th>embarked_Q</th>\n",
       "      <th>embarked_S</th>\n",
       "    </tr>\n",
       "  </thead>\n",
       "  <tbody>\n",
       "    <tr>\n",
       "      <th>0</th>\n",
       "      <td>0</td>\n",
       "      <td>3</td>\n",
       "      <td>male</td>\n",
       "      <td>22.0</td>\n",
       "      <td>1</td>\n",
       "      <td>0</td>\n",
       "      <td>7.2500</td>\n",
       "      <td>Third</td>\n",
       "      <td>man</td>\n",
       "      <td>True</td>\n",
       "      <td>NaN</td>\n",
       "      <td>Southampton</td>\n",
       "      <td>no</td>\n",
       "      <td>False</td>\n",
       "      <td>0</td>\n",
       "      <td>0</td>\n",
       "      <td>1</td>\n",
       "    </tr>\n",
       "    <tr>\n",
       "      <th>1</th>\n",
       "      <td>1</td>\n",
       "      <td>1</td>\n",
       "      <td>female</td>\n",
       "      <td>38.0</td>\n",
       "      <td>1</td>\n",
       "      <td>0</td>\n",
       "      <td>71.2833</td>\n",
       "      <td>First</td>\n",
       "      <td>woman</td>\n",
       "      <td>False</td>\n",
       "      <td>C</td>\n",
       "      <td>Cherbourg</td>\n",
       "      <td>yes</td>\n",
       "      <td>False</td>\n",
       "      <td>1</td>\n",
       "      <td>0</td>\n",
       "      <td>0</td>\n",
       "    </tr>\n",
       "    <tr>\n",
       "      <th>2</th>\n",
       "      <td>1</td>\n",
       "      <td>3</td>\n",
       "      <td>female</td>\n",
       "      <td>26.0</td>\n",
       "      <td>0</td>\n",
       "      <td>0</td>\n",
       "      <td>7.9250</td>\n",
       "      <td>Third</td>\n",
       "      <td>woman</td>\n",
       "      <td>False</td>\n",
       "      <td>NaN</td>\n",
       "      <td>Southampton</td>\n",
       "      <td>yes</td>\n",
       "      <td>True</td>\n",
       "      <td>0</td>\n",
       "      <td>0</td>\n",
       "      <td>1</td>\n",
       "    </tr>\n",
       "    <tr>\n",
       "      <th>3</th>\n",
       "      <td>1</td>\n",
       "      <td>1</td>\n",
       "      <td>female</td>\n",
       "      <td>35.0</td>\n",
       "      <td>1</td>\n",
       "      <td>0</td>\n",
       "      <td>53.1000</td>\n",
       "      <td>First</td>\n",
       "      <td>woman</td>\n",
       "      <td>False</td>\n",
       "      <td>C</td>\n",
       "      <td>Southampton</td>\n",
       "      <td>yes</td>\n",
       "      <td>False</td>\n",
       "      <td>0</td>\n",
       "      <td>0</td>\n",
       "      <td>1</td>\n",
       "    </tr>\n",
       "    <tr>\n",
       "      <th>4</th>\n",
       "      <td>0</td>\n",
       "      <td>3</td>\n",
       "      <td>male</td>\n",
       "      <td>35.0</td>\n",
       "      <td>0</td>\n",
       "      <td>0</td>\n",
       "      <td>8.0500</td>\n",
       "      <td>Third</td>\n",
       "      <td>man</td>\n",
       "      <td>True</td>\n",
       "      <td>NaN</td>\n",
       "      <td>Southampton</td>\n",
       "      <td>no</td>\n",
       "      <td>True</td>\n",
       "      <td>0</td>\n",
       "      <td>0</td>\n",
       "      <td>1</td>\n",
       "    </tr>\n",
       "  </tbody>\n",
       "</table>\n",
       "</div>"
      ],
      "text/plain": [
       "PyObject    survived  pclass     sex   age  ...  alone  embarked_C  embarked_Q embarked_S\n",
       "0         0       3    male  22.0  ...  False           0           0          1\n",
       "1         1       1  female  38.0  ...  False           1           0          0\n",
       "2         1       3  female  26.0  ...   True           0           0          1\n",
       "3         1       1  female  35.0  ...  False           0           0          1\n",
       "4         0       3    male  35.0  ...   True           0           0          1\n",
       "\n",
       "[5 rows x 17 columns]"
      ]
     },
     "execution_count": 6,
     "metadata": {},
     "output_type": "execute_result"
    }
   ],
   "source": [
    "PyObject(get_dummies(titanic, columns=[\"embarked\"])).head()"
   ]
  },
  {
   "cell_type": "markdown",
   "metadata": {},
   "source": [
    "If we do this for all our features, we can now interpret objects as points in space."
   ]
  },
  {
   "cell_type": "code",
   "execution_count": 7,
   "metadata": {},
   "outputs": [
    {
     "data": {
      "text/plain": [
       "(891, 280)"
      ]
     },
     "execution_count": 7,
     "metadata": {},
     "output_type": "execute_result"
    }
   ],
   "source": [
    "titanic_num = PyObject(get_dummies(titanic, columns=[\"sex\",\"embarked\",\"fare\",\"class\",\"who\",\"adult_male\",\"deck\",\"embark_town\",\"alive\",\"alone\"]))\n",
    "titanic_num.shape"
   ]
  },
  {
   "cell_type": "markdown",
   "metadata": {},
   "source": [
    "- So we now have 891 objects and 280 features. \n",
    "- In other words, each object is a point in 280-dimensional space.\n",
    "- This is why multivariable calculus is a prerequisite for CPSC 340."
   ]
  },
  {
   "cell_type": "markdown",
   "metadata": {},
   "source": [
    "### Other feature types: text data "
   ]
  },
  {
   "cell_type": "code",
   "execution_count": 7,
   "metadata": {},
   "outputs": [
    {
     "data": {
      "text/plain": [
       "\"The University of British Columbia (UBC) is a public research university with campuses and facilities in British Columbia, Canada.\""
      ]
     },
     "execution_count": 7,
     "metadata": {},
     "output_type": "execute_result"
    }
   ],
   "source": [
    "text = \"The University of British Columbia (UBC) is a public research university with campuses and facilities in British Columbia, Canada.\""
   ]
  },
  {
   "cell_type": "markdown",
   "metadata": {},
   "source": [
    "One approach: **bag of words** features. "
   ]
  },
  {
   "cell_type": "code",
   "execution_count": 8,
   "metadata": {},
   "outputs": [
    {
     "data": {
      "text/plain": [
       "PyObject <1x15 sparse matrix of type '<class 'numpy.int64'>'\n",
       "\twith 15 stored elements in Compressed Sparse Row format>"
      ]
     },
     "execution_count": 8,
     "metadata": {},
     "output_type": "execute_result"
    }
   ],
   "source": [
    "cv = SkText.CountVectorizer()\n",
    "feat = cv.fit_transform([text])"
   ]
  },
  {
   "cell_type": "code",
   "execution_count": 34,
   "metadata": {},
   "outputs": [
    {
     "name": "stdout",
     "output_type": "stream",
     "text": [
      "public        9\n",
      "is            7\n",
      "and           0\n",
      "university    13\n",
      "in            6\n",
      "facilities    5\n",
      "research      10\n",
      "british       1\n",
      "the           11\n",
      "campuses      2\n",
      "with          14\n",
      "canada        3\n",
      "of            8\n",
      "ubc           12\n",
      "columbia      4\n"
     ]
    }
   ],
   "source": [
    "for (k,v) in cv.vocabulary_\n",
    "   Printf.@printf(\"%-14s%d\\n\",k,convert(Int64,v))\n",
    "end"
   ]
  },
  {
   "cell_type": "code",
   "execution_count": 30,
   "metadata": {},
   "outputs": [
    {
     "data": {
      "text/plain": [
       "Dict{Any,Any} with 15 entries:\n",
       "  \"public\"     => PyObject 9\n",
       "  \"is\"         => PyObject 7\n",
       "  \"and\"        => PyObject 0\n",
       "  \"university\" => PyObject 13\n",
       "  \"in\"         => PyObject 6\n",
       "  \"facilities\" => PyObject 5\n",
       "  \"research\"   => PyObject 10\n",
       "  \"british\"    => PyObject 1\n",
       "  \"the\"        => PyObject 11\n",
       "  \"campuses\"   => PyObject 2\n",
       "  \"with\"       => PyObject 14\n",
       "  \"canada\"     => PyObject 3\n",
       "  \"of\"         => PyObject 8\n",
       "  \"ubc\"        => PyObject 12\n",
       "  \"columbia\"   => PyObject 4"
      ]
     },
     "execution_count": 30,
     "metadata": {},
     "output_type": "execute_result"
    }
   ],
   "source": [
    "cv.vocabulary_"
   ]
  },
  {
   "cell_type": "markdown",
   "metadata": {},
   "source": [
    "- Bag of words ignores the order of words but still can work well.\n",
    "- You can interpret each document as a point in space, compute distances."
   ]
  },
  {
   "cell_type": "markdown",
   "metadata": {},
   "source": [
    "### Other feature types: images"
   ]
  },
  {
   "cell_type": "code",
   "execution_count": 1,
   "metadata": {},
   "outputs": [
    {
     "name": "stdout",
     "output_type": "stream",
     "text": [
      "\u001b[32m\u001b[1m  Updating\u001b[22m\u001b[39m registry at `C:\\Users\\jasonsyc.STUDENTS.000\\.julia\\registries\\General`\n",
      "\u001b[32m\u001b[1m  Updating\u001b[22m\u001b[39m git-repo `https://github.com/JuliaRegistries/General.git`\n",
      "\u001b[?25l\u001b[2K\u001b[?25h\u001b[32m\u001b[1m Resolving\u001b[22m\u001b[39m package versions...\n",
      "\u001b[32m\u001b[1m Installed\u001b[22m\u001b[39m WinRPM ─────────── v0.4.2\n",
      "\u001b[32m\u001b[1m Installed\u001b[22m\u001b[39m RoundingIntegers ─ v0.2.0\n",
      "\u001b[32m\u001b[1m Installed\u001b[22m\u001b[39m Reactive ───────── v0.8.3\n",
      "\u001b[32m\u001b[1m Installed\u001b[22m\u001b[39m BufferedStreams ── v1.0.0\n",
      "\u001b[32m\u001b[1m Installed\u001b[22m\u001b[39m Homebrew ───────── v0.7.1\n",
      "\u001b[32m\u001b[1m Installed\u001b[22m\u001b[39m LibExpat ───────── v0.5.0\n",
      "\u001b[32m\u001b[1m Installed\u001b[22m\u001b[39m ImageView ──────── v0.9.0\n",
      "\u001b[32m\u001b[1m Installed\u001b[22m\u001b[39m Cairo ──────────── v0.6.0\n",
      "\u001b[32m\u001b[1m Installed\u001b[22m\u001b[39m HTTPClient ─────── v0.2.1\n",
      "\u001b[32m\u001b[1m Installed\u001b[22m\u001b[39m LibCURL ────────── v0.5.2\n",
      "\u001b[32m\u001b[1m Installed\u001b[22m\u001b[39m Libz ───────────── v1.0.0\n",
      "\u001b[32m\u001b[1m Installed\u001b[22m\u001b[39m GtkReactive ────── v0.6.0\n",
      "\u001b[32m\u001b[1m Installed\u001b[22m\u001b[39m Gtk ────────────── v0.17.0\n",
      "\u001b[32m\u001b[1m  Updating\u001b[22m\u001b[39m `C:\\Users\\jasonsyc.STUDENTS.000\\.julia\\environments\\v0.7\\Project.toml`\n",
      " \u001b[90m [86fae568]\u001b[39m\u001b[92m + ImageView v0.9.0\u001b[39m\n",
      "\u001b[32m\u001b[1m  Updating\u001b[22m\u001b[39m `C:\\Users\\jasonsyc.STUDENTS.000\\.julia\\environments\\v0.7\\Manifest.toml`\n",
      " \u001b[90m [e1450e63]\u001b[39m\u001b[92m + BufferedStreams v1.0.0\u001b[39m\n",
      " \u001b[90m [159f3aea]\u001b[39m\u001b[92m + Cairo v0.6.0\u001b[39m\n",
      " \u001b[90m [4c0ca9eb]\u001b[39m\u001b[92m + Gtk v0.17.0\u001b[39m\n",
      " \u001b[90m [27996c0f]\u001b[39m\u001b[92m + GtkReactive v0.6.0\u001b[39m\n",
      " \u001b[90m [0862f596]\u001b[39m\u001b[92m + HTTPClient v0.2.1\u001b[39m\n",
      " \u001b[90m [d9be37ee]\u001b[39m\u001b[92m + Homebrew v0.7.1\u001b[39m\n",
      " \u001b[90m [86fae568]\u001b[39m\u001b[92m + ImageView v0.9.0\u001b[39m\n",
      " \u001b[90m [b27032c2]\u001b[39m\u001b[92m + LibCURL v0.5.2\u001b[39m\n",
      " \u001b[90m [522f3ed2]\u001b[39m\u001b[92m + LibExpat v0.5.0\u001b[39m\n",
      " \u001b[90m [2ec943e9]\u001b[39m\u001b[92m + Libz v1.0.0\u001b[39m\n",
      " \u001b[90m [a223df75]\u001b[39m\u001b[92m + Reactive v0.8.3\u001b[39m\n",
      " \u001b[90m [d5f540fe]\u001b[39m\u001b[92m + RoundingIntegers v0.2.0\u001b[39m\n",
      " \u001b[90m [c17dfb99]\u001b[39m\u001b[92m + WinRPM v0.4.2\u001b[39m\n",
      "\u001b[32m\u001b[1m  Building\u001b[22m\u001b[39m Homebrew → `C:\\Users\\jasonsyc.STUDENTS.000\\.julia\\packages\\Homebrew\\s09IX\\deps\\build.log`\n",
      "\u001b[32m\u001b[1m  Building\u001b[22m\u001b[39m LibCURL ─→ `C:\\Users\\jasonsyc.STUDENTS.000\\.julia\\packages\\LibCURL\\lWJxD\\deps\\build.log`\n",
      "\u001b[32m\u001b[1m  Building\u001b[22m\u001b[39m WinRPM ──→ `C:\\Users\\jasonsyc.STUDENTS.000\\.julia\\packages\\WinRPM\\Y9QdZ\\deps\\build.log`\n",
      "\u001b[32m\u001b[1m  Building\u001b[22m\u001b[39m Cairo ───→ `C:\\Users\\jasonsyc.STUDENTS.000\\.julia\\packages\\Cairo\\p68X8\\deps\\build.log`\n",
      "\u001b[32m\u001b[1m  Building\u001b[22m\u001b[39m Gtk ─────→ `C:\\Users\\jasonsyc.STUDENTS.000\\.julia\\packages\\Gtk\\aP55V\\deps\\build.log`\n"
     ]
    },
    {
     "name": "stderr",
     "output_type": "stream",
     "text": [
      "┌ Info: Precompiling ImageView [86fae568-95e7-573e-a6b2-d8a6b900c9ef]\n",
      "└ @ Base loading.jl:1187\n",
      "┌ Info: Precompiling ImageMagick [6218d12a-5da1-5696-b52f-db25d2ecc6d1]\n",
      "└ @ Base loading.jl:1187\n",
      "ERROR: LoadError: LoadError: ImageMagick not properly installed. Please run Pkg.build(\"ImageMagick\") then restart Julia.\n",
      "Stacktrace:\n",
      " [1] error(::String) at .\\error.jl:33\n",
      " [2] top-level scope at C:\\Users\\jasonsyc.STUDENTS.000\\.julia\\packages\\ImageMagick\\d5KBL\\src\\libmagickwand.jl:25\n",
      " [3] include at .\\boot.jl:317 [inlined]\n",
      " [4] include_relative(::Module, ::String) at .\\loading.jl:1038\n",
      " [5] include at .\\sysimg.jl:29 [inlined]\n",
      " [6] include(::String) at C:\\Users\\jasonsyc.STUDENTS.000\\.julia\\packages\\ImageMagick\\d5KBL\\src\\ImageMagick.jl:1\n",
      " [7] top-level scope at none:0\n",
      " [8] include at .\\boot.jl:317 [inlined]\n",
      " [9] include_relative(::Module, ::String) at .\\loading.jl:1038\n",
      " [10] include(::Module, ::String) at .\\sysimg.jl:29\n",
      " [11] top-level scope at none:2\n",
      " [12] eval at .\\boot.jl:319 [inlined]\n",
      " [13] eval(::Expr) at .\\client.jl:399\n",
      " [14] top-level scope at .\\none:3\n",
      "in expression starting at C:\\Users\\jasonsyc.STUDENTS.000\\.julia\\packages\\ImageMagick\\d5KBL\\src\\libmagickwand.jl:22\n",
      "in expression starting at C:\\Users\\jasonsyc.STUDENTS.000\\.julia\\packages\\ImageMagick\\d5KBL\\src\\ImageMagick.jl:18\n",
      "Error encountered while loading \"Z:\\\\Documents\\\\mikelectures\\\\img\\\\elephant.jpg\".\n",
      "Fatal error:\n"
     ]
    },
    {
     "ename": "ErrorException",
     "evalue": "Failed to precompile ImageMagick [6218d12a-5da1-5696-b52f-db25d2ecc6d1] to C:\\Users\\jasonsyc.STUDENTS.000\\.julia\\compiled\\v0.7\\ImageMagick\\0LbNX.ji.",
     "output_type": "error",
     "traceback": [
      "Failed to precompile ImageMagick [6218d12a-5da1-5696-b52f-db25d2ecc6d1] to C:\\Users\\jasonsyc.STUDENTS.000\\.julia\\compiled\\v0.7\\ImageMagick\\0LbNX.ji.",
      "",
      "Stacktrace:",
      " [1] handle_error(::ErrorException, ::FileIO.File{FileIO.DataFormat{:JPEG}}) at C:\\Users\\jasonsyc.STUDENTS.000\\.julia\\packages\\FileIO\\JAtC1\\src\\error_handling.jl:80",
      " [2] handle_exceptions(::Array{Any,1}, ::String) at C:\\Users\\jasonsyc.STUDENTS.000\\.julia\\packages\\FileIO\\JAtC1\\src\\error_handling.jl:75",
      " [3] #load#27(::Base.Iterators.Pairs{Union{},Union{},Tuple{},NamedTuple{(),Tuple{}}}, ::Function, ::FileIO.File{FileIO.DataFormat{:JPEG}}) at C:\\Users\\jasonsyc.STUDENTS.000\\.julia\\packages\\FileIO\\JAtC1\\src\\loadsave.jl:193",
      " [4] load(::FileIO.File{FileIO.DataFormat{:JPEG}}) at C:\\Users\\jasonsyc.STUDENTS.000\\.julia\\packages\\FileIO\\JAtC1\\src\\loadsave.jl:172",
      " [5] #load#13(::Base.Iterators.Pairs{Union{},Union{},Tuple{},NamedTuple{(),Tuple{}}}, ::Function, ::String) at C:\\Users\\jasonsyc.STUDENTS.000\\.julia\\packages\\FileIO\\JAtC1\\src\\loadsave.jl:118",
      " [6] load(::String) at C:\\Users\\jasonsyc.STUDENTS.000\\.julia\\packages\\FileIO\\JAtC1\\src\\loadsave.jl:118",
      " [7] top-level scope at In[1]:5"
     ]
    }
   ],
   "source": [
    "img = load(\"./img/Irving_K._Barber_Library.jpg\")\n",
    "imshow(img);"
   ]
  },
  {
   "cell_type": "code",
   "execution_count": null,
   "metadata": {},
   "outputs": [],
   "source": [
    "img.shape"
   ]
  },
  {
   "cell_type": "code",
   "execution_count": null,
   "metadata": {},
   "outputs": [],
   "source": [
    "img[1:3,1:3,:]"
   ]
  },
  {
   "cell_type": "code",
   "execution_count": null,
   "metadata": {},
   "outputs": [],
   "source": [
    "size(img'[:])"
   ]
  },
  {
   "cell_type": "markdown",
   "metadata": {},
   "source": [
    "- Now, again, the image is a point in space. \n",
    "- But now the space is 8,257,536-dimensional!\n",
    "- We'll talk about this towards the end of the course."
   ]
  },
  {
   "cell_type": "markdown",
   "metadata": {},
   "source": [
    "## Data Cleaning\n",
    "\n",
    "- ML+DM typically assume \"clean\" data.\n",
    "- Ways that data might not be \"clean\":\n",
    "  - Noise (e.g., distortion on phone)\n",
    "  - Outliers (e.g., data entry or instrument error)\n",
    "  - Missing values (no value available or not applicable)\n",
    "  - Duplicated data (repetitions, or different storage formats)\n",
    "  - Encodings (e.g., date-times in different formats)\n",
    "  - Identity resolution (e.g., no reliable primary key across tables)\n",
    "- Any of these can lead to problems in analyses.\n",
    "  - Want to fix these issues, if possible.\n",
    "  - Some ML methods are robust to these.\n",
    "  - Often, ML is the best way to detect/fix these.\n"
   ]
  },
  {
   "cell_type": "markdown",
   "metadata": {},
   "source": [
    "## How much data do we need?\n",
    "\n",
    "- A difficult if not impossible question to answer.\n",
    "- Usual answer: \"more is better\".\n",
    "  - With the warning: \"as long as the quality doesn’t suffer\".\n",
    "- Another popular answer: \"ten times the number of features\".\n",
    "  - I don't like this view. Features are not the enemy!\n"
   ]
  },
  {
   "cell_type": "markdown",
   "metadata": {},
   "source": [
    "## Feature aggregation\n",
    "\n",
    "- Combine features to form new ones\n",
    "- Useful if there are few examples of a particular case"
   ]
  },
  {
   "cell_type": "code",
   "execution_count": 7,
   "metadata": {},
   "outputs": [
    {
     "data": {
      "text/plain": [
       "PyObject C    59\n",
       "B    47\n",
       "D    33\n",
       "E    32\n",
       "A    15\n",
       "F    13\n",
       "G     4\n",
       "Name: deck, dtype: int64"
      ]
     },
     "execution_count": 7,
     "metadata": {},
     "output_type": "execute_result"
    }
   ],
   "source": [
    "titanic.deck.value_counts()"
   ]
  },
  {
   "cell_type": "code",
   "execution_count": 36,
   "metadata": {},
   "outputs": [
    {
     "data": {
      "text/html": [
       "<div>\n",
       "<style scoped>\n",
       "    .dataframe tbody tr th:only-of-type {\n",
       "        vertical-align: middle;\n",
       "    }\n",
       "\n",
       "    .dataframe tbody tr th {\n",
       "        vertical-align: top;\n",
       "    }\n",
       "\n",
       "    .dataframe thead th {\n",
       "        text-align: right;\n",
       "    }\n",
       "</style>\n",
       "<table border=\"1\" class=\"dataframe\">\n",
       "  <thead>\n",
       "    <tr style=\"text-align: right;\">\n",
       "      <th></th>\n",
       "      <th>survived</th>\n",
       "      <th>pclass</th>\n",
       "      <th>sex</th>\n",
       "      <th>age</th>\n",
       "      <th>sibsp</th>\n",
       "      <th>parch</th>\n",
       "      <th>fare</th>\n",
       "      <th>embarked</th>\n",
       "      <th>class</th>\n",
       "      <th>who</th>\n",
       "      <th>adult_male</th>\n",
       "      <th>deck</th>\n",
       "      <th>embark_town</th>\n",
       "      <th>alive</th>\n",
       "      <th>alone</th>\n",
       "      <th>upper</th>\n",
       "    </tr>\n",
       "  </thead>\n",
       "  <tbody>\n",
       "    <tr>\n",
       "      <th>886</th>\n",
       "      <td>0</td>\n",
       "      <td>2</td>\n",
       "      <td>male</td>\n",
       "      <td>27.0</td>\n",
       "      <td>0</td>\n",
       "      <td>0</td>\n",
       "      <td>13.00</td>\n",
       "      <td>S</td>\n",
       "      <td>Second</td>\n",
       "      <td>man</td>\n",
       "      <td>True</td>\n",
       "      <td>NaN</td>\n",
       "      <td>Southampton</td>\n",
       "      <td>no</td>\n",
       "      <td>True</td>\n",
       "      <td>False</td>\n",
       "    </tr>\n",
       "    <tr>\n",
       "      <th>887</th>\n",
       "      <td>1</td>\n",
       "      <td>1</td>\n",
       "      <td>female</td>\n",
       "      <td>19.0</td>\n",
       "      <td>0</td>\n",
       "      <td>0</td>\n",
       "      <td>30.00</td>\n",
       "      <td>S</td>\n",
       "      <td>First</td>\n",
       "      <td>woman</td>\n",
       "      <td>False</td>\n",
       "      <td>B</td>\n",
       "      <td>Southampton</td>\n",
       "      <td>yes</td>\n",
       "      <td>True</td>\n",
       "      <td>True</td>\n",
       "    </tr>\n",
       "    <tr>\n",
       "      <th>888</th>\n",
       "      <td>0</td>\n",
       "      <td>3</td>\n",
       "      <td>female</td>\n",
       "      <td>NaN</td>\n",
       "      <td>1</td>\n",
       "      <td>2</td>\n",
       "      <td>23.45</td>\n",
       "      <td>S</td>\n",
       "      <td>Third</td>\n",
       "      <td>woman</td>\n",
       "      <td>False</td>\n",
       "      <td>NaN</td>\n",
       "      <td>Southampton</td>\n",
       "      <td>no</td>\n",
       "      <td>False</td>\n",
       "      <td>False</td>\n",
       "    </tr>\n",
       "    <tr>\n",
       "      <th>889</th>\n",
       "      <td>1</td>\n",
       "      <td>1</td>\n",
       "      <td>male</td>\n",
       "      <td>26.0</td>\n",
       "      <td>0</td>\n",
       "      <td>0</td>\n",
       "      <td>30.00</td>\n",
       "      <td>C</td>\n",
       "      <td>First</td>\n",
       "      <td>man</td>\n",
       "      <td>True</td>\n",
       "      <td>C</td>\n",
       "      <td>Cherbourg</td>\n",
       "      <td>yes</td>\n",
       "      <td>True</td>\n",
       "      <td>False</td>\n",
       "    </tr>\n",
       "    <tr>\n",
       "      <th>890</th>\n",
       "      <td>0</td>\n",
       "      <td>3</td>\n",
       "      <td>male</td>\n",
       "      <td>32.0</td>\n",
       "      <td>0</td>\n",
       "      <td>0</td>\n",
       "      <td>7.75</td>\n",
       "      <td>Q</td>\n",
       "      <td>Third</td>\n",
       "      <td>man</td>\n",
       "      <td>True</td>\n",
       "      <td>NaN</td>\n",
       "      <td>Queenstown</td>\n",
       "      <td>no</td>\n",
       "      <td>True</td>\n",
       "      <td>False</td>\n",
       "    </tr>\n",
       "  </tbody>\n",
       "</table>\n",
       "</div>"
      ],
      "text/plain": [
       "PyObject      survived  pclass     sex   age  ...  embark_town  alive  alone  upper\n",
       "886         0       2    male  27.0  ...  Southampton     no   True  False\n",
       "887         1       1  female  19.0  ...  Southampton    yes   True   True\n",
       "888         0       3  female   NaN  ...  Southampton     no  False  False\n",
       "889         1       1    male  26.0  ...    Cherbourg    yes   True  False\n",
       "890         0       3    male  32.0  ...   Queenstown     no   True  False\n",
       "\n",
       "[5 rows x 16 columns]"
      ]
     },
     "execution_count": 36,
     "metadata": {},
     "output_type": "execute_result"
    }
   ],
   "source": [
    "titanic_agg = titanic.copy()\n",
    "\n",
    "titanic_agg_df = DataFrame(titanic_agg)\n",
    "titanic_agg_upper = DataFrame(Dict(:upper=>titanic_agg.deck.isin((\"A\",\"B\")))) # not shown: we should still fix up the NaNs here! \n",
    "titanic_agg = PyObject(merge(titanic_agg_df,titanic_agg_upper,left_index=true,right_index=true))\n",
    "\n",
    "titanic_agg.tail()"
   ]
  },
  {
   "cell_type": "code",
   "execution_count": 35,
   "metadata": {},
   "outputs": [],
   "source": [
    "## Feature selection"
   ]
  },
  {
   "cell_type": "code",
   "execution_count": 37,
   "metadata": {},
   "outputs": [
    {
     "data": {
      "text/html": [
       "<div>\n",
       "<style scoped>\n",
       "    .dataframe tbody tr th:only-of-type {\n",
       "        vertical-align: middle;\n",
       "    }\n",
       "\n",
       "    .dataframe tbody tr th {\n",
       "        vertical-align: top;\n",
       "    }\n",
       "\n",
       "    .dataframe thead th {\n",
       "        text-align: right;\n",
       "    }\n",
       "</style>\n",
       "<table border=\"1\" class=\"dataframe\">\n",
       "  <thead>\n",
       "    <tr style=\"text-align: right;\">\n",
       "      <th></th>\n",
       "      <th>survived</th>\n",
       "      <th>pclass</th>\n",
       "      <th>sex</th>\n",
       "      <th>age</th>\n",
       "      <th>sibsp</th>\n",
       "      <th>parch</th>\n",
       "      <th>fare</th>\n",
       "      <th>embarked</th>\n",
       "      <th>class</th>\n",
       "      <th>who</th>\n",
       "      <th>adult_male</th>\n",
       "      <th>deck</th>\n",
       "      <th>embark_town</th>\n",
       "      <th>alive</th>\n",
       "      <th>alone</th>\n",
       "      <th>upper</th>\n",
       "    </tr>\n",
       "  </thead>\n",
       "  <tbody>\n",
       "    <tr>\n",
       "      <th>0</th>\n",
       "      <td>0</td>\n",
       "      <td>3</td>\n",
       "      <td>male</td>\n",
       "      <td>22.0</td>\n",
       "      <td>1</td>\n",
       "      <td>0</td>\n",
       "      <td>7.2500</td>\n",
       "      <td>S</td>\n",
       "      <td>Third</td>\n",
       "      <td>man</td>\n",
       "      <td>True</td>\n",
       "      <td>NaN</td>\n",
       "      <td>Southampton</td>\n",
       "      <td>no</td>\n",
       "      <td>False</td>\n",
       "      <td>0</td>\n",
       "    </tr>\n",
       "    <tr>\n",
       "      <th>1</th>\n",
       "      <td>1</td>\n",
       "      <td>1</td>\n",
       "      <td>female</td>\n",
       "      <td>38.0</td>\n",
       "      <td>1</td>\n",
       "      <td>0</td>\n",
       "      <td>71.2833</td>\n",
       "      <td>C</td>\n",
       "      <td>First</td>\n",
       "      <td>woman</td>\n",
       "      <td>False</td>\n",
       "      <td>C</td>\n",
       "      <td>Cherbourg</td>\n",
       "      <td>yes</td>\n",
       "      <td>False</td>\n",
       "      <td>1</td>\n",
       "    </tr>\n",
       "    <tr>\n",
       "      <th>2</th>\n",
       "      <td>1</td>\n",
       "      <td>3</td>\n",
       "      <td>female</td>\n",
       "      <td>26.0</td>\n",
       "      <td>0</td>\n",
       "      <td>0</td>\n",
       "      <td>7.9250</td>\n",
       "      <td>S</td>\n",
       "      <td>Third</td>\n",
       "      <td>woman</td>\n",
       "      <td>False</td>\n",
       "      <td>NaN</td>\n",
       "      <td>Southampton</td>\n",
       "      <td>yes</td>\n",
       "      <td>True</td>\n",
       "      <td>2</td>\n",
       "    </tr>\n",
       "    <tr>\n",
       "      <th>3</th>\n",
       "      <td>1</td>\n",
       "      <td>1</td>\n",
       "      <td>female</td>\n",
       "      <td>35.0</td>\n",
       "      <td>1</td>\n",
       "      <td>0</td>\n",
       "      <td>53.1000</td>\n",
       "      <td>S</td>\n",
       "      <td>First</td>\n",
       "      <td>woman</td>\n",
       "      <td>False</td>\n",
       "      <td>C</td>\n",
       "      <td>Southampton</td>\n",
       "      <td>yes</td>\n",
       "      <td>False</td>\n",
       "      <td>3</td>\n",
       "    </tr>\n",
       "    <tr>\n",
       "      <th>4</th>\n",
       "      <td>0</td>\n",
       "      <td>3</td>\n",
       "      <td>male</td>\n",
       "      <td>35.0</td>\n",
       "      <td>0</td>\n",
       "      <td>0</td>\n",
       "      <td>8.0500</td>\n",
       "      <td>S</td>\n",
       "      <td>Third</td>\n",
       "      <td>man</td>\n",
       "      <td>True</td>\n",
       "      <td>NaN</td>\n",
       "      <td>Southampton</td>\n",
       "      <td>no</td>\n",
       "      <td>True</td>\n",
       "      <td>4</td>\n",
       "    </tr>\n",
       "  </tbody>\n",
       "</table>\n",
       "</div>"
      ],
      "text/plain": [
       "PyObject    survived  pclass     sex   age  sibsp  ...  deck  embark_town alive  alone upper\n",
       "0         0       3    male  22.0      1  ...   NaN  Southampton    no  False     0\n",
       "1         1       1  female  38.0      1  ...     C    Cherbourg   yes  False     1\n",
       "2         1       3  female  26.0      0  ...   NaN  Southampton   yes   True     2\n",
       "3         1       1  female  35.0      1  ...     C  Southampton   yes  False     3\n",
       "4         0       3    male  35.0      0  ...   NaN  Southampton    no   True     4\n",
       "\n",
       "[5 rows x 16 columns]"
      ]
     },
     "execution_count": 37,
     "metadata": {},
     "output_type": "execute_result"
    }
   ],
   "source": [
    "titanic_id = titanic.copy()\n",
    "\n",
    "titanic_id_df = DataFrame(titanic_id)\n",
    "titanic_id_id = DataFrame(Dict(:upper=>titanic_id.index)) # not shown: we should still fix up the NaNs here! \n",
    "titanic_id = PyObject(merge(titanic_id_df,titanic_id_id,left_index=true,right_index=true))\n",
    "\n",
    "titanic_id.head()"
   ]
  },
  {
   "cell_type": "markdown",
   "metadata": {},
   "source": [
    "- Remove features that are not relevant to the task.\n",
    "- `id` probably not relevant for prediction."
   ]
  },
  {
   "cell_type": "markdown",
   "metadata": {},
   "source": [
    "## Feature transformation\n",
    "\n",
    "#### Discretization (binning): turn numerical data into categorical"
   ]
  },
  {
   "cell_type": "code",
   "execution_count": 39,
   "metadata": {},
   "outputs": [
    {
     "data": {
      "text/plain": [
       "0    22.0\n",
       "1    38.0\n",
       "2    26.0\n",
       "3    35.0\n",
       "4    35.0\n",
       "Name: age, dtype: float64\n"
      ]
     },
     "execution_count": 39,
     "metadata": {},
     "output_type": "execute_result"
    }
   ],
   "source": [
    "DataFrame(titanic.age.head())"
   ]
  },
  {
   "cell_type": "code",
   "execution_count": 42,
   "metadata": {},
   "outputs": [],
   "source": [
    "ages = cut(titanic.age, bins=(0,20,30,100))\n",
    "ages_cat = get_dummies(ages);"
   ]
  },
  {
   "cell_type": "code",
   "execution_count": 44,
   "metadata": {},
   "outputs": [
    {
     "data": {
      "text/html": [
       "<div>\n",
       "<style scoped>\n",
       "    .dataframe tbody tr th:only-of-type {\n",
       "        vertical-align: middle;\n",
       "    }\n",
       "\n",
       "    .dataframe tbody tr th {\n",
       "        vertical-align: top;\n",
       "    }\n",
       "\n",
       "    .dataframe thead th {\n",
       "        text-align: right;\n",
       "    }\n",
       "</style>\n",
       "<table border=\"1\" class=\"dataframe\">\n",
       "  <thead>\n",
       "    <tr style=\"text-align: right;\">\n",
       "      <th></th>\n",
       "      <th>age</th>\n",
       "      <th>(0, 20]</th>\n",
       "      <th>(20, 30]</th>\n",
       "      <th>(30, 100]</th>\n",
       "    </tr>\n",
       "  </thead>\n",
       "  <tbody>\n",
       "    <tr>\n",
       "      <th>0</th>\n",
       "      <td>22.0</td>\n",
       "      <td>0</td>\n",
       "      <td>1</td>\n",
       "      <td>0</td>\n",
       "    </tr>\n",
       "    <tr>\n",
       "      <th>1</th>\n",
       "      <td>38.0</td>\n",
       "      <td>0</td>\n",
       "      <td>0</td>\n",
       "      <td>1</td>\n",
       "    </tr>\n",
       "    <tr>\n",
       "      <th>2</th>\n",
       "      <td>26.0</td>\n",
       "      <td>0</td>\n",
       "      <td>1</td>\n",
       "      <td>0</td>\n",
       "    </tr>\n",
       "    <tr>\n",
       "      <th>3</th>\n",
       "      <td>35.0</td>\n",
       "      <td>0</td>\n",
       "      <td>0</td>\n",
       "      <td>1</td>\n",
       "    </tr>\n",
       "    <tr>\n",
       "      <th>4</th>\n",
       "      <td>35.0</td>\n",
       "      <td>0</td>\n",
       "      <td>0</td>\n",
       "      <td>1</td>\n",
       "    </tr>\n",
       "  </tbody>\n",
       "</table>\n",
       "</div>"
      ],
      "text/plain": [
       "PyObject     age  (0, 20]  (20, 30]  (30, 100]\n",
       "0  22.0        0         1          0\n",
       "1  38.0        0         0          1\n",
       "2  26.0        0         1          0\n",
       "3  35.0        0         0          1\n",
       "4  35.0        0         0          1"
      ]
     },
     "execution_count": 44,
     "metadata": {},
     "output_type": "execute_result"
    }
   ],
   "source": [
    "PyObject(concat([titanic.age, ages_cat],axis=1)).head()"
   ]
  },
  {
   "cell_type": "markdown",
   "metadata": {},
   "source": [
    "#### Mathematical transformsations\n",
    "\n",
    "- e.g. log, exp, square, sqrt, etc.\n",
    "- also, scaling/normalization"
   ]
  },
  {
   "cell_type": "code",
   "execution_count": 56,
   "metadata": {},
   "outputs": [
    {
     "data": {
      "text/html": [
       "<div>\n",
       "<style scoped>\n",
       "    .dataframe tbody tr th:only-of-type {\n",
       "        vertical-align: middle;\n",
       "    }\n",
       "\n",
       "    .dataframe tbody tr th {\n",
       "        vertical-align: top;\n",
       "    }\n",
       "\n",
       "    .dataframe thead th {\n",
       "        text-align: right;\n",
       "    }\n",
       "</style>\n",
       "<table border=\"1\" class=\"dataframe\">\n",
       "  <thead>\n",
       "    <tr style=\"text-align: right;\">\n",
       "      <th></th>\n",
       "      <th>survived</th>\n",
       "      <th>pclass</th>\n",
       "      <th>sex</th>\n",
       "      <th>age</th>\n",
       "      <th>sibsp</th>\n",
       "      <th>parch</th>\n",
       "      <th>fare_x</th>\n",
       "      <th>embarked</th>\n",
       "      <th>class</th>\n",
       "      <th>who</th>\n",
       "      <th>adult_male</th>\n",
       "      <th>deck</th>\n",
       "      <th>embark_town</th>\n",
       "      <th>alive</th>\n",
       "      <th>alone</th>\n",
       "      <th>fare_y</th>\n",
       "    </tr>\n",
       "  </thead>\n",
       "  <tbody>\n",
       "    <tr>\n",
       "      <th>0</th>\n",
       "      <td>0</td>\n",
       "      <td>3</td>\n",
       "      <td>male</td>\n",
       "      <td>22.0</td>\n",
       "      <td>1</td>\n",
       "      <td>0</td>\n",
       "      <td>7.2500</td>\n",
       "      <td>S</td>\n",
       "      <td>Third</td>\n",
       "      <td>man</td>\n",
       "      <td>True</td>\n",
       "      <td>NaN</td>\n",
       "      <td>Southampton</td>\n",
       "      <td>no</td>\n",
       "      <td>False</td>\n",
       "      <td>2.692582</td>\n",
       "    </tr>\n",
       "    <tr>\n",
       "      <th>1</th>\n",
       "      <td>1</td>\n",
       "      <td>1</td>\n",
       "      <td>female</td>\n",
       "      <td>38.0</td>\n",
       "      <td>1</td>\n",
       "      <td>0</td>\n",
       "      <td>71.2833</td>\n",
       "      <td>C</td>\n",
       "      <td>First</td>\n",
       "      <td>woman</td>\n",
       "      <td>False</td>\n",
       "      <td>C</td>\n",
       "      <td>Cherbourg</td>\n",
       "      <td>yes</td>\n",
       "      <td>False</td>\n",
       "      <td>8.442944</td>\n",
       "    </tr>\n",
       "    <tr>\n",
       "      <th>2</th>\n",
       "      <td>1</td>\n",
       "      <td>3</td>\n",
       "      <td>female</td>\n",
       "      <td>26.0</td>\n",
       "      <td>0</td>\n",
       "      <td>0</td>\n",
       "      <td>7.9250</td>\n",
       "      <td>S</td>\n",
       "      <td>Third</td>\n",
       "      <td>woman</td>\n",
       "      <td>False</td>\n",
       "      <td>NaN</td>\n",
       "      <td>Southampton</td>\n",
       "      <td>yes</td>\n",
       "      <td>True</td>\n",
       "      <td>2.815138</td>\n",
       "    </tr>\n",
       "    <tr>\n",
       "      <th>3</th>\n",
       "      <td>1</td>\n",
       "      <td>1</td>\n",
       "      <td>female</td>\n",
       "      <td>35.0</td>\n",
       "      <td>1</td>\n",
       "      <td>0</td>\n",
       "      <td>53.1000</td>\n",
       "      <td>S</td>\n",
       "      <td>First</td>\n",
       "      <td>woman</td>\n",
       "      <td>False</td>\n",
       "      <td>C</td>\n",
       "      <td>Southampton</td>\n",
       "      <td>yes</td>\n",
       "      <td>False</td>\n",
       "      <td>7.286975</td>\n",
       "    </tr>\n",
       "    <tr>\n",
       "      <th>4</th>\n",
       "      <td>0</td>\n",
       "      <td>3</td>\n",
       "      <td>male</td>\n",
       "      <td>35.0</td>\n",
       "      <td>0</td>\n",
       "      <td>0</td>\n",
       "      <td>8.0500</td>\n",
       "      <td>S</td>\n",
       "      <td>Third</td>\n",
       "      <td>man</td>\n",
       "      <td>True</td>\n",
       "      <td>NaN</td>\n",
       "      <td>Southampton</td>\n",
       "      <td>no</td>\n",
       "      <td>True</td>\n",
       "      <td>2.837252</td>\n",
       "    </tr>\n",
       "  </tbody>\n",
       "</table>\n",
       "</div>"
      ],
      "text/plain": [
       "PyObject    survived  pclass     sex   age  ...  embark_town  alive  alone    fare_y\n",
       "0         0       3    male  22.0  ...  Southampton     no  False  2.692582\n",
       "1         1       1  female  38.0  ...    Cherbourg    yes  False  8.442944\n",
       "2         1       3  female  26.0  ...  Southampton    yes   True  2.815138\n",
       "3         1       1  female  35.0  ...  Southampton    yes  False  7.286975\n",
       "4         0       3    male  35.0  ...  Southampton     no   True  2.837252\n",
       "\n",
       "[5 rows x 16 columns]"
      ]
     },
     "execution_count": 56,
     "metadata": {},
     "output_type": "execute_result"
    }
   ],
   "source": [
    "titanic_mod = titanic.copy()\n",
    "\n",
    "titanic_mod_df = DataFrame(titanic_mod)\n",
    "titanic_mod_fare = DataFrame(Dict(:fare=>broadcast(sqrt,convert(Array,titanic_mod.fare))))\n",
    "titanic_mod = PyObject(merge(titanic_mod_df,titanic_mod_fare,left_index=true,right_index=true))\n",
    "\n",
    "titanic_mod.head()"
   ]
  },
  {
   "cell_type": "markdown",
   "metadata": {},
   "source": [
    "## Exploratory data analysis (EDA)\n",
    "\n",
    "- You should \"look\" at the data before further analysis.\n",
    "- But how do you \"look\" at features and high-dimensional objects?\n",
    "  - Summary statistics\n",
    "  - Visualization\n",
    "  - ML + DM (later in course)"
   ]
  },
  {
   "cell_type": "markdown",
   "metadata": {},
   "source": [
    "## Categorical summary statistics\n",
    "\n",
    "- Summary statistics for a categorical variable:\n",
    "  - **Frequencies** of different classes.\n",
    "  - **Mode**: category that occurs most often.\n",
    "  - **Quantiles**: categories that occur more than $t$ times:\n"
   ]
  },
  {
   "cell_type": "code",
   "execution_count": 59,
   "metadata": {},
   "outputs": [
    {
     "data": {
      "text/plain": [
       "C    0.290640\n",
       "B    0.231527\n",
       "D    0.162562\n",
       "E    0.157635\n",
       "A    0.073892\n",
       "F    0.064039\n",
       "G    0.019704\n",
       "Name: deck, dtype: float64\n"
      ]
     },
     "execution_count": 59,
     "metadata": {},
     "output_type": "execute_result"
    }
   ],
   "source": [
    "DataFrame(titanic.deck.value_counts(normalize=true)) # frequencies"
   ]
  },
  {
   "cell_type": "code",
   "execution_count": 63,
   "metadata": {},
   "outputs": [
    {
     "data": {
      "text/plain": [
       "\"C\""
      ]
     },
     "execution_count": 63,
     "metadata": {},
     "output_type": "execute_result"
    }
   ],
   "source": [
    "get(titanic.deck.mode(),0)"
   ]
  },
  {
   "cell_type": "markdown",
   "metadata": {},
   "source": [
    "## Continuous summary statistics\n",
    "\n",
    "- Measures of location:\n",
    "  - Mean: average value.\n",
    "  - Median: value such that half points are larger/smaller.\n",
    "  - Quantiles: value such that $t$ fraction of points are larger.\n",
    "- Measures of spread:\n",
    "  - Range: minimum and maximum values.\n",
    "  - Variance: measures how far values are from mean.\n",
    "    - Square root of variance is \"standard deviation\".\n",
    "  - Intequantile ranges: difference between quantiles"
   ]
  },
  {
   "cell_type": "code",
   "execution_count": 64,
   "metadata": {},
   "outputs": [
    {
     "data": {
      "text/plain": [
       "32.204207968574636"
      ]
     },
     "execution_count": 64,
     "metadata": {},
     "output_type": "execute_result"
    }
   ],
   "source": [
    "titanic.fare.mean()"
   ]
  },
  {
   "cell_type": "code",
   "execution_count": 65,
   "metadata": {},
   "outputs": [
    {
     "data": {
      "text/plain": [
       "14.4542"
      ]
     },
     "execution_count": 65,
     "metadata": {},
     "output_type": "execute_result"
    }
   ],
   "source": [
    "titanic.fare.median()"
   ]
  },
  {
   "cell_type": "code",
   "execution_count": 67,
   "metadata": {},
   "outputs": [
    {
     "data": {
      "text/plain": [
       "0.25     7.9104\n",
       "0.50    14.4542\n",
       "0.75    31.0000\n",
       "Name: fare, dtype: float64\n"
      ]
     },
     "execution_count": 67,
     "metadata": {},
     "output_type": "execute_result"
    }
   ],
   "source": [
    "DataFrame(titanic.fare.quantile((0.25,0.5,0.75)))"
   ]
  },
  {
   "cell_type": "code",
   "execution_count": 68,
   "metadata": {},
   "outputs": [
    {
     "data": {
      "text/plain": [
       "0.0"
      ]
     },
     "execution_count": 68,
     "metadata": {},
     "output_type": "execute_result"
    }
   ],
   "source": [
    "titanic.fare.min()"
   ]
  },
  {
   "cell_type": "code",
   "execution_count": 69,
   "metadata": {},
   "outputs": [
    {
     "data": {
      "text/plain": [
       "512.3292"
      ]
     },
     "execution_count": 69,
     "metadata": {},
     "output_type": "execute_result"
    }
   ],
   "source": [
    "titanic.fare.max()"
   ]
  },
  {
   "cell_type": "code",
   "execution_count": 70,
   "metadata": {},
   "outputs": [
    {
     "data": {
      "text/plain": [
       "2469.436845743116"
      ]
     },
     "execution_count": 70,
     "metadata": {},
     "output_type": "execute_result"
    }
   ],
   "source": [
    "titanic.fare.var()"
   ]
  },
  {
   "cell_type": "code",
   "execution_count": 71,
   "metadata": {},
   "outputs": [
    {
     "data": {
      "text/plain": [
       "49.6934285971809"
      ]
     },
     "execution_count": 71,
     "metadata": {},
     "output_type": "execute_result"
    }
   ],
   "source": [
    "titanic.fare.std()"
   ]
  },
  {
   "cell_type": "markdown",
   "metadata": {},
   "source": [
    "Notice that the mean and std are sensitive to extreme values:"
   ]
  },
  {
   "cell_type": "code",
   "execution_count": 73,
   "metadata": {},
   "outputs": [
    {
     "name": "stdout",
     "output_type": "stream",
     "text": [
      "Mean with outlier   : 21.000000\n",
      "Mean without outlier: 7.230769"
     ]
    }
   ],
   "source": [
    "data = [0,1,2,3,3,5,7,8,9,10,14,15,17,200] # the \"200\" is an outlier\n",
    "Printf.@printf(\"Mean with outlier   : %f\\n\", mean(data))\n",
    "Printf.@printf(\"Mean without outlier: %f\", mean(data[1:end-1]))"
   ]
  },
  {
   "cell_type": "code",
   "execution_count": 74,
   "metadata": {},
   "outputs": [
    {
     "name": "stdout",
     "output_type": "stream",
     "text": [
      "Std with outlier   : 51.796941\n",
      "Std without outlier: 5.570067"
     ]
    }
   ],
   "source": [
    "Printf.@printf(\"Std with outlier   : %f\\n\", std(data))\n",
    "Printf.@printf(\"Std without outlier: %f\", std(data[1:end-1]))"
   ]
  },
  {
   "cell_type": "markdown",
   "metadata": {},
   "source": [
    "Whereas the median is not:"
   ]
  },
  {
   "cell_type": "code",
   "execution_count": 77,
   "metadata": {},
   "outputs": [
    {
     "name": "stdout",
     "output_type": "stream",
     "text": [
      "Median with outlier   : 7.500000\n",
      "Median without outlier: 7.000000"
     ]
    }
   ],
   "source": [
    "Printf.@printf(\"Median with outlier   : %f\\n\", median(data))\n",
    "Printf.@printf(\"Median without outlier: %f\", median(data[1:end-1]))"
   ]
  },
  {
   "cell_type": "markdown",
   "metadata": {},
   "source": [
    "## Distances and similarities\n",
    "\n",
    "- There are also summary statistics between features.\n",
    "  - Hamming distance: \n",
    "     - Number of elements in the vectors that aren’t equal.\n",
    "  - Euclidean distance:\n",
    "     - How far apart are the vectors?\n",
    "  - Correlation:\n",
    "     - Does one increase/decrease linearly as the other increases?\n",
    "     - Between -1 and 1.\n"
   ]
  },
  {
   "cell_type": "markdown",
   "metadata": {},
   "source": [
    "## Limitations of summary statistics\n",
    "\n",
    "- Summary statistics can be misleading\n",
    "- A famous example is [Anscombe's quartet](https://en.wikipedia.org/wiki/Anscombe%27s_quartet), four datasets with:\n",
    "  - Almost same means.\n",
    "  - Almost same variances.\n",
    "  - Almost same correlations.\n",
    "  - Almost same linear fits.\n",
    "  - Look completely different."
   ]
  },
  {
   "cell_type": "code",
   "execution_count": 6,
   "metadata": {},
   "outputs": [],
   "source": [
    "# Code below from seaborn documentation: https://seaborn.pydata.org/examples/anscombes_quartet.html\n",
    "\n",
    "# Load the example dataset for Anscombe's quartet\n",
    "anscombe = DataFrame(sns.load_dataset(\"anscombe\"))\n",
    "\n",
    "ds1 = anscombe[anscombe[\"dataset\"]==\"I\"]\n",
    "ds2 = anscombe[anscombe[\"dataset\"]==\"II\"]\n",
    "ds3 = anscombe[anscombe[\"dataset\"]==\"III\"]\n",
    "ds4 = anscombe[anscombe[\"dataset\"]==\"IV\"];"
   ]
  },
  {
   "cell_type": "code",
   "execution_count": 85,
   "metadata": {},
   "outputs": [
    {
     "data": {
      "text/plain": [
       "x    9.000000\n",
       "y    7.500909\n",
       "dtype: float64\n"
      ]
     },
     "execution_count": 85,
     "metadata": {},
     "output_type": "execute_result"
    }
   ],
   "source": [
    "mean(ds1)"
   ]
  },
  {
   "cell_type": "code",
   "execution_count": 86,
   "metadata": {},
   "outputs": [
    {
     "data": {
      "text/plain": [
       "x    9.000000\n",
       "y    7.500909\n",
       "dtype: float64\n"
      ]
     },
     "execution_count": 86,
     "metadata": {},
     "output_type": "execute_result"
    }
   ],
   "source": [
    "mean(ds2)"
   ]
  },
  {
   "cell_type": "code",
   "execution_count": 87,
   "metadata": {},
   "outputs": [
    {
     "data": {
      "text/plain": [
       "x    9.0\n",
       "y    7.5\n",
       "dtype: float64\n"
      ]
     },
     "execution_count": 87,
     "metadata": {},
     "output_type": "execute_result"
    }
   ],
   "source": [
    "mean(ds3)"
   ]
  },
  {
   "cell_type": "code",
   "execution_count": 88,
   "metadata": {},
   "outputs": [
    {
     "data": {
      "text/plain": [
       "x    9.000000\n",
       "y    7.500909\n",
       "dtype: float64\n"
      ]
     },
     "execution_count": 88,
     "metadata": {},
     "output_type": "execute_result"
    }
   ],
   "source": [
    "mean(ds4)"
   ]
  },
  {
   "cell_type": "code",
   "execution_count": 13,
   "metadata": {},
   "outputs": [
    {
     "data": {
      "image/png": "[encoded data removed]",
      "text/plain": [
       "Figure(PyObject <Figure size 800x800 with 4 Axes>)"
      ]
     },
     "metadata": {},
     "output_type": "display_data"
    }
   ],
   "source": [
    "# Show the results of a linear regression within each dataset\n",
    "sns.lmplot(x=\"x\", y=\"y\", col=\"dataset\", hue=\"dataset\", data=anscombe,\n",
    "           col_wrap=2, ci=nothing, palette=\"muted\", height=4, scatter=false,\n",
    "           scatter_kws=Dict(:s=>50,:alpha=>1));"
   ]
  },
  {
   "cell_type": "code",
   "execution_count": 17,
   "metadata": {},
   "outputs": [
    {
     "data": {
      "image/svg+xml": [
       "<?xml version=\"1.0\" encoding=\"utf-8\"?>\n",
       "<svg xmlns=\"http://www.w3.org/2000/svg\" xmlns:xlink=\"http://www.w3.org/1999/xlink\" width=\"450\" height=\"375\" viewBox=\"0 0 1800 1500\">\n",
       "<defs>\n",
       "  <clipPath id=\"clip7600\">\n",
       "    <rect x=\"0\" y=\"0\" width=\"1800\" height=\"1500\"/>\n",
       "  </clipPath>\n",
       "</defs>\n",
       "<polygon clip-path=\"url(#clip7600)\" points=\"\n",
       "0,1500 1800,1500 1800,0 0,0 \n",
       "  \" fill=\"#ffffff\" fill-rule=\"evenodd\" fill-opacity=\"1\"/>\n",
       "<defs>\n",
       "  <clipPath id=\"clip7601\">\n",
       "    <rect x=\"360\" y=\"0\" width=\"1261\" height=\"1261\"/>\n",
       "  </clipPath>\n",
       "</defs>\n",
       "<polygon clip-path=\"url(#clip7600)\" points=\"\n",
       "711.96,1159.28 1701.57,1159.28 1701.57,59.0551 711.96,59.0551 \n",
       "  \" fill=\"#ffffff\" fill-rule=\"evenodd\" fill-opacity=\"1\"/>\n",
       "<defs>\n",
       "  <clipPath id=\"clip7602\">\n",
       "    <rect x=\"711\" y=\"59\" width=\"991\" height=\"1101\"/>\n",
       "  </clipPath>\n",
       "</defs>\n",
       "<polyline clip-path=\"url(#clip7602)\" style=\"stroke:#000000; stroke-width:2.5; stroke-opacity:0.1; fill:none\" points=\"\n",
       "  739.968,1159.28 739.968,59.0551 \n",
       "  \"/>\n",
       "<polyline clip-path=\"url(#clip7602)\" style=\"stroke:#000000; stroke-width:2.5; stroke-opacity:0.1; fill:none\" points=\"\n",
       "  973.368,1159.28 973.368,59.0551 \n",
       "  \"/>\n",
       "<polyline clip-path=\"url(#clip7602)\" style=\"stroke:#000000; stroke-width:2.5; stroke-opacity:0.1; fill:none\" points=\"\n",
       "  1206.77,1159.28 1206.77,59.0551 \n",
       "  \"/>\n",
       "<polyline clip-path=\"url(#clip7602)\" style=\"stroke:#000000; stroke-width:2.5; stroke-opacity:0.1; fill:none\" points=\"\n",
       "  1440.17,1159.28 1440.17,59.0551 \n",
       "  \"/>\n",
       "<polyline clip-path=\"url(#clip7602)\" style=\"stroke:#000000; stroke-width:2.5; stroke-opacity:0.1; fill:none\" points=\"\n",
       "  1673.57,1159.28 1673.57,59.0551 \n",
       "  \"/>\n",
       "<polyline clip-path=\"url(#clip7602)\" style=\"stroke:#000000; stroke-width:2.5; stroke-opacity:0.1; fill:none\" points=\"\n",
       "  711.96,1128.14 1701.57,1128.14 \n",
       "  \"/>\n",
       "<polyline clip-path=\"url(#clip7602)\" style=\"stroke:#000000; stroke-width:2.5; stroke-opacity:0.1; fill:none\" points=\"\n",
       "  711.96,868.657 1701.57,868.657 \n",
       "  \"/>\n",
       "<polyline clip-path=\"url(#clip7602)\" style=\"stroke:#000000; stroke-width:2.5; stroke-opacity:0.1; fill:none\" points=\"\n",
       "  711.96,609.169 1701.57,609.169 \n",
       "  \"/>\n",
       "<polyline clip-path=\"url(#clip7602)\" style=\"stroke:#000000; stroke-width:2.5; stroke-opacity:0.1; fill:none\" points=\"\n",
       "  711.96,349.681 1701.57,349.681 \n",
       "  \"/>\n",
       "<polyline clip-path=\"url(#clip7602)\" style=\"stroke:#000000; stroke-width:2.5; stroke-opacity:0.1; fill:none\" points=\"\n",
       "  711.96,90.1936 1701.57,90.1936 \n",
       "  \"/>\n",
       "<polyline clip-path=\"url(#clip7600)\" style=\"stroke:#000000; stroke-width:5; stroke-opacity:1; fill:none\" points=\"\n",
       "  711.96,1159.28 1701.57,1159.28 \n",
       "  \"/>\n",
       "<polyline clip-path=\"url(#clip7600)\" style=\"stroke:#000000; stroke-width:5; stroke-opacity:1; fill:none\" points=\"\n",
       "  711.96,1159.28 711.96,59.0551 \n",
       "  \"/>\n",
       "<polyline clip-path=\"url(#clip7600)\" style=\"stroke:#000000; stroke-width:5; stroke-opacity:1; fill:none\" points=\"\n",
       "  739.968,1159.28 739.968,1142.78 \n",
       "  \"/>\n",
       "<polyline clip-path=\"url(#clip7600)\" style=\"stroke:#000000; stroke-width:5; stroke-opacity:1; fill:none\" points=\"\n",
       "  973.368,1159.28 973.368,1142.78 \n",
       "  \"/>\n",
       "<polyline clip-path=\"url(#clip7600)\" style=\"stroke:#000000; stroke-width:5; stroke-opacity:1; fill:none\" points=\"\n",
       "  1206.77,1159.28 1206.77,1142.78 \n",
       "  \"/>\n",
       "<polyline clip-path=\"url(#clip7600)\" style=\"stroke:#000000; stroke-width:5; stroke-opacity:1; fill:none\" points=\"\n",
       "  1440.17,1159.28 1440.17,1142.78 \n",
       "  \"/>\n",
       "<polyline clip-path=\"url(#clip7600)\" style=\"stroke:#000000; stroke-width:5; stroke-opacity:1; fill:none\" points=\"\n",
       "  1673.57,1159.28 1673.57,1142.78 \n",
       "  \"/>\n",
       "<polyline clip-path=\"url(#clip7600)\" style=\"stroke:#000000; stroke-width:5; stroke-opacity:1; fill:none\" points=\"\n",
       "  711.96,1128.14 726.804,1128.14 \n",
       "  \"/>\n",
       "<polyline clip-path=\"url(#clip7600)\" style=\"stroke:#000000; stroke-width:5; stroke-opacity:1; fill:none\" points=\"\n",
       "  711.96,868.657 726.804,868.657 \n",
       "  \"/>\n",
       "<polyline clip-path=\"url(#clip7600)\" style=\"stroke:#000000; stroke-width:5; stroke-opacity:1; fill:none\" points=\"\n",
       "  711.96,609.169 726.804,609.169 \n",
       "  \"/>\n",
       "<polyline clip-path=\"url(#clip7600)\" style=\"stroke:#000000; stroke-width:5; stroke-opacity:1; fill:none\" points=\"\n",
       "  711.96,349.681 726.804,349.681 \n",
       "  \"/>\n",
       "<polyline clip-path=\"url(#clip7600)\" style=\"stroke:#000000; stroke-width:5; stroke-opacity:1; fill:none\" points=\"\n",
       "  711.96,90.1936 726.804,90.1936 \n",
       "  \"/>\n",
       "<g clip-path=\"url(#clip7600)\">\n",
       "<text style=\"fill:#000000; fill-opacity:1; font-family:Arial,Helvetica Neue,Helvetica,sans-serif; font-size:59px; text-anchor:middle;\" transform=\"rotate(0, 739.968, 1219.88)\" x=\"739.968\" y=\"1219.88\">0.0</text>\n",
       "</g>\n",
       "<g clip-path=\"url(#clip7600)\">\n",
       "<text style=\"fill:#000000; fill-opacity:1; font-family:Arial,Helvetica Neue,Helvetica,sans-serif; font-size:59px; text-anchor:middle;\" transform=\"rotate(0, 973.368, 1219.88)\" x=\"973.368\" y=\"1219.88\">2.5</text>\n",
       "</g>\n",
       "<g clip-path=\"url(#clip7600)\">\n",
       "<text style=\"fill:#000000; fill-opacity:1; font-family:Arial,Helvetica Neue,Helvetica,sans-serif; font-size:59px; text-anchor:middle;\" transform=\"rotate(0, 1206.77, 1219.88)\" x=\"1206.77\" y=\"1219.88\">5.0</text>\n",
       "</g>\n",
       "<g clip-path=\"url(#clip7600)\">\n",
       "<text style=\"fill:#000000; fill-opacity:1; font-family:Arial,Helvetica Neue,Helvetica,sans-serif; font-size:59px; text-anchor:middle;\" transform=\"rotate(0, 1440.17, 1219.88)\" x=\"1440.17\" y=\"1219.88\">7.5</text>\n",
       "</g>\n",
       "<g clip-path=\"url(#clip7600)\">\n",
       "<text style=\"fill:#000000; fill-opacity:1; font-family:Arial,Helvetica Neue,Helvetica,sans-serif; font-size:59px; text-anchor:middle;\" transform=\"rotate(0, 1673.57, 1219.88)\" x=\"1673.57\" y=\"1219.88\">10.0</text>\n",
       "</g>\n",
       "<g clip-path=\"url(#clip7600)\">\n",
       "<text style=\"fill:#000000; fill-opacity:1; font-family:Arial,Helvetica Neue,Helvetica,sans-serif; font-size:59px; text-anchor:end;\" transform=\"rotate(0, 693.96, 1149.64)\" x=\"693.96\" y=\"1149.64\">-1.0</text>\n",
       "</g>\n",
       "<g clip-path=\"url(#clip7600)\">\n",
       "<text style=\"fill:#000000; fill-opacity:1; font-family:Arial,Helvetica Neue,Helvetica,sans-serif; font-size:59px; text-anchor:end;\" transform=\"rotate(0, 693.96, 890.157)\" x=\"693.96\" y=\"890.157\">-0.5</text>\n",
       "</g>\n",
       "<g clip-path=\"url(#clip7600)\">\n",
       "<text style=\"fill:#000000; fill-opacity:1; font-family:Arial,Helvetica Neue,Helvetica,sans-serif; font-size:59px; text-anchor:end;\" transform=\"rotate(0, 693.96, 630.669)\" x=\"693.96\" y=\"630.669\">0.0</text>\n",
       "</g>\n",
       "<g clip-path=\"url(#clip7600)\">\n",
       "<text style=\"fill:#000000; fill-opacity:1; font-family:Arial,Helvetica Neue,Helvetica,sans-serif; font-size:59px; text-anchor:end;\" transform=\"rotate(0, 693.96, 371.181)\" x=\"693.96\" y=\"371.181\">0.5</text>\n",
       "</g>\n",
       "<g clip-path=\"url(#clip7600)\">\n",
       "<text style=\"fill:#000000; fill-opacity:1; font-family:Arial,Helvetica Neue,Helvetica,sans-serif; font-size:59px; text-anchor:end;\" transform=\"rotate(0, 693.96, 111.694)\" x=\"693.96\" y=\"111.694\">1.0</text>\n",
       "</g>\n",
       "<polyline clip-path=\"url(#clip7602)\" style=\"stroke:#009af9; stroke-width:5; stroke-opacity:1; fill:none\" points=\"\n",
       "  739.968,90.1936 740.902,90.2196 741.837,90.2976 742.771,90.4276 743.706,90.6096 744.64,90.8435 745.575,91.1294 746.51,91.4671 747.444,91.8568 748.379,92.2983 \n",
       "  749.313,92.7915 750.248,93.3365 751.182,93.9332 752.117,94.5815 753.051,95.2814 753.986,96.0328 754.92,96.8356 755.855,97.6897 756.789,98.5951 757.724,99.5516 \n",
       "  758.658,100.559 759.593,101.618 760.528,102.727 761.462,103.887 762.397,105.098 763.331,106.359 764.266,107.671 765.2,109.033 766.135,110.445 767.069,111.907 \n",
       "  768.004,113.419 768.938,114.98 769.873,116.592 770.807,118.252 771.742,119.961 772.676,121.72 773.611,123.527 774.546,125.384 775.48,127.288 776.415,129.241 \n",
       "  777.349,131.242 778.284,133.291 779.218,135.387 780.153,137.531 781.087,139.723 782.022,141.961 782.956,144.246 783.891,146.578 784.825,148.956 785.76,151.38 \n",
       "  786.694,153.85 787.629,156.365 788.564,158.926 789.498,161.533 790.433,164.184 791.367,166.879 792.302,169.619 793.236,172.403 794.171,175.231 795.105,178.102 \n",
       "  796.04,181.016 796.974,183.973 797.909,186.973 798.843,190.016 799.778,193.1 800.712,196.226 801.647,199.393 802.582,202.601 803.516,205.85 804.451,209.14 \n",
       "  805.385,212.469 806.32,215.838 807.254,219.247 808.189,222.695 809.123,226.181 810.058,229.706 810.992,233.269 811.927,236.87 812.861,240.507 813.796,244.182 \n",
       "  814.73,247.894 815.665,251.641 816.6,255.425 817.534,259.243 818.469,263.097 819.403,266.986 820.338,270.909 821.272,274.865 822.207,278.856 823.141,282.879 \n",
       "  824.076,286.935 825.01,291.023 825.945,295.144 826.879,299.295 827.814,303.478 828.748,307.691 829.683,311.935 830.618,316.208 831.552,320.511 832.487,324.843 \n",
       "  833.421,329.203 834.356,333.591 835.29,338.007 836.225,342.45 837.159,346.919 838.094,351.415 839.028,355.937 839.963,360.484 840.897,365.056 841.832,369.653 \n",
       "  842.766,374.273 843.701,378.917 844.636,383.584 845.57,388.274 846.505,392.986 847.439,397.719 848.374,402.474 849.308,407.25 850.243,412.045 851.177,416.861 \n",
       "  852.112,421.695 853.046,426.549 853.981,431.421 854.915,436.31 855.85,441.217 856.784,446.141 857.719,451.081 858.654,456.037 859.588,461.008 860.523,465.994 \n",
       "  861.457,470.994 862.392,476.009 863.326,481.036 864.261,486.077 865.195,491.13 866.13,496.194 867.064,501.27 867.999,506.357 868.933,511.454 869.868,516.561 \n",
       "  870.802,521.677 871.737,526.802 872.672,531.935 873.606,537.076 874.541,542.224 875.475,547.379 876.41,552.54 877.344,557.707 878.279,562.878 879.213,568.055 \n",
       "  880.148,573.235 881.082,578.42 882.017,583.607 882.951,588.797 883.886,593.989 884.82,599.182 885.755,604.376 886.69,609.571 887.624,614.766 888.559,619.96 \n",
       "  889.493,625.154 890.428,630.345 891.362,635.535 892.297,640.721 893.231,645.905 894.166,651.085 895.1,656.261 896.035,661.432 896.969,666.598 897.904,671.758 \n",
       "  898.838,676.912 899.773,682.059 900.708,687.198 901.642,692.33 902.577,697.454 903.511,702.569 904.446,707.674 905.38,712.77 906.315,717.855 907.249,722.929 \n",
       "  908.184,727.992 909.118,733.043 910.053,738.081 910.987,743.107 911.922,748.119 912.857,753.117 913.791,758.101 914.726,763.07 915.66,768.023 916.595,772.961 \n",
       "  917.529,777.882 918.464,782.786 919.398,787.673 920.333,792.542 921.267,797.393 922.202,802.224 923.136,807.037 924.071,811.829 925.005,816.602 925.94,821.353 \n",
       "  926.875,826.083 927.809,830.792 928.744,835.478 929.678,840.142 930.613,844.782 931.547,849.399 932.482,853.992 933.416,858.56 934.351,863.103 935.285,867.621 \n",
       "  936.22,872.113 937.154,876.578 938.089,881.017 939.023,885.429 939.958,889.812 940.893,894.168 941.827,898.495 942.762,902.793 943.696,907.062 944.631,911.301 \n",
       "  945.565,915.51 946.5,919.688 947.434,923.835 948.369,927.95 949.303,932.033 950.238,936.084 951.172,940.102 952.107,944.088 953.041,948.039 953.976,951.957 \n",
       "  954.911,955.84 955.845,959.688 956.78,963.502 957.714,967.28 958.649,971.022 959.583,974.727 960.518,978.396 961.452,982.028 962.387,985.623 963.321,989.18 \n",
       "  964.256,992.699 965.19,996.18 966.125,999.621 967.059,1003.02 967.994,1006.39 968.929,1009.71 969.863,1012.99 970.798,1016.24 971.732,1019.44 972.667,1022.6 \n",
       "  973.601,1025.72 974.536,1028.8 975.47,1031.83 976.405,1034.83 977.339,1037.78 978.274,1040.68 979.208,1043.55 980.143,1046.37 981.077,1049.15 982.012,1051.88 \n",
       "  982.947,1054.57 983.881,1057.21 984.816,1059.81 985.75,1062.37 986.685,1064.87 987.619,1067.34 988.554,1069.75 989.488,1072.12 990.423,1074.45 991.357,1076.73 \n",
       "  992.292,1078.96 993.226,1081.14 994.161,1083.28 995.095,1085.37 996.03,1087.41 996.965,1089.4 997.899,1091.35 998.834,1093.24 999.768,1095.09 1000.7,1096.89 \n",
       "  1001.64,1098.64 1002.57,1100.35 1003.51,1102 1004.44,1103.6 1005.38,1105.16 1006.31,1106.66 1007.24,1108.11 1008.18,1109.52 1009.11,1110.87 1010.05,1112.18 \n",
       "  1010.98,1113.43 1011.92,1114.63 1012.85,1115.79 1013.79,1116.89 1014.72,1117.94 1015.66,1118.94 1016.59,1119.89 1017.52,1120.78 1018.46,1121.63 1019.39,1122.42 \n",
       "  1020.33,1123.17 1021.26,1123.86 1022.2,1124.5 1023.13,1125.09 1024.07,1125.63 1025,1126.11 1025.94,1126.54 1026.87,1126.93 1027.8,1127.26 1028.74,1127.53 \n",
       "  1029.67,1127.76 1030.61,1127.93 1031.54,1128.06 1032.48,1128.13 1033.41,1128.14 1034.35,1128.11 1035.28,1128.02 1036.21,1127.89 1037.15,1127.7 1038.08,1127.45 \n",
       "  1039.02,1127.16 1039.95,1126.81 1040.89,1126.42 1041.82,1125.97 1042.76,1125.47 1043.69,1124.91 1044.63,1124.31 1045.56,1123.65 1046.49,1122.94 1047.43,1122.18 \n",
       "  1048.36,1121.37 1049.3,1120.51 1050.23,1119.6 1051.17,1118.63 1052.1,1117.62 1053.04,1116.55 1053.97,1115.43 1054.91,1114.27 1055.84,1113.05 1056.77,1111.78 \n",
       "  1057.71,1110.46 1058.64,1109.09 1059.58,1107.67 1060.51,1106.2 1061.45,1104.68 1062.38,1103.11 1063.32,1101.49 1064.25,1099.82 1065.19,1098.11 1066.12,1096.34 \n",
       "  1067.05,1094.53 1067.99,1092.66 1068.92,1090.75 1069.86,1088.79 1070.79,1086.78 1071.73,1084.73 1072.66,1082.62 1073.6,1080.47 1074.53,1078.27 1075.47,1076.03 \n",
       "  1076.4,1073.73 1077.33,1071.39 1078.27,1069.01 1079.2,1066.58 1080.14,1064.1 1081.07,1061.58 1082.01,1059.01 1082.94,1056.4 1083.88,1053.74 1084.81,1051.04 \n",
       "  1085.75,1048.29 1086.68,1045.5 1087.61,1042.67 1088.55,1039.79 1089.48,1036.87 1090.42,1033.9 1091.35,1030.9 1092.29,1027.85 1093.22,1024.76 1094.16,1021.62 \n",
       "  1095.09,1018.45 1096.03,1015.24 1096.96,1011.98 1097.89,1008.69 1098.83,1005.35 1099.76,1001.97 1100.7,998.559 1101.63,995.106 1102.57,991.613 1103.5,988.082 \n",
       "  1104.44,984.514 1105.37,980.907 1106.3,977.264 1107.24,973.583 1108.17,969.866 1109.11,966.113 1110.04,962.324 1110.98,958.5 1111.91,954.641 1112.85,950.747 \n",
       "  1113.78,946.819 1114.72,942.857 1115.65,938.861 1116.58,934.833 1117.52,930.772 1118.45,926.678 1119.39,922.553 1120.32,918.397 1121.26,914.209 1122.19,909.991 \n",
       "  1123.13,905.743 1124.06,901.465 1125,897.158 1125.93,892.822 1126.86,888.457 1127.8,884.065 1128.73,879.645 1129.67,875.198 1130.6,870.724 1131.54,866.224 \n",
       "  1132.47,861.698 1133.41,857.147 1134.34,852.571 1135.28,847.971 1136.21,843.347 1137.14,838.699 1138.08,834.029 1139.01,829.335 1139.95,824.62 1140.88,819.883 \n",
       "  1141.82,815.125 1142.75,810.347 1143.69,805.548 1144.62,800.73 1145.56,795.892 1146.49,791.036 1147.42,786.161 1148.36,781.269 1149.29,776.359 1150.23,771.433 \n",
       "  1151.16,766.49 1152.1,761.532 1153.03,756.559 1153.97,751.57 1154.9,746.568 1155.84,741.551 1156.77,736.522 1157.7,731.479 1158.64,726.425 1159.57,721.358 \n",
       "  1160.51,716.28 1161.44,711.192 1162.38,706.093 1163.31,700.985 1164.25,695.868 1165.18,690.741 1166.12,685.607 1167.05,680.465 1167.98,675.316 1168.92,670.16 \n",
       "  1169.85,664.998 1170.79,659.831 1171.72,654.658 1172.66,649.481 1173.59,644.3 1174.53,639.115 1175.46,633.927 1176.39,628.737 1177.33,623.545 1178.26,618.351 \n",
       "  1179.2,613.157 1180.13,607.962 1181.07,602.767 1182,597.573 1182.94,592.38 1183.87,587.189 1184.81,582 1185.74,576.813 1186.67,571.63 1187.61,566.451 \n",
       "  1188.54,561.276 1189.48,556.105 1190.41,550.94 1191.35,545.781 1192.28,540.628 1193.22,535.483 1194.15,530.344 1195.09,525.213 1196.02,520.091 1196.95,514.978 \n",
       "  1197.89,509.874 1198.82,504.78 1199.76,499.697 1200.69,494.624 1201.63,489.563 1202.56,484.514 1203.5,479.478 1204.43,474.454 1205.37,469.444 1206.3,464.448 \n",
       "  1207.23,459.466 1208.17,454.5 1209.1,449.549 1210.04,444.614 1210.97,439.695 1211.91,434.794 1212.84,429.909 1213.78,425.043 1214.71,420.196 1215.65,415.367 \n",
       "  1216.58,410.558 1217.51,405.768 1218.45,400.999 1219.38,396.251 1220.32,391.524 1221.25,386.819 1222.19,382.136 1223.12,377.476 1224.06,372.839 1224.99,368.226 \n",
       "  1225.93,363.637 1226.86,359.073 1227.79,354.533 1228.73,350.02 1229.66,345.532 1230.6,341.07 1231.53,336.636 1232.47,332.228 1233.4,327.849 1234.34,323.498 \n",
       "  1235.27,319.175 1236.21,314.881 1237.14,310.617 1238.07,306.383 1239.01,302.179 1239.94,298.006 1240.88,293.864 1241.81,289.753 1242.75,285.675 1243.68,281.629 \n",
       "  1244.62,277.616 1245.55,273.636 1246.48,269.69 1247.42,265.778 1248.35,261.9 1249.29,258.057 1250.22,254.249 1251.16,250.476 1252.09,246.74 1253.03,243.04 \n",
       "  1253.96,239.377 1254.9,235.75 1255.83,232.161 1256.76,228.61 1257.7,225.097 1258.63,221.623 1259.57,218.187 1260.5,214.79 1261.44,211.433 1262.37,208.116 \n",
       "  1263.31,204.839 1264.24,201.603 1265.18,198.407 1266.11,195.253 1267.04,192.14 1267.98,189.069 1268.91,186.039 1269.85,183.053 1270.78,180.109 1271.72,177.208 \n",
       "  1272.65,174.35 1273.59,171.536 1274.52,168.766 1275.46,166.039 1276.39,163.358 1277.32,160.72 1278.26,158.128 1279.19,155.581 1280.13,153.08 1281.06,150.624 \n",
       "  1282,148.214 1282.93,145.85 1283.87,143.533 1284.8,141.262 1285.74,139.039 1286.67,136.862 1287.6,134.733 1288.54,132.651 1289.47,130.617 1290.41,128.631 \n",
       "  1291.34,126.693 1292.28,124.803 1293.21,122.962 1294.15,121.17 1295.08,119.427 1296.02,117.732 1296.95,116.087 1297.88,114.491 1298.82,112.945 1299.75,111.449 \n",
       "  1300.69,110.002 1301.62,108.606 1302.56,107.259 1303.49,105.963 1304.43,104.718 1305.36,103.523 1306.3,102.378 1307.23,101.284 1308.16,100.242 1309.1,99.2498 \n",
       "  1310.03,98.3091 1310.97,97.4196 1311.9,96.5814 1312.84,95.7945 1313.77,95.0591 1314.71,94.3752 1315.64,93.7429 1316.58,93.1622 1317.51,92.6332 1318.44,92.156 \n",
       "  1319.38,91.7305 1320.31,91.3569 1321.25,91.0353 1322.18,90.7655 1323.12,90.5476 1324.05,90.3818 1324.99,90.2679 1325.92,90.206 1326.85,90.1961 1327.79,90.2382 \n",
       "  1328.72,90.3323 1329.66,90.4784 1330.59,90.6765 1331.53,90.9265 1332.46,91.2285 1333.4,91.5823 1334.33,91.988 1335.27,92.4455 1336.2,92.9548 1337.13,93.5159 \n",
       "  1338.07,94.1286 1339,94.7929 1339.94,95.5087 1340.87,96.276 1341.81,97.0947 1342.74,97.9647 1343.68,98.8859 1344.61,99.8583 1345.55,100.882 1346.48,101.956 \n",
       "  1347.41,103.081 1348.35,104.257 1349.28,105.483 1350.22,106.76 1351.15,108.088 1352.09,109.465 1353.02,110.893 1353.96,112.37 1354.89,113.897 1355.83,115.474 \n",
       "  1356.76,117.101 1357.69,118.776 1358.63,120.501 1359.56,122.275 1360.5,124.097 1361.43,125.968 1362.37,127.888 1363.3,129.856 1364.24,131.872 1365.17,133.935 \n",
       "  1366.11,136.046 1367.04,138.205 1367.97,140.411 1368.91,142.664 1369.84,144.963 1370.78,147.309 1371.71,149.702 1372.65,152.14 1373.58,154.624 1374.52,157.154 \n",
       "  1375.45,159.729 1376.39,162.349 1377.32,165.014 1378.25,167.723 1379.19,170.477 1380.12,173.274 1381.06,176.115 1381.99,179 1382.93,181.928 1383.86,184.898 \n",
       "  1384.8,187.911 1385.73,190.966 1386.67,194.064 1387.6,197.202 1388.53,200.382 1389.47,203.603 1390.4,206.865 1391.34,210.167 1392.27,213.509 1393.21,216.89 \n",
       "  1394.14,220.311 1395.08,223.771 1396.01,227.269 1396.94,230.806 1397.88,234.38 1398.81,237.993 1399.75,241.642 1400.68,245.328 1401.62,249.051 1402.55,252.809 \n",
       "  1403.49,256.604 1404.42,260.434 1405.36,264.298 1406.29,268.197 1407.22,272.131 1408.16,276.098 1409.09,280.099 1410.03,284.132 1410.96,288.198 1411.9,292.296 \n",
       "  1412.83,296.426 1413.77,300.588 1414.7,304.78 1415.64,309.003 1416.57,313.256 1417.5,317.538 1418.44,321.85 1419.37,326.19 1420.31,330.559 1421.24,334.956 \n",
       "  1422.18,339.38 1423.11,343.831 1424.05,348.309 1424.98,352.813 1425.92,357.343 1426.85,361.898 1427.78,366.477 1428.72,371.081 1429.65,375.709 1430.59,380.361 \n",
       "  1431.52,385.035 1432.46,389.731 1433.39,394.45 1434.33,399.19 1435.26,403.951 1436.2,408.733 1437.13,413.535 1438.06,418.356 1439,423.197 1439.93,428.056 \n",
       "  1440.87,432.933 1441.8,437.828 1442.74,442.741 1443.67,447.669 1444.61,452.614 1445.54,457.575 1446.48,462.551 1447.41,467.542 1448.34,472.546 1449.28,477.565 \n",
       "  1450.21,482.597 1451.15,487.641 1452.08,492.697 1453.02,497.766 1453.95,502.845 1454.89,507.935 1455.82,513.035 1456.76,518.145 1457.69,523.264 1458.62,528.391 \n",
       "  1459.56,533.527 1460.49,538.67 1461.43,543.82 1462.36,548.977 1463.3,554.14 1464.23,559.308 1465.17,564.481 1466.1,569.659 1467.03,574.841 1467.97,580.026 \n",
       "  1468.9,585.214 1469.84,590.405 1470.77,595.597 1471.71,600.791 1472.64,605.986 1473.58,611.181 1474.51,616.375 1475.45,621.569 1476.38,626.762 1477.31,631.953 \n",
       "  1478.25,637.142 1479.18,642.328 1480.12,647.51 1481.05,652.689 1481.99,657.863 1482.92,663.033 1483.86,668.197 1484.79,673.355 1485.73,678.507 1486.66,683.652 \n",
       "  1487.59,688.789 1488.53,693.918 1489.46,699.039 1490.4,704.151 1491.33,709.254 1492.27,714.346 1493.2,719.428 1494.14,724.498 1495.07,729.558 1496.01,734.605 \n",
       "  1496.94,739.639 1497.87,744.661 1498.81,749.669 1499.74,754.663 1500.68,759.642 1501.61,764.606 1502.55,769.555 1503.48,774.487 1504.42,779.403 1505.35,784.302 \n",
       "  1506.29,789.183 1507.22,794.047 1508.15,798.891 1509.09,803.717 1510.02,808.524 1510.96,813.31 1511.89,818.076 1512.83,822.821 1513.76,827.544 1514.7,832.246 \n",
       "  1515.63,836.925 1516.57,841.582 1517.5,846.215 1518.43,850.824 1519.37,855.409 1520.3,859.97 1521.24,864.505 1522.17,869.015 1523.11,873.499 1524.04,877.956 \n",
       "  1524.98,882.387 1525.91,886.79 1526.85,891.165 1527.78,895.512 1528.71,899.83 1529.65,904.119 1530.58,908.379 1531.52,912.608 1532.45,916.807 1533.39,920.976 \n",
       "  1534.32,925.113 1535.26,929.218 1536.19,933.292 1537.12,937.332 1538.06,941.341 1538.99,945.315 1539.93,949.256 1540.86,953.163 1541.8,957.036 1542.73,960.873 \n",
       "  1543.67,964.676 1544.6,968.443 1545.54,972.173 1546.47,975.868 1547.4,979.525 1548.34,983.146 1549.27,986.729 1550.21,990.274 1551.14,993.781 1552.08,997.25 \n",
       "  1553.01,1000.68 1553.95,1004.07 1554.88,1007.42 1555.82,1010.73 1556.75,1014 1557.68,1017.23 1558.62,1020.42 1559.55,1023.57 1560.49,1026.68 1561.42,1029.74 \n",
       "  1562.36,1032.76 1563.29,1035.74 1564.23,1038.68 1565.16,1041.58 1566.1,1044.43 1567.03,1047.23 1567.96,1050 1568.9,1052.72 1569.83,1055.39 1570.77,1058.02 \n",
       "  1571.7,1060.61 1572.64,1063.15 1573.57,1065.64 1574.51,1068.09 1575.44,1070.49 1576.38,1072.85 1577.31,1075.16 1578.24,1077.42 1579.18,1079.64 1580.11,1081.81 \n",
       "  1581.05,1083.93 1581.98,1086.01 1582.92,1088.03 1583.85,1090.01 1584.79,1091.94 1585.72,1093.82 1586.66,1095.66 1587.59,1097.44 1588.52,1099.18 1589.46,1100.86 \n",
       "  1590.39,1102.5 1591.33,1104.09 1592.26,1105.63 1593.2,1107.12 1594.13,1108.56 1595.07,1109.94 1596,1111.28 1596.94,1112.57 1597.87,1113.81 1598.8,1115 \n",
       "  1599.74,1116.13 1600.67,1117.22 1601.61,1118.25 1602.54,1119.24 1603.48,1120.17 1604.41,1121.05 1605.35,1121.88 1606.28,1122.66 1607.21,1123.39 1608.15,1124.06 \n",
       "  1609.08,1124.69 1610.02,1125.26 1610.95,1125.78 1611.89,1126.25 1612.82,1126.67 1613.76,1127.03 1614.69,1127.35 1615.63,1127.61 1616.56,1127.82 1617.49,1127.98 \n",
       "  1618.43,1128.08 1619.36,1128.14 1620.3,1128.14 1621.23,1128.09 1622.17,1127.99 1623.1,1127.83 1624.04,1127.63 1624.97,1127.37 1625.91,1127.06 1626.84,1126.7 \n",
       "  1627.77,1126.28 1628.71,1125.82 1629.64,1125.3 1630.58,1124.73 1631.51,1124.11 1632.45,1123.44 1633.38,1122.71 1634.32,1121.94 1635.25,1121.11 1636.19,1120.23 \n",
       "  1637.12,1119.3 1638.05,1118.32 1638.99,1117.29 1639.92,1116.21 1640.86,1115.08 1641.79,1113.89 1642.73,1112.66 1643.66,1111.38 1644.6,1110.04 1645.53,1108.65 \n",
       "  1646.47,1107.22 1647.4,1105.73 1648.33,1104.2 1649.27,1102.61 1650.2,1100.98 1651.14,1099.3 1652.07,1097.57 1653.01,1095.78 1653.94,1093.95 1654.88,1092.08 \n",
       "  1655.81,1090.15 1656.75,1088.17 1657.68,1086.15 1658.61,1084.08 1659.55,1081.96 1660.48,1079.79 1661.42,1077.58 1662.35,1075.32 1663.29,1073.01 1664.22,1070.66 \n",
       "  1665.16,1068.26 1666.09,1065.82 1667.03,1063.32 1667.96,1060.79 1668.89,1058.21 1669.83,1055.58 1670.76,1052.91 1671.7,1050.19 1672.63,1047.43 1673.57,1044.63 \n",
       "  \n",
       "  \"/>\n",
       "</svg>\n"
      ]
     },
     "execution_count": 17,
     "metadata": {},
     "output_type": "execute_result"
    }
   ],
   "source": [
    "x = 1:0.01:10\n",
    "Plots.plot(x, broadcast(cos,x),\n",
    "    seriestype=:line,\n",
    "    thickness_scaling=5,\n",
    "    size=(1800,1500),\n",
    "    legend=false\n",
    ")"
   ]
  },
  {
   "cell_type": "code",
   "execution_count": 20,
   "metadata": {},
   "outputs": [
    {
     "data": {
      "text/html": [
       "<div>\n",
       "<style scoped>\n",
       "    .dataframe tbody tr th:only-of-type {\n",
       "        vertical-align: middle;\n",
       "    }\n",
       "\n",
       "    .dataframe tbody tr th {\n",
       "        vertical-align: top;\n",
       "    }\n",
       "\n",
       "    .dataframe thead th {\n",
       "        text-align: right;\n",
       "    }\n",
       "</style>\n",
       "<table border=\"1\" class=\"dataframe\">\n",
       "  <thead>\n",
       "    <tr style=\"text-align: right;\">\n",
       "      <th></th>\n",
       "      <th>sepal_length</th>\n",
       "      <th>sepal_width</th>\n",
       "      <th>petal_length</th>\n",
       "      <th>petal_width</th>\n",
       "      <th>species</th>\n",
       "    </tr>\n",
       "  </thead>\n",
       "  <tbody>\n",
       "    <tr>\n",
       "      <th>0</th>\n",
       "      <td>5.1</td>\n",
       "      <td>3.5</td>\n",
       "      <td>1.4</td>\n",
       "      <td>0.2</td>\n",
       "      <td>setosa</td>\n",
       "    </tr>\n",
       "    <tr>\n",
       "      <th>1</th>\n",
       "      <td>4.9</td>\n",
       "      <td>3.0</td>\n",
       "      <td>1.4</td>\n",
       "      <td>0.2</td>\n",
       "      <td>setosa</td>\n",
       "    </tr>\n",
       "    <tr>\n",
       "      <th>2</th>\n",
       "      <td>4.7</td>\n",
       "      <td>3.2</td>\n",
       "      <td>1.3</td>\n",
       "      <td>0.2</td>\n",
       "      <td>setosa</td>\n",
       "    </tr>\n",
       "    <tr>\n",
       "      <th>3</th>\n",
       "      <td>4.6</td>\n",
       "      <td>3.1</td>\n",
       "      <td>1.5</td>\n",
       "      <td>0.2</td>\n",
       "      <td>setosa</td>\n",
       "    </tr>\n",
       "    <tr>\n",
       "      <th>4</th>\n",
       "      <td>5.0</td>\n",
       "      <td>3.6</td>\n",
       "      <td>1.4</td>\n",
       "      <td>0.2</td>\n",
       "      <td>setosa</td>\n",
       "    </tr>\n",
       "  </tbody>\n",
       "</table>\n",
       "</div>"
      ],
      "text/plain": [
       "PyObject    sepal_length  sepal_width  petal_length  petal_width species\n",
       "0           5.1          3.5           1.4          0.2  setosa\n",
       "1           4.9          3.0           1.4          0.2  setosa\n",
       "2           4.7          3.2           1.3          0.2  setosa\n",
       "3           4.6          3.1           1.5          0.2  setosa\n",
       "4           5.0          3.6           1.4          0.2  setosa"
      ]
     },
     "execution_count": 20,
     "metadata": {},
     "output_type": "execute_result"
    }
   ],
   "source": [
    "iris = sns.load_dataset(\"iris\") # iris flowers, a classic dataset\n",
    "iris.head()"
   ]
  },
  {
   "cell_type": "markdown",
   "metadata": {},
   "source": [
    "## Histogram"
   ]
  },
  {
   "cell_type": "code",
   "execution_count": 30,
   "metadata": {},
   "outputs": [
    {
     "data": {
      "image/svg+xml": [
       "<?xml version=\"1.0\" encoding=\"utf-8\"?>\n",
       "<svg xmlns=\"http://www.w3.org/2000/svg\" xmlns:xlink=\"http://www.w3.org/1999/xlink\" width=\"450\" height=\"375\" viewBox=\"0 0 1800 1500\">\n",
       "<defs>\n",
       "  <clipPath id=\"clip8800\">\n",
       "    <rect x=\"0\" y=\"0\" width=\"1800\" height=\"1500\"/>\n",
       "  </clipPath>\n",
       "</defs>\n",
       "<polygon clip-path=\"url(#clip8800)\" points=\"\n",
       "0,1500 1800,1500 1800,0 0,0 \n",
       "  \" fill=\"#ffffff\" fill-rule=\"evenodd\" fill-opacity=\"1\"/>\n",
       "<defs>\n",
       "  <clipPath id=\"clip8801\">\n",
       "    <rect x=\"360\" y=\"0\" width=\"1261\" height=\"1261\"/>\n",
       "  </clipPath>\n",
       "</defs>\n",
       "<polygon clip-path=\"url(#clip8800)\" points=\"\n",
       "263.756,1290.12 1701.57,1290.12 1701.57,59.0551 263.756,59.0551 \n",
       "  \" fill=\"#ffffff\" fill-rule=\"evenodd\" fill-opacity=\"1\"/>\n",
       "<defs>\n",
       "  <clipPath id=\"clip8802\">\n",
       "    <rect x=\"263\" y=\"59\" width=\"1439\" height=\"1232\"/>\n",
       "  </clipPath>\n",
       "</defs>\n",
       "<polyline clip-path=\"url(#clip8802)\" style=\"stroke:#000000; stroke-width:2.5; stroke-opacity:0.1; fill:none\" points=\"\n",
       "  342.839,1290.12 342.839,59.0551 \n",
       "  \"/>\n",
       "<polyline clip-path=\"url(#clip8802)\" style=\"stroke:#000000; stroke-width:2.5; stroke-opacity:0.1; fill:none\" points=\"\n",
       "  662.752,1290.12 662.752,59.0551 \n",
       "  \"/>\n",
       "<polyline clip-path=\"url(#clip8802)\" style=\"stroke:#000000; stroke-width:2.5; stroke-opacity:0.1; fill:none\" points=\"\n",
       "  982.666,1290.12 982.666,59.0551 \n",
       "  \"/>\n",
       "<polyline clip-path=\"url(#clip8802)\" style=\"stroke:#000000; stroke-width:2.5; stroke-opacity:0.1; fill:none\" points=\"\n",
       "  1302.58,1290.12 1302.58,59.0551 \n",
       "  \"/>\n",
       "<polyline clip-path=\"url(#clip8802)\" style=\"stroke:#000000; stroke-width:2.5; stroke-opacity:0.1; fill:none\" points=\"\n",
       "  1622.49,1290.12 1622.49,59.0551 \n",
       "  \"/>\n",
       "<polyline clip-path=\"url(#clip8802)\" style=\"stroke:#000000; stroke-width:2.5; stroke-opacity:0.1; fill:none\" points=\"\n",
       "  263.756,1255.28 1701.57,1255.28 \n",
       "  \"/>\n",
       "<polyline clip-path=\"url(#clip8802)\" style=\"stroke:#000000; stroke-width:2.5; stroke-opacity:0.1; fill:none\" points=\"\n",
       "  263.756,892.349 1701.57,892.349 \n",
       "  \"/>\n",
       "<polyline clip-path=\"url(#clip8802)\" style=\"stroke:#000000; stroke-width:2.5; stroke-opacity:0.1; fill:none\" points=\"\n",
       "  263.756,529.416 1701.57,529.416 \n",
       "  \"/>\n",
       "<polyline clip-path=\"url(#clip8802)\" style=\"stroke:#000000; stroke-width:2.5; stroke-opacity:0.1; fill:none\" points=\"\n",
       "  263.756,166.483 1701.57,166.483 \n",
       "  \"/>\n",
       "<polyline clip-path=\"url(#clip8800)\" style=\"stroke:#000000; stroke-width:5; stroke-opacity:1; fill:none\" points=\"\n",
       "  263.756,1290.12 1701.57,1290.12 \n",
       "  \"/>\n",
       "<polyline clip-path=\"url(#clip8800)\" style=\"stroke:#000000; stroke-width:5; stroke-opacity:1; fill:none\" points=\"\n",
       "  263.756,1290.12 263.756,59.0551 \n",
       "  \"/>\n",
       "<polyline clip-path=\"url(#clip8800)\" style=\"stroke:#000000; stroke-width:5; stroke-opacity:1; fill:none\" points=\"\n",
       "  342.839,1290.12 342.839,1271.66 \n",
       "  \"/>\n",
       "<polyline clip-path=\"url(#clip8800)\" style=\"stroke:#000000; stroke-width:5; stroke-opacity:1; fill:none\" points=\"\n",
       "  662.752,1290.12 662.752,1271.66 \n",
       "  \"/>\n",
       "<polyline clip-path=\"url(#clip8800)\" style=\"stroke:#000000; stroke-width:5; stroke-opacity:1; fill:none\" points=\"\n",
       "  982.666,1290.12 982.666,1271.66 \n",
       "  \"/>\n",
       "<polyline clip-path=\"url(#clip8800)\" style=\"stroke:#000000; stroke-width:5; stroke-opacity:1; fill:none\" points=\"\n",
       "  1302.58,1290.12 1302.58,1271.66 \n",
       "  \"/>\n",
       "<polyline clip-path=\"url(#clip8800)\" style=\"stroke:#000000; stroke-width:5; stroke-opacity:1; fill:none\" points=\"\n",
       "  1622.49,1290.12 1622.49,1271.66 \n",
       "  \"/>\n",
       "<polyline clip-path=\"url(#clip8800)\" style=\"stroke:#000000; stroke-width:5; stroke-opacity:1; fill:none\" points=\"\n",
       "  263.756,1255.28 285.324,1255.28 \n",
       "  \"/>\n",
       "<polyline clip-path=\"url(#clip8800)\" style=\"stroke:#000000; stroke-width:5; stroke-opacity:1; fill:none\" points=\"\n",
       "  263.756,892.349 285.324,892.349 \n",
       "  \"/>\n",
       "<polyline clip-path=\"url(#clip8800)\" style=\"stroke:#000000; stroke-width:5; stroke-opacity:1; fill:none\" points=\"\n",
       "  263.756,529.416 285.324,529.416 \n",
       "  \"/>\n",
       "<polyline clip-path=\"url(#clip8800)\" style=\"stroke:#000000; stroke-width:5; stroke-opacity:1; fill:none\" points=\"\n",
       "  263.756,166.483 285.324,166.483 \n",
       "  \"/>\n",
       "<g clip-path=\"url(#clip8800)\">\n",
       "<text style=\"fill:#000000; fill-opacity:1; font-family:Arial,Helvetica Neue,Helvetica,sans-serif; font-size:59px; text-anchor:middle;\" transform=\"rotate(0, 342.839, 1350.72)\" x=\"342.839\" y=\"1350.72\">4</text>\n",
       "</g>\n",
       "<g clip-path=\"url(#clip8800)\">\n",
       "<text style=\"fill:#000000; fill-opacity:1; font-family:Arial,Helvetica Neue,Helvetica,sans-serif; font-size:59px; text-anchor:middle;\" transform=\"rotate(0, 662.752, 1350.72)\" x=\"662.752\" y=\"1350.72\">5</text>\n",
       "</g>\n",
       "<g clip-path=\"url(#clip8800)\">\n",
       "<text style=\"fill:#000000; fill-opacity:1; font-family:Arial,Helvetica Neue,Helvetica,sans-serif; font-size:59px; text-anchor:middle;\" transform=\"rotate(0, 982.666, 1350.72)\" x=\"982.666\" y=\"1350.72\">6</text>\n",
       "</g>\n",
       "<g clip-path=\"url(#clip8800)\">\n",
       "<text style=\"fill:#000000; fill-opacity:1; font-family:Arial,Helvetica Neue,Helvetica,sans-serif; font-size:59px; text-anchor:middle;\" transform=\"rotate(0, 1302.58, 1350.72)\" x=\"1302.58\" y=\"1350.72\">7</text>\n",
       "</g>\n",
       "<g clip-path=\"url(#clip8800)\">\n",
       "<text style=\"fill:#000000; fill-opacity:1; font-family:Arial,Helvetica Neue,Helvetica,sans-serif; font-size:59px; text-anchor:middle;\" transform=\"rotate(0, 1622.49, 1350.72)\" x=\"1622.49\" y=\"1350.72\">8</text>\n",
       "</g>\n",
       "<g clip-path=\"url(#clip8800)\">\n",
       "<text style=\"fill:#000000; fill-opacity:1; font-family:Arial,Helvetica Neue,Helvetica,sans-serif; font-size:59px; text-anchor:end;\" transform=\"rotate(0, 245.756, 1276.78)\" x=\"245.756\" y=\"1276.78\">0</text>\n",
       "</g>\n",
       "<g clip-path=\"url(#clip8800)\">\n",
       "<text style=\"fill:#000000; fill-opacity:1; font-family:Arial,Helvetica Neue,Helvetica,sans-serif; font-size:59px; text-anchor:end;\" transform=\"rotate(0, 245.756, 913.849)\" x=\"245.756\" y=\"913.849\">10</text>\n",
       "</g>\n",
       "<g clip-path=\"url(#clip8800)\">\n",
       "<text style=\"fill:#000000; fill-opacity:1; font-family:Arial,Helvetica Neue,Helvetica,sans-serif; font-size:59px; text-anchor:end;\" transform=\"rotate(0, 245.756, 550.916)\" x=\"245.756\" y=\"550.916\">20</text>\n",
       "</g>\n",
       "<g clip-path=\"url(#clip8800)\">\n",
       "<text style=\"fill:#000000; fill-opacity:1; font-family:Arial,Helvetica Neue,Helvetica,sans-serif; font-size:59px; text-anchor:end;\" transform=\"rotate(0, 245.756, 187.983)\" x=\"245.756\" y=\"187.983\">30</text>\n",
       "</g>\n",
       "<g clip-path=\"url(#clip8800)\">\n",
       "<text style=\"fill:#000000; fill-opacity:1; font-family:Arial,Helvetica Neue,Helvetica,sans-serif; font-size:81px; text-anchor:middle;\" transform=\"rotate(0, 982.666, 1488.2)\" x=\"982.666\" y=\"1488.2\">sepal length</text>\n",
       "</g>\n",
       "<g clip-path=\"url(#clip8800)\">\n",
       "<text style=\"fill:#000000; fill-opacity:1; font-family:Arial,Helvetica Neue,Helvetica,sans-serif; font-size:81px; text-anchor:middle;\" transform=\"rotate(-90, 70.8, 674.59)\" x=\"70.8\" y=\"674.59\">frequency</text>\n",
       "</g>\n",
       "<polygon clip-path=\"url(#clip8802)\" points=\"\n",
       "342.839,1110.11 342.839,1255.28 502.795,1255.28 502.795,1110.11 342.839,1110.11 342.839,1110.11 \n",
       "  \" fill=\"#009af9\" fill-rule=\"evenodd\" fill-opacity=\"1\"/>\n",
       "<polyline clip-path=\"url(#clip8802)\" style=\"stroke:#000000; stroke-width:5; stroke-opacity:1; fill:none\" points=\"\n",
       "  342.839,1110.11 342.839,1255.28 502.795,1255.28 502.795,1110.11 342.839,1110.11 \n",
       "  \"/>\n",
       "<polygon clip-path=\"url(#clip8802)\" points=\"\n",
       "502.795,602.003 502.795,1255.28 662.752,1255.28 662.752,602.003 502.795,602.003 502.795,602.003 \n",
       "  \" fill=\"#009af9\" fill-rule=\"evenodd\" fill-opacity=\"1\"/>\n",
       "<polyline clip-path=\"url(#clip8802)\" style=\"stroke:#000000; stroke-width:5; stroke-opacity:1; fill:none\" points=\"\n",
       "  502.795,602.003 502.795,1255.28 662.752,1255.28 662.752,602.003 502.795,602.003 \n",
       "  \"/>\n",
       "<polygon clip-path=\"url(#clip8802)\" points=\"\n",
       "662.752,166.483 662.752,1255.28 822.709,1255.28 822.709,166.483 662.752,166.483 662.752,166.483 \n",
       "  \" fill=\"#009af9\" fill-rule=\"evenodd\" fill-opacity=\"1\"/>\n",
       "<polyline clip-path=\"url(#clip8802)\" style=\"stroke:#000000; stroke-width:5; stroke-opacity:1; fill:none\" points=\"\n",
       "  662.752,166.483 662.752,1255.28 822.709,1255.28 822.709,166.483 662.752,166.483 \n",
       "  \"/>\n",
       "<polygon clip-path=\"url(#clip8802)\" points=\"\n",
       "822.709,130.19 822.709,1255.28 982.666,1255.28 982.666,130.19 822.709,130.19 822.709,130.19 \n",
       "  \" fill=\"#009af9\" fill-rule=\"evenodd\" fill-opacity=\"1\"/>\n",
       "<polyline clip-path=\"url(#clip8802)\" style=\"stroke:#000000; stroke-width:5; stroke-opacity:1; fill:none\" points=\"\n",
       "  822.709,130.19 822.709,1255.28 982.666,1255.28 982.666,130.19 822.709,130.19 \n",
       "  \"/>\n",
       "<polygon clip-path=\"url(#clip8802)\" points=\"\n",
       "982.666,93.8967 982.666,1255.28 1142.62,1255.28 1142.62,93.8967 982.666,93.8967 982.666,93.8967 \n",
       "  \" fill=\"#009af9\" fill-rule=\"evenodd\" fill-opacity=\"1\"/>\n",
       "<polyline clip-path=\"url(#clip8802)\" style=\"stroke:#000000; stroke-width:5; stroke-opacity:1; fill:none\" points=\"\n",
       "  982.666,93.8967 982.666,1255.28 1142.62,1255.28 1142.62,93.8967 982.666,93.8967 \n",
       "  \"/>\n",
       "<polygon clip-path=\"url(#clip8802)\" points=\"\n",
       "1142.62,456.83 1142.62,1255.28 1302.58,1255.28 1302.58,456.83 1142.62,456.83 1142.62,456.83 \n",
       "  \" fill=\"#009af9\" fill-rule=\"evenodd\" fill-opacity=\"1\"/>\n",
       "<polyline clip-path=\"url(#clip8802)\" style=\"stroke:#000000; stroke-width:5; stroke-opacity:1; fill:none\" points=\"\n",
       "  1142.62,456.83 1142.62,1255.28 1302.58,1255.28 1302.58,456.83 1142.62,456.83 \n",
       "  \"/>\n",
       "<polygon clip-path=\"url(#clip8802)\" points=\"\n",
       "1302.58,1001.23 1302.58,1255.28 1462.54,1255.28 1462.54,1001.23 1302.58,1001.23 1302.58,1001.23 \n",
       "  \" fill=\"#009af9\" fill-rule=\"evenodd\" fill-opacity=\"1\"/>\n",
       "<polyline clip-path=\"url(#clip8802)\" style=\"stroke:#000000; stroke-width:5; stroke-opacity:1; fill:none\" points=\"\n",
       "  1302.58,1001.23 1302.58,1255.28 1462.54,1255.28 1462.54,1001.23 1302.58,1001.23 \n",
       "  \"/>\n",
       "<polygon clip-path=\"url(#clip8802)\" points=\"\n",
       "1462.54,1037.52 1462.54,1255.28 1622.49,1255.28 1622.49,1037.52 1462.54,1037.52 1462.54,1037.52 \n",
       "  \" fill=\"#009af9\" fill-rule=\"evenodd\" fill-opacity=\"1\"/>\n",
       "<polyline clip-path=\"url(#clip8802)\" style=\"stroke:#000000; stroke-width:5; stroke-opacity:1; fill:none\" points=\"\n",
       "  1462.54,1037.52 1462.54,1255.28 1622.49,1255.28 1622.49,1037.52 1462.54,1037.52 \n",
       "  \"/>\n",
       "</svg>\n"
      ]
     },
     "metadata": {},
     "output_type": "display_data"
    }
   ],
   "source": [
    "display(Plots.histogram(convert(Array,iris.sepal_length),\n",
    "    xlabel=\"sepal length\",\n",
    "    ylabel=\"frequency\",\n",
    "    size=(1800,1500),\n",
    "    legend=false,\n",
    "    thickness_scaling=5\n",
    "))\n",
    "# sns.distplot(iris[\"sepal_length\"]);"
   ]
  },
  {
   "cell_type": "markdown",
   "metadata": {},
   "source": [
    "## Box plot"
   ]
  },
  {
   "cell_type": "code",
   "execution_count": 33,
   "metadata": {},
   "outputs": [
    {
     "data": {
      "image/png": "[encoded data removed]",
      "text/plain": [
       "Figure(PyObject <Figure size 640x480 with 1 Axes>)"
      ]
     },
     "metadata": {},
     "output_type": "display_data"
    }
   ],
   "source": [
    "sns.boxplot(x=\"survived\", y=\"fare\", data=titanic);"
   ]
  },
  {
   "cell_type": "markdown",
   "metadata": {},
   "source": [
    "## Scatterplot"
   ]
  },
  {
   "cell_type": "code",
   "execution_count": 38,
   "metadata": {},
   "outputs": [
    {
     "data": {
      "image/svg+xml": [
       "<?xml version=\"1.0\" encoding=\"utf-8\"?>\n",
       "<svg xmlns=\"http://www.w3.org/2000/svg\" xmlns:xlink=\"http://www.w3.org/1999/xlink\" width=\"450\" height=\"375\" viewBox=\"0 0 1800 1500\">\n",
       "<defs>\n",
       "  <clipPath id=\"clip0000\">\n",
       "    <rect x=\"0\" y=\"0\" width=\"1800\" height=\"1500\"/>\n",
       "  </clipPath>\n",
       "</defs>\n",
       "<polygon clip-path=\"url(#clip0000)\" points=\"\n",
       "0,1500 1800,1500 1800,0 0,0 \n",
       "  \" fill=\"#ffffff\" fill-rule=\"evenodd\" fill-opacity=\"1\"/>\n",
       "<defs>\n",
       "  <clipPath id=\"clip0001\">\n",
       "    <rect x=\"360\" y=\"0\" width=\"1261\" height=\"1261\"/>\n",
       "  </clipPath>\n",
       "</defs>\n",
       "<polygon clip-path=\"url(#clip0000)\" points=\"\n",
       "230.303,1290.12 1701.57,1290.12 1701.57,59.0551 230.303,59.0551 \n",
       "  \" fill=\"#ffffff\" fill-rule=\"evenodd\" fill-opacity=\"1\"/>\n",
       "<defs>\n",
       "  <clipPath id=\"clip0002\">\n",
       "    <rect x=\"230\" y=\"59\" width=\"1472\" height=\"1232\"/>\n",
       "  </clipPath>\n",
       "</defs>\n",
       "<polyline clip-path=\"url(#clip0002)\" style=\"stroke:#000000; stroke-width:2.5; stroke-opacity:0.1; fill:none\" points=\"\n",
       "  541.83,1290.12 541.83,59.0551 \n",
       "  \"/>\n",
       "<polyline clip-path=\"url(#clip0002)\" style=\"stroke:#000000; stroke-width:2.5; stroke-opacity:0.1; fill:none\" points=\"\n",
       "  927.384,1290.12 927.384,59.0551 \n",
       "  \"/>\n",
       "<polyline clip-path=\"url(#clip0002)\" style=\"stroke:#000000; stroke-width:2.5; stroke-opacity:0.1; fill:none\" points=\"\n",
       "  1312.94,1290.12 1312.94,59.0551 \n",
       "  \"/>\n",
       "<polyline clip-path=\"url(#clip0002)\" style=\"stroke:#000000; stroke-width:2.5; stroke-opacity:0.1; fill:none\" points=\"\n",
       "  1698.49,1290.12 1698.49,59.0551 \n",
       "  \"/>\n",
       "<polyline clip-path=\"url(#clip0002)\" style=\"stroke:#000000; stroke-width:2.5; stroke-opacity:0.1; fill:none\" points=\"\n",
       "  230.303,1255.28 1701.57,1255.28 \n",
       "  \"/>\n",
       "<polyline clip-path=\"url(#clip0002)\" style=\"stroke:#000000; stroke-width:2.5; stroke-opacity:0.1; fill:none\" points=\"\n",
       "  230.303,1058.44 1701.57,1058.44 \n",
       "  \"/>\n",
       "<polyline clip-path=\"url(#clip0002)\" style=\"stroke:#000000; stroke-width:2.5; stroke-opacity:0.1; fill:none\" points=\"\n",
       "  230.303,861.592 1701.57,861.592 \n",
       "  \"/>\n",
       "<polyline clip-path=\"url(#clip0002)\" style=\"stroke:#000000; stroke-width:2.5; stroke-opacity:0.1; fill:none\" points=\"\n",
       "  230.303,664.747 1701.57,664.747 \n",
       "  \"/>\n",
       "<polyline clip-path=\"url(#clip0002)\" style=\"stroke:#000000; stroke-width:2.5; stroke-opacity:0.1; fill:none\" points=\"\n",
       "  230.303,467.902 1701.57,467.902 \n",
       "  \"/>\n",
       "<polyline clip-path=\"url(#clip0002)\" style=\"stroke:#000000; stroke-width:2.5; stroke-opacity:0.1; fill:none\" points=\"\n",
       "  230.303,271.057 1701.57,271.057 \n",
       "  \"/>\n",
       "<polyline clip-path=\"url(#clip0002)\" style=\"stroke:#000000; stroke-width:2.5; stroke-opacity:0.1; fill:none\" points=\"\n",
       "  230.303,74.2122 1701.57,74.2122 \n",
       "  \"/>\n",
       "<polyline clip-path=\"url(#clip0000)\" style=\"stroke:#000000; stroke-width:5; stroke-opacity:1; fill:none\" points=\"\n",
       "  230.303,1290.12 1701.57,1290.12 \n",
       "  \"/>\n",
       "<polyline clip-path=\"url(#clip0000)\" style=\"stroke:#000000; stroke-width:5; stroke-opacity:1; fill:none\" points=\"\n",
       "  230.303,1290.12 230.303,59.0551 \n",
       "  \"/>\n",
       "<polyline clip-path=\"url(#clip0000)\" style=\"stroke:#000000; stroke-width:5; stroke-opacity:1; fill:none\" points=\"\n",
       "  541.83,1290.12 541.83,1271.66 \n",
       "  \"/>\n",
       "<polyline clip-path=\"url(#clip0000)\" style=\"stroke:#000000; stroke-width:5; stroke-opacity:1; fill:none\" points=\"\n",
       "  927.384,1290.12 927.384,1271.66 \n",
       "  \"/>\n",
       "<polyline clip-path=\"url(#clip0000)\" style=\"stroke:#000000; stroke-width:5; stroke-opacity:1; fill:none\" points=\"\n",
       "  1312.94,1290.12 1312.94,1271.66 \n",
       "  \"/>\n",
       "<polyline clip-path=\"url(#clip0000)\" style=\"stroke:#000000; stroke-width:5; stroke-opacity:1; fill:none\" points=\"\n",
       "  1698.49,1290.12 1698.49,1271.66 \n",
       "  \"/>\n",
       "<polyline clip-path=\"url(#clip0000)\" style=\"stroke:#000000; stroke-width:5; stroke-opacity:1; fill:none\" points=\"\n",
       "  230.303,1255.28 252.372,1255.28 \n",
       "  \"/>\n",
       "<polyline clip-path=\"url(#clip0000)\" style=\"stroke:#000000; stroke-width:5; stroke-opacity:1; fill:none\" points=\"\n",
       "  230.303,1058.44 252.372,1058.44 \n",
       "  \"/>\n",
       "<polyline clip-path=\"url(#clip0000)\" style=\"stroke:#000000; stroke-width:5; stroke-opacity:1; fill:none\" points=\"\n",
       "  230.303,861.592 252.372,861.592 \n",
       "  \"/>\n",
       "<polyline clip-path=\"url(#clip0000)\" style=\"stroke:#000000; stroke-width:5; stroke-opacity:1; fill:none\" points=\"\n",
       "  230.303,664.747 252.372,664.747 \n",
       "  \"/>\n",
       "<polyline clip-path=\"url(#clip0000)\" style=\"stroke:#000000; stroke-width:5; stroke-opacity:1; fill:none\" points=\"\n",
       "  230.303,467.902 252.372,467.902 \n",
       "  \"/>\n",
       "<polyline clip-path=\"url(#clip0000)\" style=\"stroke:#000000; stroke-width:5; stroke-opacity:1; fill:none\" points=\"\n",
       "  230.303,271.057 252.372,271.057 \n",
       "  \"/>\n",
       "<polyline clip-path=\"url(#clip0000)\" style=\"stroke:#000000; stroke-width:5; stroke-opacity:1; fill:none\" points=\"\n",
       "  230.303,74.2122 252.372,74.2122 \n",
       "  \"/>\n",
       "<g clip-path=\"url(#clip0000)\">\n",
       "<text style=\"fill:#000000; fill-opacity:1; font-family:Arial,Helvetica Neue,Helvetica,sans-serif; font-size:59px; text-anchor:middle;\" transform=\"rotate(0, 541.83, 1350.72)\" x=\"541.83\" y=\"1350.72\">5</text>\n",
       "</g>\n",
       "<g clip-path=\"url(#clip0000)\">\n",
       "<text style=\"fill:#000000; fill-opacity:1; font-family:Arial,Helvetica Neue,Helvetica,sans-serif; font-size:59px; text-anchor:middle;\" transform=\"rotate(0, 927.384, 1350.72)\" x=\"927.384\" y=\"1350.72\">6</text>\n",
       "</g>\n",
       "<g clip-path=\"url(#clip0000)\">\n",
       "<text style=\"fill:#000000; fill-opacity:1; font-family:Arial,Helvetica Neue,Helvetica,sans-serif; font-size:59px; text-anchor:middle;\" transform=\"rotate(0, 1312.94, 1350.72)\" x=\"1312.94\" y=\"1350.72\">7</text>\n",
       "</g>\n",
       "<g clip-path=\"url(#clip0000)\">\n",
       "<text style=\"fill:#000000; fill-opacity:1; font-family:Arial,Helvetica Neue,Helvetica,sans-serif; font-size:59px; text-anchor:middle;\" transform=\"rotate(0, 1698.49, 1350.72)\" x=\"1698.49\" y=\"1350.72\">8</text>\n",
       "</g>\n",
       "<g clip-path=\"url(#clip0000)\">\n",
       "<text style=\"fill:#000000; fill-opacity:1; font-family:Arial,Helvetica Neue,Helvetica,sans-serif; font-size:59px; text-anchor:end;\" transform=\"rotate(0, 212.303, 1276.78)\" x=\"212.303\" y=\"1276.78\">1</text>\n",
       "</g>\n",
       "<g clip-path=\"url(#clip0000)\">\n",
       "<text style=\"fill:#000000; fill-opacity:1; font-family:Arial,Helvetica Neue,Helvetica,sans-serif; font-size:59px; text-anchor:end;\" transform=\"rotate(0, 212.303, 1079.94)\" x=\"212.303\" y=\"1079.94\">2</text>\n",
       "</g>\n",
       "<g clip-path=\"url(#clip0000)\">\n",
       "<text style=\"fill:#000000; fill-opacity:1; font-family:Arial,Helvetica Neue,Helvetica,sans-serif; font-size:59px; text-anchor:end;\" transform=\"rotate(0, 212.303, 883.092)\" x=\"212.303\" y=\"883.092\">3</text>\n",
       "</g>\n",
       "<g clip-path=\"url(#clip0000)\">\n",
       "<text style=\"fill:#000000; fill-opacity:1; font-family:Arial,Helvetica Neue,Helvetica,sans-serif; font-size:59px; text-anchor:end;\" transform=\"rotate(0, 212.303, 686.247)\" x=\"212.303\" y=\"686.247\">4</text>\n",
       "</g>\n",
       "<g clip-path=\"url(#clip0000)\">\n",
       "<text style=\"fill:#000000; fill-opacity:1; font-family:Arial,Helvetica Neue,Helvetica,sans-serif; font-size:59px; text-anchor:end;\" transform=\"rotate(0, 212.303, 489.402)\" x=\"212.303\" y=\"489.402\">5</text>\n",
       "</g>\n",
       "<g clip-path=\"url(#clip0000)\">\n",
       "<text style=\"fill:#000000; fill-opacity:1; font-family:Arial,Helvetica Neue,Helvetica,sans-serif; font-size:59px; text-anchor:end;\" transform=\"rotate(0, 212.303, 292.557)\" x=\"212.303\" y=\"292.557\">6</text>\n",
       "</g>\n",
       "<g clip-path=\"url(#clip0000)\">\n",
       "<text style=\"fill:#000000; fill-opacity:1; font-family:Arial,Helvetica Neue,Helvetica,sans-serif; font-size:59px; text-anchor:end;\" transform=\"rotate(0, 212.303, 95.7122)\" x=\"212.303\" y=\"95.7122\">7</text>\n",
       "</g>\n",
       "<g clip-path=\"url(#clip0000)\">\n",
       "<text style=\"fill:#000000; fill-opacity:1; font-family:Arial,Helvetica Neue,Helvetica,sans-serif; font-size:81px; text-anchor:middle;\" transform=\"rotate(0, 965.939, 1488.2)\" x=\"965.939\" y=\"1488.2\">sepal length</text>\n",
       "</g>\n",
       "<g clip-path=\"url(#clip0000)\">\n",
       "<text style=\"fill:#000000; fill-opacity:1; font-family:Arial,Helvetica Neue,Helvetica,sans-serif; font-size:81px; text-anchor:middle;\" transform=\"rotate(-90, 70.8, 674.59)\" x=\"70.8\" y=\"674.59\">petal length</text>\n",
       "</g>\n",
       "<circle clip-path=\"url(#clip0002)\" style=\"fill:#000000; stroke:none; fill-opacity:1\" cx=\"580.386\" cy=\"1176.54\" r=\"18\"/>\n",
       "<circle clip-path=\"url(#clip0002)\" style=\"fill:#009af9; stroke:none; fill-opacity:1\" cx=\"580.386\" cy=\"1176.54\" r=\"18\"/>\n",
       "<circle clip-path=\"url(#clip0002)\" style=\"fill:#000000; stroke:none; fill-opacity:1\" cx=\"503.275\" cy=\"1176.54\" r=\"18\"/>\n",
       "<circle clip-path=\"url(#clip0002)\" style=\"fill:#009af9; stroke:none; fill-opacity:1\" cx=\"503.275\" cy=\"1176.54\" r=\"18\"/>\n",
       "<circle clip-path=\"url(#clip0002)\" style=\"fill:#000000; stroke:none; fill-opacity:1\" cx=\"426.164\" cy=\"1196.23\" r=\"18\"/>\n",
       "<circle clip-path=\"url(#clip0002)\" style=\"fill:#009af9; stroke:none; fill-opacity:1\" cx=\"426.164\" cy=\"1196.23\" r=\"18\"/>\n",
       "<circle clip-path=\"url(#clip0002)\" style=\"fill:#000000; stroke:none; fill-opacity:1\" cx=\"387.609\" cy=\"1156.86\" r=\"18\"/>\n",
       "<circle clip-path=\"url(#clip0002)\" style=\"fill:#009af9; stroke:none; fill-opacity:1\" cx=\"387.609\" cy=\"1156.86\" r=\"18\"/>\n",
       "<circle clip-path=\"url(#clip0002)\" style=\"fill:#000000; stroke:none; fill-opacity:1\" cx=\"541.83\" cy=\"1176.54\" r=\"18\"/>\n",
       "<circle clip-path=\"url(#clip0002)\" style=\"fill:#009af9; stroke:none; fill-opacity:1\" cx=\"541.83\" cy=\"1176.54\" r=\"18\"/>\n",
       "<circle clip-path=\"url(#clip0002)\" style=\"fill:#000000; stroke:none; fill-opacity:1\" cx=\"696.052\" cy=\"1117.49\" r=\"18\"/>\n",
       "<circle clip-path=\"url(#clip0002)\" style=\"fill:#009af9; stroke:none; fill-opacity:1\" cx=\"696.052\" cy=\"1117.49\" r=\"18\"/>\n",
       "<circle clip-path=\"url(#clip0002)\" style=\"fill:#000000; stroke:none; fill-opacity:1\" cx=\"387.609\" cy=\"1176.54\" r=\"18\"/>\n",
       "<circle clip-path=\"url(#clip0002)\" style=\"fill:#009af9; stroke:none; fill-opacity:1\" cx=\"387.609\" cy=\"1176.54\" r=\"18\"/>\n",
       "<circle clip-path=\"url(#clip0002)\" style=\"fill:#000000; stroke:none; fill-opacity:1\" cx=\"541.83\" cy=\"1156.86\" r=\"18\"/>\n",
       "<circle clip-path=\"url(#clip0002)\" style=\"fill:#009af9; stroke:none; fill-opacity:1\" cx=\"541.83\" cy=\"1156.86\" r=\"18\"/>\n",
       "<circle clip-path=\"url(#clip0002)\" style=\"fill:#000000; stroke:none; fill-opacity:1\" cx=\"310.498\" cy=\"1176.54\" r=\"18\"/>\n",
       "<circle clip-path=\"url(#clip0002)\" style=\"fill:#009af9; stroke:none; fill-opacity:1\" cx=\"310.498\" cy=\"1176.54\" r=\"18\"/>\n",
       "<circle clip-path=\"url(#clip0002)\" style=\"fill:#000000; stroke:none; fill-opacity:1\" cx=\"503.275\" cy=\"1156.86\" r=\"18\"/>\n",
       "<circle clip-path=\"url(#clip0002)\" style=\"fill:#009af9; stroke:none; fill-opacity:1\" cx=\"503.275\" cy=\"1156.86\" r=\"18\"/>\n",
       "<circle clip-path=\"url(#clip0002)\" style=\"fill:#000000; stroke:none; fill-opacity:1\" cx=\"696.052\" cy=\"1156.86\" r=\"18\"/>\n",
       "<circle clip-path=\"url(#clip0002)\" style=\"fill:#009af9; stroke:none; fill-opacity:1\" cx=\"696.052\" cy=\"1156.86\" r=\"18\"/>\n",
       "<circle clip-path=\"url(#clip0002)\" style=\"fill:#000000; stroke:none; fill-opacity:1\" cx=\"464.72\" cy=\"1137.18\" r=\"18\"/>\n",
       "<circle clip-path=\"url(#clip0002)\" style=\"fill:#009af9; stroke:none; fill-opacity:1\" cx=\"464.72\" cy=\"1137.18\" r=\"18\"/>\n",
       "<circle clip-path=\"url(#clip0002)\" style=\"fill:#000000; stroke:none; fill-opacity:1\" cx=\"464.72\" cy=\"1176.54\" r=\"18\"/>\n",
       "<circle clip-path=\"url(#clip0002)\" style=\"fill:#009af9; stroke:none; fill-opacity:1\" cx=\"464.72\" cy=\"1176.54\" r=\"18\"/>\n",
       "<circle clip-path=\"url(#clip0002)\" style=\"fill:#000000; stroke:none; fill-opacity:1\" cx=\"271.943\" cy=\"1235.6\" r=\"18\"/>\n",
       "<circle clip-path=\"url(#clip0002)\" style=\"fill:#009af9; stroke:none; fill-opacity:1\" cx=\"271.943\" cy=\"1235.6\" r=\"18\"/>\n",
       "<circle clip-path=\"url(#clip0002)\" style=\"fill:#000000; stroke:none; fill-opacity:1\" cx=\"850.273\" cy=\"1215.91\" r=\"18\"/>\n",
       "<circle clip-path=\"url(#clip0002)\" style=\"fill:#009af9; stroke:none; fill-opacity:1\" cx=\"850.273\" cy=\"1215.91\" r=\"18\"/>\n",
       "<circle clip-path=\"url(#clip0002)\" style=\"fill:#000000; stroke:none; fill-opacity:1\" cx=\"811.718\" cy=\"1156.86\" r=\"18\"/>\n",
       "<circle clip-path=\"url(#clip0002)\" style=\"fill:#009af9; stroke:none; fill-opacity:1\" cx=\"811.718\" cy=\"1156.86\" r=\"18\"/>\n",
       "<circle clip-path=\"url(#clip0002)\" style=\"fill:#000000; stroke:none; fill-opacity:1\" cx=\"696.052\" cy=\"1196.23\" r=\"18\"/>\n",
       "<circle clip-path=\"url(#clip0002)\" style=\"fill:#009af9; stroke:none; fill-opacity:1\" cx=\"696.052\" cy=\"1196.23\" r=\"18\"/>\n",
       "<circle clip-path=\"url(#clip0002)\" style=\"fill:#000000; stroke:none; fill-opacity:1\" cx=\"580.386\" cy=\"1176.54\" r=\"18\"/>\n",
       "<circle clip-path=\"url(#clip0002)\" style=\"fill:#009af9; stroke:none; fill-opacity:1\" cx=\"580.386\" cy=\"1176.54\" r=\"18\"/>\n",
       "<circle clip-path=\"url(#clip0002)\" style=\"fill:#000000; stroke:none; fill-opacity:1\" cx=\"811.718\" cy=\"1117.49\" r=\"18\"/>\n",
       "<circle clip-path=\"url(#clip0002)\" style=\"fill:#009af9; stroke:none; fill-opacity:1\" cx=\"811.718\" cy=\"1117.49\" r=\"18\"/>\n",
       "<circle clip-path=\"url(#clip0002)\" style=\"fill:#000000; stroke:none; fill-opacity:1\" cx=\"580.386\" cy=\"1156.86\" r=\"18\"/>\n",
       "<circle clip-path=\"url(#clip0002)\" style=\"fill:#009af9; stroke:none; fill-opacity:1\" cx=\"580.386\" cy=\"1156.86\" r=\"18\"/>\n",
       "<circle clip-path=\"url(#clip0002)\" style=\"fill:#000000; stroke:none; fill-opacity:1\" cx=\"696.052\" cy=\"1117.49\" r=\"18\"/>\n",
       "<circle clip-path=\"url(#clip0002)\" style=\"fill:#009af9; stroke:none; fill-opacity:1\" cx=\"696.052\" cy=\"1117.49\" r=\"18\"/>\n",
       "<circle clip-path=\"url(#clip0002)\" style=\"fill:#000000; stroke:none; fill-opacity:1\" cx=\"580.386\" cy=\"1156.86\" r=\"18\"/>\n",
       "<circle clip-path=\"url(#clip0002)\" style=\"fill:#009af9; stroke:none; fill-opacity:1\" cx=\"580.386\" cy=\"1156.86\" r=\"18\"/>\n",
       "<circle clip-path=\"url(#clip0002)\" style=\"fill:#000000; stroke:none; fill-opacity:1\" cx=\"387.609\" cy=\"1255.28\" r=\"18\"/>\n",
       "<circle clip-path=\"url(#clip0002)\" style=\"fill:#009af9; stroke:none; fill-opacity:1\" cx=\"387.609\" cy=\"1255.28\" r=\"18\"/>\n",
       "<circle clip-path=\"url(#clip0002)\" style=\"fill:#000000; stroke:none; fill-opacity:1\" cx=\"580.386\" cy=\"1117.49\" r=\"18\"/>\n",
       "<circle clip-path=\"url(#clip0002)\" style=\"fill:#009af9; stroke:none; fill-opacity:1\" cx=\"580.386\" cy=\"1117.49\" r=\"18\"/>\n",
       "<circle clip-path=\"url(#clip0002)\" style=\"fill:#000000; stroke:none; fill-opacity:1\" cx=\"464.72\" cy=\"1078.12\" r=\"18\"/>\n",
       "<circle clip-path=\"url(#clip0002)\" style=\"fill:#009af9; stroke:none; fill-opacity:1\" cx=\"464.72\" cy=\"1078.12\" r=\"18\"/>\n",
       "<circle clip-path=\"url(#clip0002)\" style=\"fill:#000000; stroke:none; fill-opacity:1\" cx=\"541.83\" cy=\"1137.18\" r=\"18\"/>\n",
       "<circle clip-path=\"url(#clip0002)\" style=\"fill:#009af9; stroke:none; fill-opacity:1\" cx=\"541.83\" cy=\"1137.18\" r=\"18\"/>\n",
       "<circle clip-path=\"url(#clip0002)\" style=\"fill:#000000; stroke:none; fill-opacity:1\" cx=\"541.83\" cy=\"1137.18\" r=\"18\"/>\n",
       "<circle clip-path=\"url(#clip0002)\" style=\"fill:#009af9; stroke:none; fill-opacity:1\" cx=\"541.83\" cy=\"1137.18\" r=\"18\"/>\n",
       "<circle clip-path=\"url(#clip0002)\" style=\"fill:#000000; stroke:none; fill-opacity:1\" cx=\"618.941\" cy=\"1156.86\" r=\"18\"/>\n",
       "<circle clip-path=\"url(#clip0002)\" style=\"fill:#009af9; stroke:none; fill-opacity:1\" cx=\"618.941\" cy=\"1156.86\" r=\"18\"/>\n",
       "<circle clip-path=\"url(#clip0002)\" style=\"fill:#000000; stroke:none; fill-opacity:1\" cx=\"618.941\" cy=\"1176.54\" r=\"18\"/>\n",
       "<circle clip-path=\"url(#clip0002)\" style=\"fill:#009af9; stroke:none; fill-opacity:1\" cx=\"618.941\" cy=\"1176.54\" r=\"18\"/>\n",
       "<circle clip-path=\"url(#clip0002)\" style=\"fill:#000000; stroke:none; fill-opacity:1\" cx=\"426.164\" cy=\"1137.18\" r=\"18\"/>\n",
       "<circle clip-path=\"url(#clip0002)\" style=\"fill:#009af9; stroke:none; fill-opacity:1\" cx=\"426.164\" cy=\"1137.18\" r=\"18\"/>\n",
       "<circle clip-path=\"url(#clip0002)\" style=\"fill:#000000; stroke:none; fill-opacity:1\" cx=\"464.72\" cy=\"1137.18\" r=\"18\"/>\n",
       "<circle clip-path=\"url(#clip0002)\" style=\"fill:#009af9; stroke:none; fill-opacity:1\" cx=\"464.72\" cy=\"1137.18\" r=\"18\"/>\n",
       "<circle clip-path=\"url(#clip0002)\" style=\"fill:#000000; stroke:none; fill-opacity:1\" cx=\"696.052\" cy=\"1156.86\" r=\"18\"/>\n",
       "<circle clip-path=\"url(#clip0002)\" style=\"fill:#009af9; stroke:none; fill-opacity:1\" cx=\"696.052\" cy=\"1156.86\" r=\"18\"/>\n",
       "<circle clip-path=\"url(#clip0002)\" style=\"fill:#000000; stroke:none; fill-opacity:1\" cx=\"618.941\" cy=\"1156.86\" r=\"18\"/>\n",
       "<circle clip-path=\"url(#clip0002)\" style=\"fill:#009af9; stroke:none; fill-opacity:1\" cx=\"618.941\" cy=\"1156.86\" r=\"18\"/>\n",
       "<circle clip-path=\"url(#clip0002)\" style=\"fill:#000000; stroke:none; fill-opacity:1\" cx=\"734.607\" cy=\"1176.54\" r=\"18\"/>\n",
       "<circle clip-path=\"url(#clip0002)\" style=\"fill:#009af9; stroke:none; fill-opacity:1\" cx=\"734.607\" cy=\"1176.54\" r=\"18\"/>\n",
       "<circle clip-path=\"url(#clip0002)\" style=\"fill:#000000; stroke:none; fill-opacity:1\" cx=\"503.275\" cy=\"1156.86\" r=\"18\"/>\n",
       "<circle clip-path=\"url(#clip0002)\" style=\"fill:#009af9; stroke:none; fill-opacity:1\" cx=\"503.275\" cy=\"1156.86\" r=\"18\"/>\n",
       "<circle clip-path=\"url(#clip0002)\" style=\"fill:#000000; stroke:none; fill-opacity:1\" cx=\"541.83\" cy=\"1215.91\" r=\"18\"/>\n",
       "<circle clip-path=\"url(#clip0002)\" style=\"fill:#009af9; stroke:none; fill-opacity:1\" cx=\"541.83\" cy=\"1215.91\" r=\"18\"/>\n",
       "<circle clip-path=\"url(#clip0002)\" style=\"fill:#000000; stroke:none; fill-opacity:1\" cx=\"734.607\" cy=\"1196.23\" r=\"18\"/>\n",
       "<circle clip-path=\"url(#clip0002)\" style=\"fill:#009af9; stroke:none; fill-opacity:1\" cx=\"734.607\" cy=\"1196.23\" r=\"18\"/>\n",
       "<circle clip-path=\"url(#clip0002)\" style=\"fill:#000000; stroke:none; fill-opacity:1\" cx=\"503.275\" cy=\"1176.54\" r=\"18\"/>\n",
       "<circle clip-path=\"url(#clip0002)\" style=\"fill:#009af9; stroke:none; fill-opacity:1\" cx=\"503.275\" cy=\"1176.54\" r=\"18\"/>\n",
       "<circle clip-path=\"url(#clip0002)\" style=\"fill:#000000; stroke:none; fill-opacity:1\" cx=\"310.498\" cy=\"1196.23\" r=\"18\"/>\n",
       "<circle clip-path=\"url(#clip0002)\" style=\"fill:#009af9; stroke:none; fill-opacity:1\" cx=\"310.498\" cy=\"1196.23\" r=\"18\"/>\n",
       "<circle clip-path=\"url(#clip0002)\" style=\"fill:#000000; stroke:none; fill-opacity:1\" cx=\"580.386\" cy=\"1156.86\" r=\"18\"/>\n",
       "<circle clip-path=\"url(#clip0002)\" style=\"fill:#009af9; stroke:none; fill-opacity:1\" cx=\"580.386\" cy=\"1156.86\" r=\"18\"/>\n",
       "<circle clip-path=\"url(#clip0002)\" style=\"fill:#000000; stroke:none; fill-opacity:1\" cx=\"541.83\" cy=\"1196.23\" r=\"18\"/>\n",
       "<circle clip-path=\"url(#clip0002)\" style=\"fill:#009af9; stroke:none; fill-opacity:1\" cx=\"541.83\" cy=\"1196.23\" r=\"18\"/>\n",
       "<circle clip-path=\"url(#clip0002)\" style=\"fill:#000000; stroke:none; fill-opacity:1\" cx=\"349.054\" cy=\"1196.23\" r=\"18\"/>\n",
       "<circle clip-path=\"url(#clip0002)\" style=\"fill:#009af9; stroke:none; fill-opacity:1\" cx=\"349.054\" cy=\"1196.23\" r=\"18\"/>\n",
       "<circle clip-path=\"url(#clip0002)\" style=\"fill:#000000; stroke:none; fill-opacity:1\" cx=\"310.498\" cy=\"1196.23\" r=\"18\"/>\n",
       "<circle clip-path=\"url(#clip0002)\" style=\"fill:#009af9; stroke:none; fill-opacity:1\" cx=\"310.498\" cy=\"1196.23\" r=\"18\"/>\n",
       "<circle clip-path=\"url(#clip0002)\" style=\"fill:#000000; stroke:none; fill-opacity:1\" cx=\"541.83\" cy=\"1137.18\" r=\"18\"/>\n",
       "<circle clip-path=\"url(#clip0002)\" style=\"fill:#009af9; stroke:none; fill-opacity:1\" cx=\"541.83\" cy=\"1137.18\" r=\"18\"/>\n",
       "<circle clip-path=\"url(#clip0002)\" style=\"fill:#000000; stroke:none; fill-opacity:1\" cx=\"580.386\" cy=\"1078.12\" r=\"18\"/>\n",
       "<circle clip-path=\"url(#clip0002)\" style=\"fill:#009af9; stroke:none; fill-opacity:1\" cx=\"580.386\" cy=\"1078.12\" r=\"18\"/>\n",
       "<circle clip-path=\"url(#clip0002)\" style=\"fill:#000000; stroke:none; fill-opacity:1\" cx=\"464.72\" cy=\"1176.54\" r=\"18\"/>\n",
       "<circle clip-path=\"url(#clip0002)\" style=\"fill:#009af9; stroke:none; fill-opacity:1\" cx=\"464.72\" cy=\"1176.54\" r=\"18\"/>\n",
       "<circle clip-path=\"url(#clip0002)\" style=\"fill:#000000; stroke:none; fill-opacity:1\" cx=\"580.386\" cy=\"1137.18\" r=\"18\"/>\n",
       "<circle clip-path=\"url(#clip0002)\" style=\"fill:#009af9; stroke:none; fill-opacity:1\" cx=\"580.386\" cy=\"1137.18\" r=\"18\"/>\n",
       "<circle clip-path=\"url(#clip0002)\" style=\"fill:#000000; stroke:none; fill-opacity:1\" cx=\"387.609\" cy=\"1176.54\" r=\"18\"/>\n",
       "<circle clip-path=\"url(#clip0002)\" style=\"fill:#009af9; stroke:none; fill-opacity:1\" cx=\"387.609\" cy=\"1176.54\" r=\"18\"/>\n",
       "<circle clip-path=\"url(#clip0002)\" style=\"fill:#000000; stroke:none; fill-opacity:1\" cx=\"657.496\" cy=\"1156.86\" r=\"18\"/>\n",
       "<circle clip-path=\"url(#clip0002)\" style=\"fill:#009af9; stroke:none; fill-opacity:1\" cx=\"657.496\" cy=\"1156.86\" r=\"18\"/>\n",
       "<circle clip-path=\"url(#clip0002)\" style=\"fill:#000000; stroke:none; fill-opacity:1\" cx=\"541.83\" cy=\"1176.54\" r=\"18\"/>\n",
       "<circle clip-path=\"url(#clip0002)\" style=\"fill:#009af9; stroke:none; fill-opacity:1\" cx=\"541.83\" cy=\"1176.54\" r=\"18\"/>\n",
       "<circle clip-path=\"url(#clip0002)\" style=\"fill:#000000; stroke:none; fill-opacity:1\" cx=\"1312.94\" cy=\"526.956\" r=\"18\"/>\n",
       "<circle clip-path=\"url(#clip0002)\" style=\"fill:#009af9; stroke:none; fill-opacity:1\" cx=\"1312.94\" cy=\"526.956\" r=\"18\"/>\n",
       "<circle clip-path=\"url(#clip0002)\" style=\"fill:#000000; stroke:none; fill-opacity:1\" cx=\"1081.61\" cy=\"566.325\" r=\"18\"/>\n",
       "<circle clip-path=\"url(#clip0002)\" style=\"fill:#009af9; stroke:none; fill-opacity:1\" cx=\"1081.61\" cy=\"566.325\" r=\"18\"/>\n",
       "<circle clip-path=\"url(#clip0002)\" style=\"fill:#000000; stroke:none; fill-opacity:1\" cx=\"1274.38\" cy=\"487.587\" r=\"18\"/>\n",
       "<circle clip-path=\"url(#clip0002)\" style=\"fill:#009af9; stroke:none; fill-opacity:1\" cx=\"1274.38\" cy=\"487.587\" r=\"18\"/>\n",
       "<circle clip-path=\"url(#clip0002)\" style=\"fill:#000000; stroke:none; fill-opacity:1\" cx=\"734.607\" cy=\"664.747\" r=\"18\"/>\n",
       "<circle clip-path=\"url(#clip0002)\" style=\"fill:#009af9; stroke:none; fill-opacity:1\" cx=\"734.607\" cy=\"664.747\" r=\"18\"/>\n",
       "<circle clip-path=\"url(#clip0002)\" style=\"fill:#000000; stroke:none; fill-opacity:1\" cx=\"1120.16\" cy=\"546.64\" r=\"18\"/>\n",
       "<circle clip-path=\"url(#clip0002)\" style=\"fill:#009af9; stroke:none; fill-opacity:1\" cx=\"1120.16\" cy=\"546.64\" r=\"18\"/>\n",
       "<circle clip-path=\"url(#clip0002)\" style=\"fill:#000000; stroke:none; fill-opacity:1\" cx=\"811.718\" cy=\"566.325\" r=\"18\"/>\n",
       "<circle clip-path=\"url(#clip0002)\" style=\"fill:#009af9; stroke:none; fill-opacity:1\" cx=\"811.718\" cy=\"566.325\" r=\"18\"/>\n",
       "<circle clip-path=\"url(#clip0002)\" style=\"fill:#000000; stroke:none; fill-opacity:1\" cx=\"1043.05\" cy=\"526.956\" r=\"18\"/>\n",
       "<circle clip-path=\"url(#clip0002)\" style=\"fill:#009af9; stroke:none; fill-opacity:1\" cx=\"1043.05\" cy=\"526.956\" r=\"18\"/>\n",
       "<circle clip-path=\"url(#clip0002)\" style=\"fill:#000000; stroke:none; fill-opacity:1\" cx=\"503.275\" cy=\"802.539\" r=\"18\"/>\n",
       "<circle clip-path=\"url(#clip0002)\" style=\"fill:#009af9; stroke:none; fill-opacity:1\" cx=\"503.275\" cy=\"802.539\" r=\"18\"/>\n",
       "<circle clip-path=\"url(#clip0002)\" style=\"fill:#000000; stroke:none; fill-opacity:1\" cx=\"1158.72\" cy=\"546.64\" r=\"18\"/>\n",
       "<circle clip-path=\"url(#clip0002)\" style=\"fill:#009af9; stroke:none; fill-opacity:1\" cx=\"1158.72\" cy=\"546.64\" r=\"18\"/>\n",
       "<circle clip-path=\"url(#clip0002)\" style=\"fill:#000000; stroke:none; fill-opacity:1\" cx=\"618.941\" cy=\"684.432\" r=\"18\"/>\n",
       "<circle clip-path=\"url(#clip0002)\" style=\"fill:#009af9; stroke:none; fill-opacity:1\" cx=\"618.941\" cy=\"684.432\" r=\"18\"/>\n",
       "<circle clip-path=\"url(#clip0002)\" style=\"fill:#000000; stroke:none; fill-opacity:1\" cx=\"541.83\" cy=\"763.17\" r=\"18\"/>\n",
       "<circle clip-path=\"url(#clip0002)\" style=\"fill:#009af9; stroke:none; fill-opacity:1\" cx=\"541.83\" cy=\"763.17\" r=\"18\"/>\n",
       "<circle clip-path=\"url(#clip0002)\" style=\"fill:#000000; stroke:none; fill-opacity:1\" cx=\"888.828\" cy=\"625.378\" r=\"18\"/>\n",
       "<circle clip-path=\"url(#clip0002)\" style=\"fill:#009af9; stroke:none; fill-opacity:1\" cx=\"888.828\" cy=\"625.378\" r=\"18\"/>\n",
       "<circle clip-path=\"url(#clip0002)\" style=\"fill:#000000; stroke:none; fill-opacity:1\" cx=\"927.384\" cy=\"664.747\" r=\"18\"/>\n",
       "<circle clip-path=\"url(#clip0002)\" style=\"fill:#009af9; stroke:none; fill-opacity:1\" cx=\"927.384\" cy=\"664.747\" r=\"18\"/>\n",
       "<circle clip-path=\"url(#clip0002)\" style=\"fill:#000000; stroke:none; fill-opacity:1\" cx=\"965.939\" cy=\"526.956\" r=\"18\"/>\n",
       "<circle clip-path=\"url(#clip0002)\" style=\"fill:#009af9; stroke:none; fill-opacity:1\" cx=\"965.939\" cy=\"526.956\" r=\"18\"/>\n",
       "<circle clip-path=\"url(#clip0002)\" style=\"fill:#000000; stroke:none; fill-opacity:1\" cx=\"773.162\" cy=\"743.485\" r=\"18\"/>\n",
       "<circle clip-path=\"url(#clip0002)\" style=\"fill:#009af9; stroke:none; fill-opacity:1\" cx=\"773.162\" cy=\"743.485\" r=\"18\"/>\n",
       "<circle clip-path=\"url(#clip0002)\" style=\"fill:#000000; stroke:none; fill-opacity:1\" cx=\"1197.27\" cy=\"586.009\" r=\"18\"/>\n",
       "<circle clip-path=\"url(#clip0002)\" style=\"fill:#009af9; stroke:none; fill-opacity:1\" cx=\"1197.27\" cy=\"586.009\" r=\"18\"/>\n",
       "<circle clip-path=\"url(#clip0002)\" style=\"fill:#000000; stroke:none; fill-opacity:1\" cx=\"773.162\" cy=\"566.325\" r=\"18\"/>\n",
       "<circle clip-path=\"url(#clip0002)\" style=\"fill:#009af9; stroke:none; fill-opacity:1\" cx=\"773.162\" cy=\"566.325\" r=\"18\"/>\n",
       "<circle clip-path=\"url(#clip0002)\" style=\"fill:#000000; stroke:none; fill-opacity:1\" cx=\"850.273\" cy=\"645.063\" r=\"18\"/>\n",
       "<circle clip-path=\"url(#clip0002)\" style=\"fill:#009af9; stroke:none; fill-opacity:1\" cx=\"850.273\" cy=\"645.063\" r=\"18\"/>\n",
       "<circle clip-path=\"url(#clip0002)\" style=\"fill:#000000; stroke:none; fill-opacity:1\" cx=\"1004.49\" cy=\"566.325\" r=\"18\"/>\n",
       "<circle clip-path=\"url(#clip0002)\" style=\"fill:#009af9; stroke:none; fill-opacity:1\" cx=\"1004.49\" cy=\"566.325\" r=\"18\"/>\n",
       "<circle clip-path=\"url(#clip0002)\" style=\"fill:#000000; stroke:none; fill-opacity:1\" cx=\"773.162\" cy=\"684.432\" r=\"18\"/>\n",
       "<circle clip-path=\"url(#clip0002)\" style=\"fill:#009af9; stroke:none; fill-opacity:1\" cx=\"773.162\" cy=\"684.432\" r=\"18\"/>\n",
       "<circle clip-path=\"url(#clip0002)\" style=\"fill:#000000; stroke:none; fill-opacity:1\" cx=\"888.828\" cy=\"507.271\" r=\"18\"/>\n",
       "<circle clip-path=\"url(#clip0002)\" style=\"fill:#009af9; stroke:none; fill-opacity:1\" cx=\"888.828\" cy=\"507.271\" r=\"18\"/>\n",
       "<circle clip-path=\"url(#clip0002)\" style=\"fill:#000000; stroke:none; fill-opacity:1\" cx=\"965.939\" cy=\"664.747\" r=\"18\"/>\n",
       "<circle clip-path=\"url(#clip0002)\" style=\"fill:#009af9; stroke:none; fill-opacity:1\" cx=\"965.939\" cy=\"664.747\" r=\"18\"/>\n",
       "<circle clip-path=\"url(#clip0002)\" style=\"fill:#000000; stroke:none; fill-opacity:1\" cx=\"1043.05\" cy=\"487.587\" r=\"18\"/>\n",
       "<circle clip-path=\"url(#clip0002)\" style=\"fill:#009af9; stroke:none; fill-opacity:1\" cx=\"1043.05\" cy=\"487.587\" r=\"18\"/>\n",
       "<circle clip-path=\"url(#clip0002)\" style=\"fill:#000000; stroke:none; fill-opacity:1\" cx=\"965.939\" cy=\"526.956\" r=\"18\"/>\n",
       "<circle clip-path=\"url(#clip0002)\" style=\"fill:#009af9; stroke:none; fill-opacity:1\" cx=\"965.939\" cy=\"526.956\" r=\"18\"/>\n",
       "<circle clip-path=\"url(#clip0002)\" style=\"fill:#000000; stroke:none; fill-opacity:1\" cx=\"1081.61\" cy=\"605.694\" r=\"18\"/>\n",
       "<circle clip-path=\"url(#clip0002)\" style=\"fill:#009af9; stroke:none; fill-opacity:1\" cx=\"1081.61\" cy=\"605.694\" r=\"18\"/>\n",
       "<circle clip-path=\"url(#clip0002)\" style=\"fill:#000000; stroke:none; fill-opacity:1\" cx=\"1158.72\" cy=\"586.009\" r=\"18\"/>\n",
       "<circle clip-path=\"url(#clip0002)\" style=\"fill:#009af9; stroke:none; fill-opacity:1\" cx=\"1158.72\" cy=\"586.009\" r=\"18\"/>\n",
       "<circle clip-path=\"url(#clip0002)\" style=\"fill:#000000; stroke:none; fill-opacity:1\" cx=\"1235.83\" cy=\"507.271\" r=\"18\"/>\n",
       "<circle clip-path=\"url(#clip0002)\" style=\"fill:#009af9; stroke:none; fill-opacity:1\" cx=\"1235.83\" cy=\"507.271\" r=\"18\"/>\n",
       "<circle clip-path=\"url(#clip0002)\" style=\"fill:#000000; stroke:none; fill-opacity:1\" cx=\"1197.27\" cy=\"467.902\" r=\"18\"/>\n",
       "<circle clip-path=\"url(#clip0002)\" style=\"fill:#009af9; stroke:none; fill-opacity:1\" cx=\"1197.27\" cy=\"467.902\" r=\"18\"/>\n",
       "<circle clip-path=\"url(#clip0002)\" style=\"fill:#000000; stroke:none; fill-opacity:1\" cx=\"927.384\" cy=\"566.325\" r=\"18\"/>\n",
       "<circle clip-path=\"url(#clip0002)\" style=\"fill:#009af9; stroke:none; fill-opacity:1\" cx=\"927.384\" cy=\"566.325\" r=\"18\"/>\n",
       "<circle clip-path=\"url(#clip0002)\" style=\"fill:#000000; stroke:none; fill-opacity:1\" cx=\"811.718\" cy=\"763.17\" r=\"18\"/>\n",
       "<circle clip-path=\"url(#clip0002)\" style=\"fill:#009af9; stroke:none; fill-opacity:1\" cx=\"811.718\" cy=\"763.17\" r=\"18\"/>\n",
       "<circle clip-path=\"url(#clip0002)\" style=\"fill:#000000; stroke:none; fill-opacity:1\" cx=\"734.607\" cy=\"704.116\" r=\"18\"/>\n",
       "<circle clip-path=\"url(#clip0002)\" style=\"fill:#009af9; stroke:none; fill-opacity:1\" cx=\"734.607\" cy=\"704.116\" r=\"18\"/>\n",
       "<circle clip-path=\"url(#clip0002)\" style=\"fill:#000000; stroke:none; fill-opacity:1\" cx=\"734.607\" cy=\"723.801\" r=\"18\"/>\n",
       "<circle clip-path=\"url(#clip0002)\" style=\"fill:#009af9; stroke:none; fill-opacity:1\" cx=\"734.607\" cy=\"723.801\" r=\"18\"/>\n",
       "<circle clip-path=\"url(#clip0002)\" style=\"fill:#000000; stroke:none; fill-opacity:1\" cx=\"850.273\" cy=\"684.432\" r=\"18\"/>\n",
       "<circle clip-path=\"url(#clip0002)\" style=\"fill:#009af9; stroke:none; fill-opacity:1\" cx=\"850.273\" cy=\"684.432\" r=\"18\"/>\n",
       "<circle clip-path=\"url(#clip0002)\" style=\"fill:#000000; stroke:none; fill-opacity:1\" cx=\"927.384\" cy=\"448.218\" r=\"18\"/>\n",
       "<circle clip-path=\"url(#clip0002)\" style=\"fill:#009af9; stroke:none; fill-opacity:1\" cx=\"927.384\" cy=\"448.218\" r=\"18\"/>\n",
       "<circle clip-path=\"url(#clip0002)\" style=\"fill:#000000; stroke:none; fill-opacity:1\" cx=\"696.052\" cy=\"566.325\" r=\"18\"/>\n",
       "<circle clip-path=\"url(#clip0002)\" style=\"fill:#009af9; stroke:none; fill-opacity:1\" cx=\"696.052\" cy=\"566.325\" r=\"18\"/>\n",
       "<circle clip-path=\"url(#clip0002)\" style=\"fill:#000000; stroke:none; fill-opacity:1\" cx=\"927.384\" cy=\"566.325\" r=\"18\"/>\n",
       "<circle clip-path=\"url(#clip0002)\" style=\"fill:#009af9; stroke:none; fill-opacity:1\" cx=\"927.384\" cy=\"566.325\" r=\"18\"/>\n",
       "<circle clip-path=\"url(#clip0002)\" style=\"fill:#000000; stroke:none; fill-opacity:1\" cx=\"1197.27\" cy=\"526.956\" r=\"18\"/>\n",
       "<circle clip-path=\"url(#clip0002)\" style=\"fill:#009af9; stroke:none; fill-opacity:1\" cx=\"1197.27\" cy=\"526.956\" r=\"18\"/>\n",
       "<circle clip-path=\"url(#clip0002)\" style=\"fill:#000000; stroke:none; fill-opacity:1\" cx=\"1043.05\" cy=\"586.009\" r=\"18\"/>\n",
       "<circle clip-path=\"url(#clip0002)\" style=\"fill:#009af9; stroke:none; fill-opacity:1\" cx=\"1043.05\" cy=\"586.009\" r=\"18\"/>\n",
       "<circle clip-path=\"url(#clip0002)\" style=\"fill:#000000; stroke:none; fill-opacity:1\" cx=\"773.162\" cy=\"645.063\" r=\"18\"/>\n",
       "<circle clip-path=\"url(#clip0002)\" style=\"fill:#009af9; stroke:none; fill-opacity:1\" cx=\"773.162\" cy=\"645.063\" r=\"18\"/>\n",
       "<circle clip-path=\"url(#clip0002)\" style=\"fill:#000000; stroke:none; fill-opacity:1\" cx=\"734.607\" cy=\"664.747\" r=\"18\"/>\n",
       "<circle clip-path=\"url(#clip0002)\" style=\"fill:#009af9; stroke:none; fill-opacity:1\" cx=\"734.607\" cy=\"664.747\" r=\"18\"/>\n",
       "<circle clip-path=\"url(#clip0002)\" style=\"fill:#000000; stroke:none; fill-opacity:1\" cx=\"734.607\" cy=\"586.009\" r=\"18\"/>\n",
       "<circle clip-path=\"url(#clip0002)\" style=\"fill:#009af9; stroke:none; fill-opacity:1\" cx=\"734.607\" cy=\"586.009\" r=\"18\"/>\n",
       "<circle clip-path=\"url(#clip0002)\" style=\"fill:#000000; stroke:none; fill-opacity:1\" cx=\"965.939\" cy=\"546.64\" r=\"18\"/>\n",
       "<circle clip-path=\"url(#clip0002)\" style=\"fill:#009af9; stroke:none; fill-opacity:1\" cx=\"965.939\" cy=\"546.64\" r=\"18\"/>\n",
       "<circle clip-path=\"url(#clip0002)\" style=\"fill:#000000; stroke:none; fill-opacity:1\" cx=\"850.273\" cy=\"664.747\" r=\"18\"/>\n",
       "<circle clip-path=\"url(#clip0002)\" style=\"fill:#009af9; stroke:none; fill-opacity:1\" cx=\"850.273\" cy=\"664.747\" r=\"18\"/>\n",
       "<circle clip-path=\"url(#clip0002)\" style=\"fill:#000000; stroke:none; fill-opacity:1\" cx=\"541.83\" cy=\"802.539\" r=\"18\"/>\n",
       "<circle clip-path=\"url(#clip0002)\" style=\"fill:#009af9; stroke:none; fill-opacity:1\" cx=\"541.83\" cy=\"802.539\" r=\"18\"/>\n",
       "<circle clip-path=\"url(#clip0002)\" style=\"fill:#000000; stroke:none; fill-opacity:1\" cx=\"773.162\" cy=\"625.378\" r=\"18\"/>\n",
       "<circle clip-path=\"url(#clip0002)\" style=\"fill:#009af9; stroke:none; fill-opacity:1\" cx=\"773.162\" cy=\"625.378\" r=\"18\"/>\n",
       "<circle clip-path=\"url(#clip0002)\" style=\"fill:#000000; stroke:none; fill-opacity:1\" cx=\"811.718\" cy=\"625.378\" r=\"18\"/>\n",
       "<circle clip-path=\"url(#clip0002)\" style=\"fill:#009af9; stroke:none; fill-opacity:1\" cx=\"811.718\" cy=\"625.378\" r=\"18\"/>\n",
       "<circle clip-path=\"url(#clip0002)\" style=\"fill:#000000; stroke:none; fill-opacity:1\" cx=\"811.718\" cy=\"625.378\" r=\"18\"/>\n",
       "<circle clip-path=\"url(#clip0002)\" style=\"fill:#009af9; stroke:none; fill-opacity:1\" cx=\"811.718\" cy=\"625.378\" r=\"18\"/>\n",
       "<circle clip-path=\"url(#clip0002)\" style=\"fill:#000000; stroke:none; fill-opacity:1\" cx=\"1004.49\" cy=\"605.694\" r=\"18\"/>\n",
       "<circle clip-path=\"url(#clip0002)\" style=\"fill:#009af9; stroke:none; fill-opacity:1\" cx=\"1004.49\" cy=\"605.694\" r=\"18\"/>\n",
       "<circle clip-path=\"url(#clip0002)\" style=\"fill:#000000; stroke:none; fill-opacity:1\" cx=\"580.386\" cy=\"861.592\" r=\"18\"/>\n",
       "<circle clip-path=\"url(#clip0002)\" style=\"fill:#009af9; stroke:none; fill-opacity:1\" cx=\"580.386\" cy=\"861.592\" r=\"18\"/>\n",
       "<circle clip-path=\"url(#clip0002)\" style=\"fill:#000000; stroke:none; fill-opacity:1\" cx=\"811.718\" cy=\"645.063\" r=\"18\"/>\n",
       "<circle clip-path=\"url(#clip0002)\" style=\"fill:#009af9; stroke:none; fill-opacity:1\" cx=\"811.718\" cy=\"645.063\" r=\"18\"/>\n",
       "<circle clip-path=\"url(#clip0002)\" style=\"fill:#000000; stroke:none; fill-opacity:1\" cx=\"1043.05\" cy=\"271.057\" r=\"18\"/>\n",
       "<circle clip-path=\"url(#clip0002)\" style=\"fill:#009af9; stroke:none; fill-opacity:1\" cx=\"1043.05\" cy=\"271.057\" r=\"18\"/>\n",
       "<circle clip-path=\"url(#clip0002)\" style=\"fill:#000000; stroke:none; fill-opacity:1\" cx=\"850.273\" cy=\"448.218\" r=\"18\"/>\n",
       "<circle clip-path=\"url(#clip0002)\" style=\"fill:#009af9; stroke:none; fill-opacity:1\" cx=\"850.273\" cy=\"448.218\" r=\"18\"/>\n",
       "<circle clip-path=\"url(#clip0002)\" style=\"fill:#000000; stroke:none; fill-opacity:1\" cx=\"1351.49\" cy=\"290.742\" r=\"18\"/>\n",
       "<circle clip-path=\"url(#clip0002)\" style=\"fill:#009af9; stroke:none; fill-opacity:1\" cx=\"1351.49\" cy=\"290.742\" r=\"18\"/>\n",
       "<circle clip-path=\"url(#clip0002)\" style=\"fill:#000000; stroke:none; fill-opacity:1\" cx=\"1043.05\" cy=\"349.795\" r=\"18\"/>\n",
       "<circle clip-path=\"url(#clip0002)\" style=\"fill:#009af9; stroke:none; fill-opacity:1\" cx=\"1043.05\" cy=\"349.795\" r=\"18\"/>\n",
       "<circle clip-path=\"url(#clip0002)\" style=\"fill:#000000; stroke:none; fill-opacity:1\" cx=\"1120.16\" cy=\"310.426\" r=\"18\"/>\n",
       "<circle clip-path=\"url(#clip0002)\" style=\"fill:#009af9; stroke:none; fill-opacity:1\" cx=\"1120.16\" cy=\"310.426\" r=\"18\"/>\n",
       "<circle clip-path=\"url(#clip0002)\" style=\"fill:#000000; stroke:none; fill-opacity:1\" cx=\"1544.27\" cy=\"152.95\" r=\"18\"/>\n",
       "<circle clip-path=\"url(#clip0002)\" style=\"fill:#009af9; stroke:none; fill-opacity:1\" cx=\"1544.27\" cy=\"152.95\" r=\"18\"/>\n",
       "<circle clip-path=\"url(#clip0002)\" style=\"fill:#000000; stroke:none; fill-opacity:1\" cx=\"503.275\" cy=\"566.325\" r=\"18\"/>\n",
       "<circle clip-path=\"url(#clip0002)\" style=\"fill:#009af9; stroke:none; fill-opacity:1\" cx=\"503.275\" cy=\"566.325\" r=\"18\"/>\n",
       "<circle clip-path=\"url(#clip0002)\" style=\"fill:#000000; stroke:none; fill-opacity:1\" cx=\"1428.6\" cy=\"212.004\" r=\"18\"/>\n",
       "<circle clip-path=\"url(#clip0002)\" style=\"fill:#009af9; stroke:none; fill-opacity:1\" cx=\"1428.6\" cy=\"212.004\" r=\"18\"/>\n",
       "<circle clip-path=\"url(#clip0002)\" style=\"fill:#000000; stroke:none; fill-opacity:1\" cx=\"1197.27\" cy=\"310.426\" r=\"18\"/>\n",
       "<circle clip-path=\"url(#clip0002)\" style=\"fill:#009af9; stroke:none; fill-opacity:1\" cx=\"1197.27\" cy=\"310.426\" r=\"18\"/>\n",
       "<circle clip-path=\"url(#clip0002)\" style=\"fill:#000000; stroke:none; fill-opacity:1\" cx=\"1390.05\" cy=\"251.373\" r=\"18\"/>\n",
       "<circle clip-path=\"url(#clip0002)\" style=\"fill:#009af9; stroke:none; fill-opacity:1\" cx=\"1390.05\" cy=\"251.373\" r=\"18\"/>\n",
       "<circle clip-path=\"url(#clip0002)\" style=\"fill:#000000; stroke:none; fill-opacity:1\" cx=\"1120.16\" cy=\"448.218\" r=\"18\"/>\n",
       "<circle clip-path=\"url(#clip0002)\" style=\"fill:#009af9; stroke:none; fill-opacity:1\" cx=\"1120.16\" cy=\"448.218\" r=\"18\"/>\n",
       "<circle clip-path=\"url(#clip0002)\" style=\"fill:#000000; stroke:none; fill-opacity:1\" cx=\"1081.61\" cy=\"408.849\" r=\"18\"/>\n",
       "<circle clip-path=\"url(#clip0002)\" style=\"fill:#009af9; stroke:none; fill-opacity:1\" cx=\"1081.61\" cy=\"408.849\" r=\"18\"/>\n",
       "<circle clip-path=\"url(#clip0002)\" style=\"fill:#000000; stroke:none; fill-opacity:1\" cx=\"1235.83\" cy=\"369.48\" r=\"18\"/>\n",
       "<circle clip-path=\"url(#clip0002)\" style=\"fill:#009af9; stroke:none; fill-opacity:1\" cx=\"1235.83\" cy=\"369.48\" r=\"18\"/>\n",
       "<circle clip-path=\"url(#clip0002)\" style=\"fill:#000000; stroke:none; fill-opacity:1\" cx=\"811.718\" cy=\"467.902\" r=\"18\"/>\n",
       "<circle clip-path=\"url(#clip0002)\" style=\"fill:#009af9; stroke:none; fill-opacity:1\" cx=\"811.718\" cy=\"467.902\" r=\"18\"/>\n",
       "<circle clip-path=\"url(#clip0002)\" style=\"fill:#000000; stroke:none; fill-opacity:1\" cx=\"850.273\" cy=\"448.218\" r=\"18\"/>\n",
       "<circle clip-path=\"url(#clip0002)\" style=\"fill:#009af9; stroke:none; fill-opacity:1\" cx=\"850.273\" cy=\"448.218\" r=\"18\"/>\n",
       "<circle clip-path=\"url(#clip0002)\" style=\"fill:#000000; stroke:none; fill-opacity:1\" cx=\"1081.61\" cy=\"408.849\" r=\"18\"/>\n",
       "<circle clip-path=\"url(#clip0002)\" style=\"fill:#009af9; stroke:none; fill-opacity:1\" cx=\"1081.61\" cy=\"408.849\" r=\"18\"/>\n",
       "<circle clip-path=\"url(#clip0002)\" style=\"fill:#000000; stroke:none; fill-opacity:1\" cx=\"1120.16\" cy=\"369.48\" r=\"18\"/>\n",
       "<circle clip-path=\"url(#clip0002)\" style=\"fill:#009af9; stroke:none; fill-opacity:1\" cx=\"1120.16\" cy=\"369.48\" r=\"18\"/>\n",
       "<circle clip-path=\"url(#clip0002)\" style=\"fill:#000000; stroke:none; fill-opacity:1\" cx=\"1582.82\" cy=\"133.266\" r=\"18\"/>\n",
       "<circle clip-path=\"url(#clip0002)\" style=\"fill:#009af9; stroke:none; fill-opacity:1\" cx=\"1582.82\" cy=\"133.266\" r=\"18\"/>\n",
       "<circle clip-path=\"url(#clip0002)\" style=\"fill:#000000; stroke:none; fill-opacity:1\" cx=\"1582.82\" cy=\"93.8967\" r=\"18\"/>\n",
       "<circle clip-path=\"url(#clip0002)\" style=\"fill:#009af9; stroke:none; fill-opacity:1\" cx=\"1582.82\" cy=\"93.8967\" r=\"18\"/>\n",
       "<circle clip-path=\"url(#clip0002)\" style=\"fill:#000000; stroke:none; fill-opacity:1\" cx=\"927.384\" cy=\"467.902\" r=\"18\"/>\n",
       "<circle clip-path=\"url(#clip0002)\" style=\"fill:#009af9; stroke:none; fill-opacity:1\" cx=\"927.384\" cy=\"467.902\" r=\"18\"/>\n",
       "<circle clip-path=\"url(#clip0002)\" style=\"fill:#000000; stroke:none; fill-opacity:1\" cx=\"1274.38\" cy=\"330.111\" r=\"18\"/>\n",
       "<circle clip-path=\"url(#clip0002)\" style=\"fill:#009af9; stroke:none; fill-opacity:1\" cx=\"1274.38\" cy=\"330.111\" r=\"18\"/>\n",
       "<circle clip-path=\"url(#clip0002)\" style=\"fill:#000000; stroke:none; fill-opacity:1\" cx=\"773.162\" cy=\"487.587\" r=\"18\"/>\n",
       "<circle clip-path=\"url(#clip0002)\" style=\"fill:#009af9; stroke:none; fill-opacity:1\" cx=\"773.162\" cy=\"487.587\" r=\"18\"/>\n",
       "<circle clip-path=\"url(#clip0002)\" style=\"fill:#000000; stroke:none; fill-opacity:1\" cx=\"1582.82\" cy=\"133.266\" r=\"18\"/>\n",
       "<circle clip-path=\"url(#clip0002)\" style=\"fill:#009af9; stroke:none; fill-opacity:1\" cx=\"1582.82\" cy=\"133.266\" r=\"18\"/>\n",
       "<circle clip-path=\"url(#clip0002)\" style=\"fill:#000000; stroke:none; fill-opacity:1\" cx=\"1043.05\" cy=\"487.587\" r=\"18\"/>\n",
       "<circle clip-path=\"url(#clip0002)\" style=\"fill:#009af9; stroke:none; fill-opacity:1\" cx=\"1043.05\" cy=\"487.587\" r=\"18\"/>\n",
       "<circle clip-path=\"url(#clip0002)\" style=\"fill:#000000; stroke:none; fill-opacity:1\" cx=\"1197.27\" cy=\"330.111\" r=\"18\"/>\n",
       "<circle clip-path=\"url(#clip0002)\" style=\"fill:#009af9; stroke:none; fill-opacity:1\" cx=\"1197.27\" cy=\"330.111\" r=\"18\"/>\n",
       "<circle clip-path=\"url(#clip0002)\" style=\"fill:#000000; stroke:none; fill-opacity:1\" cx=\"1390.05\" cy=\"271.057\" r=\"18\"/>\n",
       "<circle clip-path=\"url(#clip0002)\" style=\"fill:#009af9; stroke:none; fill-opacity:1\" cx=\"1390.05\" cy=\"271.057\" r=\"18\"/>\n",
       "<circle clip-path=\"url(#clip0002)\" style=\"fill:#000000; stroke:none; fill-opacity:1\" cx=\"1004.49\" cy=\"507.271\" r=\"18\"/>\n",
       "<circle clip-path=\"url(#clip0002)\" style=\"fill:#009af9; stroke:none; fill-opacity:1\" cx=\"1004.49\" cy=\"507.271\" r=\"18\"/>\n",
       "<circle clip-path=\"url(#clip0002)\" style=\"fill:#000000; stroke:none; fill-opacity:1\" cx=\"965.939\" cy=\"487.587\" r=\"18\"/>\n",
       "<circle clip-path=\"url(#clip0002)\" style=\"fill:#009af9; stroke:none; fill-opacity:1\" cx=\"965.939\" cy=\"487.587\" r=\"18\"/>\n",
       "<circle clip-path=\"url(#clip0002)\" style=\"fill:#000000; stroke:none; fill-opacity:1\" cx=\"1081.61\" cy=\"349.795\" r=\"18\"/>\n",
       "<circle clip-path=\"url(#clip0002)\" style=\"fill:#009af9; stroke:none; fill-opacity:1\" cx=\"1081.61\" cy=\"349.795\" r=\"18\"/>\n",
       "<circle clip-path=\"url(#clip0002)\" style=\"fill:#000000; stroke:none; fill-opacity:1\" cx=\"1390.05\" cy=\"310.426\" r=\"18\"/>\n",
       "<circle clip-path=\"url(#clip0002)\" style=\"fill:#009af9; stroke:none; fill-opacity:1\" cx=\"1390.05\" cy=\"310.426\" r=\"18\"/>\n",
       "<circle clip-path=\"url(#clip0002)\" style=\"fill:#000000; stroke:none; fill-opacity:1\" cx=\"1467.16\" cy=\"251.373\" r=\"18\"/>\n",
       "<circle clip-path=\"url(#clip0002)\" style=\"fill:#009af9; stroke:none; fill-opacity:1\" cx=\"1467.16\" cy=\"251.373\" r=\"18\"/>\n",
       "<circle clip-path=\"url(#clip0002)\" style=\"fill:#000000; stroke:none; fill-opacity:1\" cx=\"1659.94\" cy=\"192.319\" r=\"18\"/>\n",
       "<circle clip-path=\"url(#clip0002)\" style=\"fill:#009af9; stroke:none; fill-opacity:1\" cx=\"1659.94\" cy=\"192.319\" r=\"18\"/>\n",
       "<circle clip-path=\"url(#clip0002)\" style=\"fill:#000000; stroke:none; fill-opacity:1\" cx=\"1081.61\" cy=\"349.795\" r=\"18\"/>\n",
       "<circle clip-path=\"url(#clip0002)\" style=\"fill:#009af9; stroke:none; fill-opacity:1\" cx=\"1081.61\" cy=\"349.795\" r=\"18\"/>\n",
       "<circle clip-path=\"url(#clip0002)\" style=\"fill:#000000; stroke:none; fill-opacity:1\" cx=\"1043.05\" cy=\"448.218\" r=\"18\"/>\n",
       "<circle clip-path=\"url(#clip0002)\" style=\"fill:#009af9; stroke:none; fill-opacity:1\" cx=\"1043.05\" cy=\"448.218\" r=\"18\"/>\n",
       "<circle clip-path=\"url(#clip0002)\" style=\"fill:#000000; stroke:none; fill-opacity:1\" cx=\"965.939\" cy=\"349.795\" r=\"18\"/>\n",
       "<circle clip-path=\"url(#clip0002)\" style=\"fill:#009af9; stroke:none; fill-opacity:1\" cx=\"965.939\" cy=\"349.795\" r=\"18\"/>\n",
       "<circle clip-path=\"url(#clip0002)\" style=\"fill:#000000; stroke:none; fill-opacity:1\" cx=\"1582.82\" cy=\"251.373\" r=\"18\"/>\n",
       "<circle clip-path=\"url(#clip0002)\" style=\"fill:#009af9; stroke:none; fill-opacity:1\" cx=\"1582.82\" cy=\"251.373\" r=\"18\"/>\n",
       "<circle clip-path=\"url(#clip0002)\" style=\"fill:#000000; stroke:none; fill-opacity:1\" cx=\"1043.05\" cy=\"349.795\" r=\"18\"/>\n",
       "<circle clip-path=\"url(#clip0002)\" style=\"fill:#009af9; stroke:none; fill-opacity:1\" cx=\"1043.05\" cy=\"349.795\" r=\"18\"/>\n",
       "<circle clip-path=\"url(#clip0002)\" style=\"fill:#000000; stroke:none; fill-opacity:1\" cx=\"1081.61\" cy=\"369.48\" r=\"18\"/>\n",
       "<circle clip-path=\"url(#clip0002)\" style=\"fill:#009af9; stroke:none; fill-opacity:1\" cx=\"1081.61\" cy=\"369.48\" r=\"18\"/>\n",
       "<circle clip-path=\"url(#clip0002)\" style=\"fill:#000000; stroke:none; fill-opacity:1\" cx=\"927.384\" cy=\"507.271\" r=\"18\"/>\n",
       "<circle clip-path=\"url(#clip0002)\" style=\"fill:#009af9; stroke:none; fill-opacity:1\" cx=\"927.384\" cy=\"507.271\" r=\"18\"/>\n",
       "<circle clip-path=\"url(#clip0002)\" style=\"fill:#000000; stroke:none; fill-opacity:1\" cx=\"1274.38\" cy=\"389.164\" r=\"18\"/>\n",
       "<circle clip-path=\"url(#clip0002)\" style=\"fill:#009af9; stroke:none; fill-opacity:1\" cx=\"1274.38\" cy=\"389.164\" r=\"18\"/>\n",
       "<circle clip-path=\"url(#clip0002)\" style=\"fill:#000000; stroke:none; fill-opacity:1\" cx=\"1197.27\" cy=\"349.795\" r=\"18\"/>\n",
       "<circle clip-path=\"url(#clip0002)\" style=\"fill:#009af9; stroke:none; fill-opacity:1\" cx=\"1197.27\" cy=\"349.795\" r=\"18\"/>\n",
       "<circle clip-path=\"url(#clip0002)\" style=\"fill:#000000; stroke:none; fill-opacity:1\" cx=\"1274.38\" cy=\"448.218\" r=\"18\"/>\n",
       "<circle clip-path=\"url(#clip0002)\" style=\"fill:#009af9; stroke:none; fill-opacity:1\" cx=\"1274.38\" cy=\"448.218\" r=\"18\"/>\n",
       "<circle clip-path=\"url(#clip0002)\" style=\"fill:#000000; stroke:none; fill-opacity:1\" cx=\"850.273\" cy=\"448.218\" r=\"18\"/>\n",
       "<circle clip-path=\"url(#clip0002)\" style=\"fill:#009af9; stroke:none; fill-opacity:1\" cx=\"850.273\" cy=\"448.218\" r=\"18\"/>\n",
       "<circle clip-path=\"url(#clip0002)\" style=\"fill:#000000; stroke:none; fill-opacity:1\" cx=\"1235.83\" cy=\"290.742\" r=\"18\"/>\n",
       "<circle clip-path=\"url(#clip0002)\" style=\"fill:#009af9; stroke:none; fill-opacity:1\" cx=\"1235.83\" cy=\"290.742\" r=\"18\"/>\n",
       "<circle clip-path=\"url(#clip0002)\" style=\"fill:#000000; stroke:none; fill-opacity:1\" cx=\"1197.27\" cy=\"330.111\" r=\"18\"/>\n",
       "<circle clip-path=\"url(#clip0002)\" style=\"fill:#009af9; stroke:none; fill-opacity:1\" cx=\"1197.27\" cy=\"330.111\" r=\"18\"/>\n",
       "<circle clip-path=\"url(#clip0002)\" style=\"fill:#000000; stroke:none; fill-opacity:1\" cx=\"1197.27\" cy=\"428.533\" r=\"18\"/>\n",
       "<circle clip-path=\"url(#clip0002)\" style=\"fill:#009af9; stroke:none; fill-opacity:1\" cx=\"1197.27\" cy=\"428.533\" r=\"18\"/>\n",
       "<circle clip-path=\"url(#clip0002)\" style=\"fill:#000000; stroke:none; fill-opacity:1\" cx=\"1043.05\" cy=\"467.902\" r=\"18\"/>\n",
       "<circle clip-path=\"url(#clip0002)\" style=\"fill:#009af9; stroke:none; fill-opacity:1\" cx=\"1043.05\" cy=\"467.902\" r=\"18\"/>\n",
       "<circle clip-path=\"url(#clip0002)\" style=\"fill:#000000; stroke:none; fill-opacity:1\" cx=\"1120.16\" cy=\"428.533\" r=\"18\"/>\n",
       "<circle clip-path=\"url(#clip0002)\" style=\"fill:#009af9; stroke:none; fill-opacity:1\" cx=\"1120.16\" cy=\"428.533\" r=\"18\"/>\n",
       "<circle clip-path=\"url(#clip0002)\" style=\"fill:#000000; stroke:none; fill-opacity:1\" cx=\"1004.49\" cy=\"389.164\" r=\"18\"/>\n",
       "<circle clip-path=\"url(#clip0002)\" style=\"fill:#009af9; stroke:none; fill-opacity:1\" cx=\"1004.49\" cy=\"389.164\" r=\"18\"/>\n",
       "<circle clip-path=\"url(#clip0002)\" style=\"fill:#000000; stroke:none; fill-opacity:1\" cx=\"888.828\" cy=\"448.218\" r=\"18\"/>\n",
       "<circle clip-path=\"url(#clip0002)\" style=\"fill:#009af9; stroke:none; fill-opacity:1\" cx=\"888.828\" cy=\"448.218\" r=\"18\"/>\n",
       "</svg>\n"
      ]
     },
     "execution_count": 38,
     "metadata": {},
     "output_type": "execute_result"
    }
   ],
   "source": [
    "Plots.scatter(convert(Array,iris.sepal_length), convert(Array,iris.petal_length),\n",
    "    size=(1800,1500),\n",
    "    markersize=20,\n",
    "    thickness_scaling=5,\n",
    "    xlabel=\"sepal length\",\n",
    "    ylabel=\"petal length\",\n",
    "    legend=false\n",
    ")"
   ]
  },
  {
   "cell_type": "markdown",
   "metadata": {},
   "source": [
    "## Scatterplot array"
   ]
  },
  {
   "cell_type": "code",
   "execution_count": 39,
   "metadata": {},
   "outputs": [
    {
     "data": {
      "image/png": "[encoded data removed]",
      "text/plain": [
       "Figure(PyObject <Figure size 1117.75x1000 with 20 Axes>)"
      ]
     },
     "metadata": {},
     "output_type": "display_data"
    }
   ],
   "source": [
    "sns.pairplot(iris, hue=\"species\");"
   ]
  },
  {
   "cell_type": "markdown",
   "metadata": {},
   "source": [
    "## CPSC 340 meta-discussion\n",
    "\n",
    "- This is the only CPSC 340 lecture on data cleaning and EDA.\n",
    "- That is not representative of the time typically devoted to these tasks.\n",
    "  - In fact, data cleaning is often the most time intensive step.\n",
    "- This is a weakness of the course.\n",
    "  - But not as bad if you're aware of it."
   ]
  },
  {
   "cell_type": "markdown",
   "metadata": {},
   "source": [
    "## Summary\n",
    "\n",
    "- Typical data mining / ML steps:\n",
    "  - Involves data collection, preprocessing, analysis, and evaluation.\n",
    "- Object-feature representation and categorical/numerical features.\n",
    "  - Transforming non-vector objects to vector representations.\n",
    "- Feature transformations:\n",
    "  - To address coupon collecting or simplify relationships between variables.\n",
    "- Exploring data: \n",
    "  - Summary statistics and data visualization.\n",
    "- Bonus slides: see Mark's slides on GitHub."
   ]
  },
  {
   "cell_type": "code",
   "execution_count": null,
   "metadata": {},
   "outputs": [],
   "source": []
  }
 ],
 "metadata": {
  "kernelspec": {
   "display_name": "Julia 0.7.0",
   "language": "julia",
   "name": "julia-0.7"
  },
  "language_info": {
   "file_extension": ".jl",
   "mimetype": "application/julia",
   "name": "julia",
   "version": "0.7.0"
  }
 },
 "nbformat": 4,
 "nbformat_minor": 2
}
