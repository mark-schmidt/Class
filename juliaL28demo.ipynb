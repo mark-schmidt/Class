{
 "cells": [
  {
   "cell_type": "markdown",
   "metadata": {},
   "source": [
    "## PCA (Part 2)\n",
    "\n",
    "CPSC 340: Machine Learning and Data Mining\n",
    "\n",
    "The University of British Columbia\n",
    "\n",
    "2018 Winter Term 1\n",
    "\n",
    "By Mike Gelbart (converted to Julia by Jason Chau)"
   ]
  },
  {
   "cell_type": "code",
   "execution_count": 103,
   "metadata": {},
   "outputs": [],
   "source": [
    "using Printf\n",
    "using PyCall\n",
    "pickle = pyimport(\"pickle\")\n",
    "plt = pyimport(\"matplotlib.pyplot\")\n",
    "using PyPlot\n",
    "using Statistics\n",
    "SkDecomposition = pyimport(\"sklearn.decomposition\")\n",
    "using LinearAlgebra"
   ]
  },
  {
   "cell_type": "code",
   "execution_count": 90,
   "metadata": {
    "scrolled": true
   },
   "outputs": [
    {
     "data": {
      "image/png": "[encoded data removed]",
      "text/plain": [
       "Figure(PyObject <Figure size 640x480 with 2 Axes>)"
      ]
     },
     "metadata": {},
     "output_type": "display_data"
    },
    {
     "name": "stdout",
     "output_type": "stream",
     "text": [
      "We have 32 faces, each 32x32 pixels."
     ]
    }
   ],
   "source": [
    "fo=open(\"img/faces.pkl\",\"r\")\n",
    "faces = pickle.loads(pybytes(read(fo)))\n",
    "\n",
    "# helper functions\n",
    "function display_face(f, cmap=\"Greys_r\", vmin=nothing, vmax=nothing)\n",
    "    plt.imshow(reshape(f, 32,32), cmap=cmap, vmin=vmin, vmax=vmax)\n",
    "    plt.tick_params(axis=\"both\", which=\"both\", bottom=\"off\", left=\"off\", labelbottom=\"off\", labelleft=\"off\")\n",
    "    plt.grid(false)\n",
    "end\n",
    "function reconstruct(model, X)\n",
    "    Z = model.transform(X)\n",
    "    try\n",
    "        return model.inverse_transform(Z)\n",
    "    catch(e) # no inverse_transform function\n",
    "        W = model.components_\n",
    "        return Z*W\n",
    "    end\n",
    "    # Note on the above: you can't just do Z@W for PCA because of the centring of the data, \n",
    "    # which needs to be undone for the reconstruction\n",
    "end\n",
    "\n",
    "\n",
    "plt.figure()\n",
    "plt.subplot(1,2,1)\n",
    "display_face(faces[rand(1:size(faces)[1]),:])\n",
    "plt.title(\"A random face\")\n",
    "plt.subplot(1,2,2)\n",
    "display_face([Statistics.mean(faces[:,i]) for i in 1:size(faces)[2]])\n",
    "plt.title(\"The average face\")\n",
    "\n",
    "N,D = size(faces)\n",
    "Printf.@printf(\"We have %d faces, each 32x32 pixels.\", M)"
   ]
  },
  {
   "cell_type": "markdown",
   "metadata": {
    "scrolled": true
   },
   "source": [
    "## Testing it out with scikit-learn's PCA"
   ]
  },
  {
   "cell_type": "code",
   "execution_count": 93,
   "metadata": {},
   "outputs": [
    {
     "data": {
      "text/plain": [
       "PyObject PCA(copy=True, iterated_power='auto', n_components=None, random_state=None,\n",
       "    svd_solver='auto', tol=0.0, whiten=False)"
      ]
     },
     "execution_count": 93,
     "metadata": {},
     "output_type": "execute_result"
    }
   ],
   "source": [
    "pca = SkDecomposition.PCA()\n",
    "pca.fit(faces)"
   ]
  },
  {
   "cell_type": "code",
   "execution_count": 102,
   "metadata": {},
   "outputs": [
    {
     "name": "stdout",
     "output_type": "stream",
     "text": [
      "With  2 components, variance explained = 36%\n",
      "With  3 components, variance explained = 71%\n",
      "With  4 components, variance explained = 76%\n",
      "With  5 components, variance explained = 79%\n",
      "With  6 components, variance explained = 80%\n",
      "With  7 components, variance explained = 82%\n",
      "With  8 components, variance explained = 83%\n",
      "With  9 components, variance explained = 84%\n",
      "With 10 components, variance explained = 85%\n",
      "With 11 components, variance explained = 85%\n",
      "With 12 components, variance explained = 86%\n",
      "With 13 components, variance explained = 86%\n",
      "With 14 components, variance explained = 87%\n",
      "With 15 components, variance explained = 87%\n",
      "With 16 components, variance explained = 88%\n",
      "With 17 components, variance explained = 88%\n",
      "With 18 components, variance explained = 88%\n",
      "With 19 components, variance explained = 89%\n",
      "With 20 components, variance explained = 89%\n",
      "With 21 components, variance explained = 89%\n"
     ]
    }
   ],
   "source": [
    "cumulative_var_expl = cumsum(pca.explained_variance_ratio_)\n",
    "for i in 1:20\n",
    "    Printf.@printf(\"With %2d components, variance explained = %.0f%%\\n\", i+1, cumulative_var_expl[i]*100)\n",
    "end"
   ]
  },
  {
   "cell_type": "markdown",
   "metadata": {},
   "source": [
    "## Our own implementation"
   ]
  },
  {
   "cell_type": "code",
   "execution_count": 107,
   "metadata": {},
   "outputs": [],
   "source": [
    "pixel_means = [mean(faces[:,i]) for i in 1:size(faces)[2]]\n",
    "faces_centered = faces .- pixel_means'\n",
    "F = svd(faces_centered, full=false)\n",
    "Z = F.U*Matrix(Diagonal(F.S));"
   ]
  },
  {
   "cell_type": "code",
   "execution_count": 109,
   "metadata": {},
   "outputs": [
    {
     "data": {
      "text/plain": [
       "(1024,)"
      ]
     },
     "execution_count": 109,
     "metadata": {},
     "output_type": "execute_result"
    }
   ],
   "source": [
    "size(pixel_means)"
   ]
  },
  {
   "cell_type": "code",
   "execution_count": 110,
   "metadata": {},
   "outputs": [
    {
     "data": {
      "text/plain": [
       "(2414, 1024)"
      ]
     },
     "execution_count": 110,
     "metadata": {},
     "output_type": "execute_result"
    }
   ],
   "source": [
    "size(Z)"
   ]
  },
  {
   "cell_type": "code",
   "execution_count": 112,
   "metadata": {},
   "outputs": [
    {
     "data": {
      "text/plain": [
       "(1024, 1024)"
      ]
     },
     "execution_count": 112,
     "metadata": {},
     "output_type": "execute_result"
    }
   ],
   "source": [
    "size(F.Vt)"
   ]
  },
  {
   "cell_type": "code",
   "execution_count": 117,
   "metadata": {},
   "outputs": [
    {
     "name": "stdout",
     "output_type": "stream",
     "text": [
      "With  1 components, variance explained = 36%\n",
      "With  2 components, variance explained = 71%\n",
      "With  3 components, variance explained = 76%\n",
      "With  4 components, variance explained = 79%\n",
      "With  5 components, variance explained = 80%\n",
      "With  6 components, variance explained = 82%\n",
      "With  7 components, variance explained = 83%\n",
      "With  8 components, variance explained = 84%\n",
      "With  9 components, variance explained = 85%\n",
      "With 10 components, variance explained = 85%\n",
      "With 11 components, variance explained = 86%\n",
      "With 12 components, variance explained = 86%\n",
      "With 13 components, variance explained = 87%\n",
      "With 14 components, variance explained = 87%\n",
      "With 15 components, variance explained = 88%\n",
      "With 16 components, variance explained = 88%\n",
      "With 17 components, variance explained = 88%\n",
      "With 18 components, variance explained = 89%\n",
      "With 19 components, variance explained = 89%\n"
     ]
    }
   ],
   "source": [
    "for i in 1:19\n",
    "    reconstr = Z[:,1:i]*F.Vt[1:i,:]\n",
    "    var_expl = 1-sum((reconstr-faces_centered).^2)/sum(faces_centered.^2)\n",
    "    Printf.@printf(\"With %2d components, variance explained = %.0f%%\\n\", i, var_expl*100)\n",
    "end"
   ]
  },
  {
   "cell_type": "code",
   "execution_count": null,
   "metadata": {},
   "outputs": [],
   "source": []
  }
 ],
 "metadata": {
  "kernelspec": {
   "display_name": "Julia 0.7.0",
   "language": "julia",
   "name": "julia-0.7"
  },
  "language_info": {
   "file_extension": ".jl",
   "mimetype": "application/julia",
   "name": "julia",
   "version": "0.7.0"
  }
 },
 "nbformat": 4,
 "nbformat_minor": 2
}
